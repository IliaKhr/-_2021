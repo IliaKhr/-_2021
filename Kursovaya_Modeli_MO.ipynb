{
  "nbformat": 4,
  "nbformat_minor": 0,
  "metadata": {
    "colab": {
      "name": "Курсовая Модели МО.ipynb",
      "provenance": [],
      "collapsed_sections": []
    },
    "kernelspec": {
      "name": "python3",
      "display_name": "Python 3"
    },
    "language_info": {
      "name": "python"
    }
  },
  "cells": [
    {
      "cell_type": "code",
      "metadata": {
        "colab": {
          "base_uri": "https://localhost:8080/"
        },
        "id": "aDVJ_A567PGn",
        "outputId": "dcfbca00-5a41-4492-b688-684a81ed4b54"
      },
      "source": [
        "from google.colab import drive \n",
        "drive.mount('/content/gdrive')"
      ],
      "execution_count": null,
      "outputs": [
        {
          "output_type": "stream",
          "text": [
            "Mounted at /content/gdrive\n"
          ],
          "name": "stdout"
        }
      ]
    },
    {
      "cell_type": "code",
      "metadata": {
        "id": "rrPElsV07pkz"
      },
      "source": [
        "PATH_TO_TRAIN_DATA = 'gdrive/MyDrive/WA_Fn-UseC_-Telco-Customer-Churn.csv'"
      ],
      "execution_count": null,
      "outputs": []
    },
    {
      "cell_type": "code",
      "metadata": {
        "colab": {
          "base_uri": "https://localhost:8080/",
          "height": 309
        },
        "id": "IG-FMIXZ7pqU",
        "outputId": "24b77a57-4e41-4522-d619-13ec836808c5"
      },
      "source": [
        "import pandas as pd\n",
        "\n",
        "df = pd.read_csv(PATH_TO_TRAIN_DATA)\n",
        "df.head(5)"
      ],
      "execution_count": null,
      "outputs": [
        {
          "output_type": "execute_result",
          "data": {
            "text/html": [
              "<div>\n",
              "<style scoped>\n",
              "    .dataframe tbody tr th:only-of-type {\n",
              "        vertical-align: middle;\n",
              "    }\n",
              "\n",
              "    .dataframe tbody tr th {\n",
              "        vertical-align: top;\n",
              "    }\n",
              "\n",
              "    .dataframe thead th {\n",
              "        text-align: right;\n",
              "    }\n",
              "</style>\n",
              "<table border=\"1\" class=\"dataframe\">\n",
              "  <thead>\n",
              "    <tr style=\"text-align: right;\">\n",
              "      <th></th>\n",
              "      <th>customerID</th>\n",
              "      <th>gender</th>\n",
              "      <th>SeniorCitizen</th>\n",
              "      <th>Partner</th>\n",
              "      <th>Dependents</th>\n",
              "      <th>tenure</th>\n",
              "      <th>PhoneService</th>\n",
              "      <th>MultipleLines</th>\n",
              "      <th>InternetService</th>\n",
              "      <th>OnlineSecurity</th>\n",
              "      <th>OnlineBackup</th>\n",
              "      <th>DeviceProtection</th>\n",
              "      <th>TechSupport</th>\n",
              "      <th>StreamingTV</th>\n",
              "      <th>StreamingMovies</th>\n",
              "      <th>Contract</th>\n",
              "      <th>PaperlessBilling</th>\n",
              "      <th>PaymentMethod</th>\n",
              "      <th>MonthlyCharges</th>\n",
              "      <th>TotalCharges</th>\n",
              "      <th>Churn</th>\n",
              "    </tr>\n",
              "  </thead>\n",
              "  <tbody>\n",
              "    <tr>\n",
              "      <th>0</th>\n",
              "      <td>7590-VHVEG</td>\n",
              "      <td>Female</td>\n",
              "      <td>0</td>\n",
              "      <td>Yes</td>\n",
              "      <td>No</td>\n",
              "      <td>1</td>\n",
              "      <td>No</td>\n",
              "      <td>No phone service</td>\n",
              "      <td>DSL</td>\n",
              "      <td>No</td>\n",
              "      <td>Yes</td>\n",
              "      <td>No</td>\n",
              "      <td>No</td>\n",
              "      <td>No</td>\n",
              "      <td>No</td>\n",
              "      <td>Month-to-month</td>\n",
              "      <td>Yes</td>\n",
              "      <td>Electronic check</td>\n",
              "      <td>29.85</td>\n",
              "      <td>29.85</td>\n",
              "      <td>No</td>\n",
              "    </tr>\n",
              "    <tr>\n",
              "      <th>1</th>\n",
              "      <td>5575-GNVDE</td>\n",
              "      <td>Male</td>\n",
              "      <td>0</td>\n",
              "      <td>No</td>\n",
              "      <td>No</td>\n",
              "      <td>34</td>\n",
              "      <td>Yes</td>\n",
              "      <td>No</td>\n",
              "      <td>DSL</td>\n",
              "      <td>Yes</td>\n",
              "      <td>No</td>\n",
              "      <td>Yes</td>\n",
              "      <td>No</td>\n",
              "      <td>No</td>\n",
              "      <td>No</td>\n",
              "      <td>One year</td>\n",
              "      <td>No</td>\n",
              "      <td>Mailed check</td>\n",
              "      <td>56.95</td>\n",
              "      <td>1889.5</td>\n",
              "      <td>No</td>\n",
              "    </tr>\n",
              "    <tr>\n",
              "      <th>2</th>\n",
              "      <td>3668-QPYBK</td>\n",
              "      <td>Male</td>\n",
              "      <td>0</td>\n",
              "      <td>No</td>\n",
              "      <td>No</td>\n",
              "      <td>2</td>\n",
              "      <td>Yes</td>\n",
              "      <td>No</td>\n",
              "      <td>DSL</td>\n",
              "      <td>Yes</td>\n",
              "      <td>Yes</td>\n",
              "      <td>No</td>\n",
              "      <td>No</td>\n",
              "      <td>No</td>\n",
              "      <td>No</td>\n",
              "      <td>Month-to-month</td>\n",
              "      <td>Yes</td>\n",
              "      <td>Mailed check</td>\n",
              "      <td>53.85</td>\n",
              "      <td>108.15</td>\n",
              "      <td>Yes</td>\n",
              "    </tr>\n",
              "    <tr>\n",
              "      <th>3</th>\n",
              "      <td>7795-CFOCW</td>\n",
              "      <td>Male</td>\n",
              "      <td>0</td>\n",
              "      <td>No</td>\n",
              "      <td>No</td>\n",
              "      <td>45</td>\n",
              "      <td>No</td>\n",
              "      <td>No phone service</td>\n",
              "      <td>DSL</td>\n",
              "      <td>Yes</td>\n",
              "      <td>No</td>\n",
              "      <td>Yes</td>\n",
              "      <td>Yes</td>\n",
              "      <td>No</td>\n",
              "      <td>No</td>\n",
              "      <td>One year</td>\n",
              "      <td>No</td>\n",
              "      <td>Bank transfer (automatic)</td>\n",
              "      <td>42.30</td>\n",
              "      <td>1840.75</td>\n",
              "      <td>No</td>\n",
              "    </tr>\n",
              "    <tr>\n",
              "      <th>4</th>\n",
              "      <td>9237-HQITU</td>\n",
              "      <td>Female</td>\n",
              "      <td>0</td>\n",
              "      <td>No</td>\n",
              "      <td>No</td>\n",
              "      <td>2</td>\n",
              "      <td>Yes</td>\n",
              "      <td>No</td>\n",
              "      <td>Fiber optic</td>\n",
              "      <td>No</td>\n",
              "      <td>No</td>\n",
              "      <td>No</td>\n",
              "      <td>No</td>\n",
              "      <td>No</td>\n",
              "      <td>No</td>\n",
              "      <td>Month-to-month</td>\n",
              "      <td>Yes</td>\n",
              "      <td>Electronic check</td>\n",
              "      <td>70.70</td>\n",
              "      <td>151.65</td>\n",
              "      <td>Yes</td>\n",
              "    </tr>\n",
              "  </tbody>\n",
              "</table>\n",
              "</div>"
            ],
            "text/plain": [
              "   customerID  gender  SeniorCitizen  ... MonthlyCharges TotalCharges  Churn\n",
              "0  7590-VHVEG  Female              0  ...          29.85        29.85     No\n",
              "1  5575-GNVDE    Male              0  ...          56.95       1889.5     No\n",
              "2  3668-QPYBK    Male              0  ...          53.85       108.15    Yes\n",
              "3  7795-CFOCW    Male              0  ...          42.30      1840.75     No\n",
              "4  9237-HQITU  Female              0  ...          70.70       151.65    Yes\n",
              "\n",
              "[5 rows x 21 columns]"
            ]
          },
          "metadata": {
            "tags": []
          },
          "execution_count": 6
        }
      ]
    },
    {
      "cell_type": "code",
      "metadata": {
        "colab": {
          "base_uri": "https://localhost:8080/"
        },
        "id": "VpLezRdDC5Sv",
        "outputId": "f9012709-1807-42b4-9948-bf86adffe9f4"
      },
      "source": [
        "churn_map = {\"Yes\":1, \"No\":0}\n",
        "df[\"Churn\"] = df[\"Churn\"].map(churn_map)\n",
        "df[\"Churn\"].value_counts()"
      ],
      "execution_count": null,
      "outputs": [
        {
          "output_type": "execute_result",
          "data": {
            "text/plain": [
              "0    5174\n",
              "1    1869\n",
              "Name: Churn, dtype: int64"
            ]
          },
          "metadata": {
            "tags": []
          },
          "execution_count": 7
        }
      ]
    },
    {
      "cell_type": "code",
      "metadata": {
        "colab": {
          "base_uri": "https://localhost:8080/",
          "height": 1000
        },
        "id": "BOKbusWxC5Wz",
        "outputId": "0ec4d40b-b98f-49d7-d08f-75d3c400330c"
      },
      "source": [
        "display(df.head())\n",
        "display(df.describe())\n",
        "display(df.shape)\n",
        "display(df.info())"
      ],
      "execution_count": null,
      "outputs": [
        {
          "output_type": "display_data",
          "data": {
            "text/html": [
              "<div>\n",
              "<style scoped>\n",
              "    .dataframe tbody tr th:only-of-type {\n",
              "        vertical-align: middle;\n",
              "    }\n",
              "\n",
              "    .dataframe tbody tr th {\n",
              "        vertical-align: top;\n",
              "    }\n",
              "\n",
              "    .dataframe thead th {\n",
              "        text-align: right;\n",
              "    }\n",
              "</style>\n",
              "<table border=\"1\" class=\"dataframe\">\n",
              "  <thead>\n",
              "    <tr style=\"text-align: right;\">\n",
              "      <th></th>\n",
              "      <th>customerID</th>\n",
              "      <th>gender</th>\n",
              "      <th>SeniorCitizen</th>\n",
              "      <th>Partner</th>\n",
              "      <th>Dependents</th>\n",
              "      <th>tenure</th>\n",
              "      <th>PhoneService</th>\n",
              "      <th>MultipleLines</th>\n",
              "      <th>InternetService</th>\n",
              "      <th>OnlineSecurity</th>\n",
              "      <th>OnlineBackup</th>\n",
              "      <th>DeviceProtection</th>\n",
              "      <th>TechSupport</th>\n",
              "      <th>StreamingTV</th>\n",
              "      <th>StreamingMovies</th>\n",
              "      <th>Contract</th>\n",
              "      <th>PaperlessBilling</th>\n",
              "      <th>PaymentMethod</th>\n",
              "      <th>MonthlyCharges</th>\n",
              "      <th>TotalCharges</th>\n",
              "      <th>Churn</th>\n",
              "    </tr>\n",
              "  </thead>\n",
              "  <tbody>\n",
              "    <tr>\n",
              "      <th>0</th>\n",
              "      <td>7590-VHVEG</td>\n",
              "      <td>Female</td>\n",
              "      <td>0</td>\n",
              "      <td>Yes</td>\n",
              "      <td>No</td>\n",
              "      <td>1</td>\n",
              "      <td>No</td>\n",
              "      <td>No phone service</td>\n",
              "      <td>DSL</td>\n",
              "      <td>No</td>\n",
              "      <td>Yes</td>\n",
              "      <td>No</td>\n",
              "      <td>No</td>\n",
              "      <td>No</td>\n",
              "      <td>No</td>\n",
              "      <td>Month-to-month</td>\n",
              "      <td>Yes</td>\n",
              "      <td>Electronic check</td>\n",
              "      <td>29.85</td>\n",
              "      <td>29.85</td>\n",
              "      <td>0</td>\n",
              "    </tr>\n",
              "    <tr>\n",
              "      <th>1</th>\n",
              "      <td>5575-GNVDE</td>\n",
              "      <td>Male</td>\n",
              "      <td>0</td>\n",
              "      <td>No</td>\n",
              "      <td>No</td>\n",
              "      <td>34</td>\n",
              "      <td>Yes</td>\n",
              "      <td>No</td>\n",
              "      <td>DSL</td>\n",
              "      <td>Yes</td>\n",
              "      <td>No</td>\n",
              "      <td>Yes</td>\n",
              "      <td>No</td>\n",
              "      <td>No</td>\n",
              "      <td>No</td>\n",
              "      <td>One year</td>\n",
              "      <td>No</td>\n",
              "      <td>Mailed check</td>\n",
              "      <td>56.95</td>\n",
              "      <td>1889.5</td>\n",
              "      <td>0</td>\n",
              "    </tr>\n",
              "    <tr>\n",
              "      <th>2</th>\n",
              "      <td>3668-QPYBK</td>\n",
              "      <td>Male</td>\n",
              "      <td>0</td>\n",
              "      <td>No</td>\n",
              "      <td>No</td>\n",
              "      <td>2</td>\n",
              "      <td>Yes</td>\n",
              "      <td>No</td>\n",
              "      <td>DSL</td>\n",
              "      <td>Yes</td>\n",
              "      <td>Yes</td>\n",
              "      <td>No</td>\n",
              "      <td>No</td>\n",
              "      <td>No</td>\n",
              "      <td>No</td>\n",
              "      <td>Month-to-month</td>\n",
              "      <td>Yes</td>\n",
              "      <td>Mailed check</td>\n",
              "      <td>53.85</td>\n",
              "      <td>108.15</td>\n",
              "      <td>1</td>\n",
              "    </tr>\n",
              "    <tr>\n",
              "      <th>3</th>\n",
              "      <td>7795-CFOCW</td>\n",
              "      <td>Male</td>\n",
              "      <td>0</td>\n",
              "      <td>No</td>\n",
              "      <td>No</td>\n",
              "      <td>45</td>\n",
              "      <td>No</td>\n",
              "      <td>No phone service</td>\n",
              "      <td>DSL</td>\n",
              "      <td>Yes</td>\n",
              "      <td>No</td>\n",
              "      <td>Yes</td>\n",
              "      <td>Yes</td>\n",
              "      <td>No</td>\n",
              "      <td>No</td>\n",
              "      <td>One year</td>\n",
              "      <td>No</td>\n",
              "      <td>Bank transfer (automatic)</td>\n",
              "      <td>42.30</td>\n",
              "      <td>1840.75</td>\n",
              "      <td>0</td>\n",
              "    </tr>\n",
              "    <tr>\n",
              "      <th>4</th>\n",
              "      <td>9237-HQITU</td>\n",
              "      <td>Female</td>\n",
              "      <td>0</td>\n",
              "      <td>No</td>\n",
              "      <td>No</td>\n",
              "      <td>2</td>\n",
              "      <td>Yes</td>\n",
              "      <td>No</td>\n",
              "      <td>Fiber optic</td>\n",
              "      <td>No</td>\n",
              "      <td>No</td>\n",
              "      <td>No</td>\n",
              "      <td>No</td>\n",
              "      <td>No</td>\n",
              "      <td>No</td>\n",
              "      <td>Month-to-month</td>\n",
              "      <td>Yes</td>\n",
              "      <td>Electronic check</td>\n",
              "      <td>70.70</td>\n",
              "      <td>151.65</td>\n",
              "      <td>1</td>\n",
              "    </tr>\n",
              "  </tbody>\n",
              "</table>\n",
              "</div>"
            ],
            "text/plain": [
              "   customerID  gender  SeniorCitizen  ... MonthlyCharges TotalCharges  Churn\n",
              "0  7590-VHVEG  Female              0  ...          29.85        29.85      0\n",
              "1  5575-GNVDE    Male              0  ...          56.95       1889.5      0\n",
              "2  3668-QPYBK    Male              0  ...          53.85       108.15      1\n",
              "3  7795-CFOCW    Male              0  ...          42.30      1840.75      0\n",
              "4  9237-HQITU  Female              0  ...          70.70       151.65      1\n",
              "\n",
              "[5 rows x 21 columns]"
            ]
          },
          "metadata": {
            "tags": []
          }
        },
        {
          "output_type": "display_data",
          "data": {
            "text/html": [
              "<div>\n",
              "<style scoped>\n",
              "    .dataframe tbody tr th:only-of-type {\n",
              "        vertical-align: middle;\n",
              "    }\n",
              "\n",
              "    .dataframe tbody tr th {\n",
              "        vertical-align: top;\n",
              "    }\n",
              "\n",
              "    .dataframe thead th {\n",
              "        text-align: right;\n",
              "    }\n",
              "</style>\n",
              "<table border=\"1\" class=\"dataframe\">\n",
              "  <thead>\n",
              "    <tr style=\"text-align: right;\">\n",
              "      <th></th>\n",
              "      <th>SeniorCitizen</th>\n",
              "      <th>tenure</th>\n",
              "      <th>MonthlyCharges</th>\n",
              "      <th>Churn</th>\n",
              "    </tr>\n",
              "  </thead>\n",
              "  <tbody>\n",
              "    <tr>\n",
              "      <th>count</th>\n",
              "      <td>7043.000000</td>\n",
              "      <td>7043.000000</td>\n",
              "      <td>7043.000000</td>\n",
              "      <td>7043.000000</td>\n",
              "    </tr>\n",
              "    <tr>\n",
              "      <th>mean</th>\n",
              "      <td>0.162147</td>\n",
              "      <td>32.371149</td>\n",
              "      <td>64.761692</td>\n",
              "      <td>0.265370</td>\n",
              "    </tr>\n",
              "    <tr>\n",
              "      <th>std</th>\n",
              "      <td>0.368612</td>\n",
              "      <td>24.559481</td>\n",
              "      <td>30.090047</td>\n",
              "      <td>0.441561</td>\n",
              "    </tr>\n",
              "    <tr>\n",
              "      <th>min</th>\n",
              "      <td>0.000000</td>\n",
              "      <td>0.000000</td>\n",
              "      <td>18.250000</td>\n",
              "      <td>0.000000</td>\n",
              "    </tr>\n",
              "    <tr>\n",
              "      <th>25%</th>\n",
              "      <td>0.000000</td>\n",
              "      <td>9.000000</td>\n",
              "      <td>35.500000</td>\n",
              "      <td>0.000000</td>\n",
              "    </tr>\n",
              "    <tr>\n",
              "      <th>50%</th>\n",
              "      <td>0.000000</td>\n",
              "      <td>29.000000</td>\n",
              "      <td>70.350000</td>\n",
              "      <td>0.000000</td>\n",
              "    </tr>\n",
              "    <tr>\n",
              "      <th>75%</th>\n",
              "      <td>0.000000</td>\n",
              "      <td>55.000000</td>\n",
              "      <td>89.850000</td>\n",
              "      <td>1.000000</td>\n",
              "    </tr>\n",
              "    <tr>\n",
              "      <th>max</th>\n",
              "      <td>1.000000</td>\n",
              "      <td>72.000000</td>\n",
              "      <td>118.750000</td>\n",
              "      <td>1.000000</td>\n",
              "    </tr>\n",
              "  </tbody>\n",
              "</table>\n",
              "</div>"
            ],
            "text/plain": [
              "       SeniorCitizen       tenure  MonthlyCharges        Churn\n",
              "count    7043.000000  7043.000000     7043.000000  7043.000000\n",
              "mean        0.162147    32.371149       64.761692     0.265370\n",
              "std         0.368612    24.559481       30.090047     0.441561\n",
              "min         0.000000     0.000000       18.250000     0.000000\n",
              "25%         0.000000     9.000000       35.500000     0.000000\n",
              "50%         0.000000    29.000000       70.350000     0.000000\n",
              "75%         0.000000    55.000000       89.850000     1.000000\n",
              "max         1.000000    72.000000      118.750000     1.000000"
            ]
          },
          "metadata": {
            "tags": []
          }
        },
        {
          "output_type": "display_data",
          "data": {
            "text/plain": [
              "(7043, 21)"
            ]
          },
          "metadata": {
            "tags": []
          }
        },
        {
          "output_type": "stream",
          "text": [
            "<class 'pandas.core.frame.DataFrame'>\n",
            "RangeIndex: 7043 entries, 0 to 7042\n",
            "Data columns (total 21 columns):\n",
            " #   Column            Non-Null Count  Dtype  \n",
            "---  ------            --------------  -----  \n",
            " 0   customerID        7043 non-null   object \n",
            " 1   gender            7043 non-null   object \n",
            " 2   SeniorCitizen     7043 non-null   int64  \n",
            " 3   Partner           7043 non-null   object \n",
            " 4   Dependents        7043 non-null   object \n",
            " 5   tenure            7043 non-null   int64  \n",
            " 6   PhoneService      7043 non-null   object \n",
            " 7   MultipleLines     7043 non-null   object \n",
            " 8   InternetService   7043 non-null   object \n",
            " 9   OnlineSecurity    7043 non-null   object \n",
            " 10  OnlineBackup      7043 non-null   object \n",
            " 11  DeviceProtection  7043 non-null   object \n",
            " 12  TechSupport       7043 non-null   object \n",
            " 13  StreamingTV       7043 non-null   object \n",
            " 14  StreamingMovies   7043 non-null   object \n",
            " 15  Contract          7043 non-null   object \n",
            " 16  PaperlessBilling  7043 non-null   object \n",
            " 17  PaymentMethod     7043 non-null   object \n",
            " 18  MonthlyCharges    7043 non-null   float64\n",
            " 19  TotalCharges      7043 non-null   object \n",
            " 20  Churn             7043 non-null   int64  \n",
            "dtypes: float64(1), int64(3), object(17)\n",
            "memory usage: 1.1+ MB\n"
          ],
          "name": "stdout"
        },
        {
          "output_type": "display_data",
          "data": {
            "text/plain": [
              "None"
            ]
          },
          "metadata": {
            "tags": []
          }
        }
      ]
    },
    {
      "cell_type": "code",
      "metadata": {
        "colab": {
          "base_uri": "https://localhost:8080/"
        },
        "id": "xEmjPuk_178x",
        "outputId": "98e2362e-6d3d-4666-bf89-4b8e681800db"
      },
      "source": [
        "df.columns.values"
      ],
      "execution_count": null,
      "outputs": [
        {
          "output_type": "execute_result",
          "data": {
            "text/plain": [
              "array(['customerID', 'gender', 'SeniorCitizen', 'Partner', 'Dependents',\n",
              "       'tenure', 'PhoneService', 'MultipleLines', 'InternetService',\n",
              "       'OnlineSecurity', 'OnlineBackup', 'DeviceProtection',\n",
              "       'TechSupport', 'StreamingTV', 'StreamingMovies', 'Contract',\n",
              "       'PaperlessBilling', 'PaymentMethod', 'MonthlyCharges',\n",
              "       'TotalCharges', 'Churn'], dtype=object)"
            ]
          },
          "metadata": {
            "tags": []
          },
          "execution_count": 9
        }
      ]
    },
    {
      "cell_type": "code",
      "metadata": {
        "colab": {
          "base_uri": "https://localhost:8080/"
        },
        "id": "pxChF7Mp18DZ",
        "outputId": "14f90913-f393-4951-993d-07bd6412d006"
      },
      "source": [
        "df.TotalCharges = pd.to_numeric(df.TotalCharges, errors='coerce')\n",
        "df.isnull().sum()"
      ],
      "execution_count": null,
      "outputs": [
        {
          "output_type": "execute_result",
          "data": {
            "text/plain": [
              "customerID           0\n",
              "gender               0\n",
              "SeniorCitizen        0\n",
              "Partner              0\n",
              "Dependents           0\n",
              "tenure               0\n",
              "PhoneService         0\n",
              "MultipleLines        0\n",
              "InternetService      0\n",
              "OnlineSecurity       0\n",
              "OnlineBackup         0\n",
              "DeviceProtection     0\n",
              "TechSupport          0\n",
              "StreamingTV          0\n",
              "StreamingMovies      0\n",
              "Contract             0\n",
              "PaperlessBilling     0\n",
              "PaymentMethod        0\n",
              "MonthlyCharges       0\n",
              "TotalCharges        11\n",
              "Churn                0\n",
              "dtype: int64"
            ]
          },
          "metadata": {
            "tags": []
          },
          "execution_count": 10
        }
      ]
    },
    {
      "cell_type": "code",
      "metadata": {
        "colab": {
          "base_uri": "https://localhost:8080/"
        },
        "id": "ow2n573O2K4R",
        "outputId": "ff5861ed-eb3d-4837-a59b-5588d28292b2"
      },
      "source": [
        "df.shape"
      ],
      "execution_count": null,
      "outputs": [
        {
          "output_type": "execute_result",
          "data": {
            "text/plain": [
              "(7043, 21)"
            ]
          },
          "metadata": {
            "tags": []
          },
          "execution_count": 11
        }
      ]
    },
    {
      "cell_type": "code",
      "metadata": {
        "colab": {
          "base_uri": "https://localhost:8080/"
        },
        "id": "EUZwzt5cyZws",
        "outputId": "f3de5950-601d-4714-d166-152a280d42db"
      },
      "source": [
        "df.iloc[:, 1:].columns"
      ],
      "execution_count": null,
      "outputs": [
        {
          "output_type": "execute_result",
          "data": {
            "text/plain": [
              "Index(['gender', 'SeniorCitizen', 'Partner', 'Dependents', 'tenure',\n",
              "       'PhoneService', 'MultipleLines', 'InternetService', 'OnlineSecurity',\n",
              "       'OnlineBackup', 'DeviceProtection', 'TechSupport', 'StreamingTV',\n",
              "       'StreamingMovies', 'Contract', 'PaperlessBilling', 'PaymentMethod',\n",
              "       'MonthlyCharges', 'TotalCharges', 'Churn'],\n",
              "      dtype='object')"
            ]
          },
          "metadata": {
            "tags": []
          },
          "execution_count": 12
        }
      ]
    },
    {
      "cell_type": "code",
      "metadata": {
        "id": "iotDGVRQC5bs",
        "colab": {
          "base_uri": "https://localhost:8080/",
          "height": 258
        },
        "outputId": "cf0f6676-340d-4ef2-9c5c-5ad0559c7e26"
      },
      "source": [
        "df.dropna(inplace = True)\n",
        "#Remove customer IDs from the data set\n",
        "df2 = df.iloc[:,1:]\n",
        "#Convertin the predictor variable in a binary numeric variable\n",
        "df2['Churn'].replace(to_replace='Yes', value=1, inplace=True)\n",
        "df2['Churn'].replace(to_replace='No',  value=0, inplace=True)\n",
        "\n",
        "#Let's convert all the categorical variables into dummy variables\n",
        "df_dummies = pd.get_dummies(df2)\n",
        "df_dummies.head()"
      ],
      "execution_count": null,
      "outputs": [
        {
          "output_type": "execute_result",
          "data": {
            "text/html": [
              "<div>\n",
              "<style scoped>\n",
              "    .dataframe tbody tr th:only-of-type {\n",
              "        vertical-align: middle;\n",
              "    }\n",
              "\n",
              "    .dataframe tbody tr th {\n",
              "        vertical-align: top;\n",
              "    }\n",
              "\n",
              "    .dataframe thead th {\n",
              "        text-align: right;\n",
              "    }\n",
              "</style>\n",
              "<table border=\"1\" class=\"dataframe\">\n",
              "  <thead>\n",
              "    <tr style=\"text-align: right;\">\n",
              "      <th></th>\n",
              "      <th>SeniorCitizen</th>\n",
              "      <th>tenure</th>\n",
              "      <th>MonthlyCharges</th>\n",
              "      <th>TotalCharges</th>\n",
              "      <th>Churn</th>\n",
              "      <th>gender_Female</th>\n",
              "      <th>gender_Male</th>\n",
              "      <th>Partner_No</th>\n",
              "      <th>Partner_Yes</th>\n",
              "      <th>Dependents_No</th>\n",
              "      <th>Dependents_Yes</th>\n",
              "      <th>PhoneService_No</th>\n",
              "      <th>PhoneService_Yes</th>\n",
              "      <th>MultipleLines_No</th>\n",
              "      <th>MultipleLines_No phone service</th>\n",
              "      <th>MultipleLines_Yes</th>\n",
              "      <th>InternetService_DSL</th>\n",
              "      <th>InternetService_Fiber optic</th>\n",
              "      <th>InternetService_No</th>\n",
              "      <th>OnlineSecurity_No</th>\n",
              "      <th>OnlineSecurity_No internet service</th>\n",
              "      <th>OnlineSecurity_Yes</th>\n",
              "      <th>OnlineBackup_No</th>\n",
              "      <th>OnlineBackup_No internet service</th>\n",
              "      <th>OnlineBackup_Yes</th>\n",
              "      <th>DeviceProtection_No</th>\n",
              "      <th>DeviceProtection_No internet service</th>\n",
              "      <th>DeviceProtection_Yes</th>\n",
              "      <th>TechSupport_No</th>\n",
              "      <th>TechSupport_No internet service</th>\n",
              "      <th>TechSupport_Yes</th>\n",
              "      <th>StreamingTV_No</th>\n",
              "      <th>StreamingTV_No internet service</th>\n",
              "      <th>StreamingTV_Yes</th>\n",
              "      <th>StreamingMovies_No</th>\n",
              "      <th>StreamingMovies_No internet service</th>\n",
              "      <th>StreamingMovies_Yes</th>\n",
              "      <th>Contract_Month-to-month</th>\n",
              "      <th>Contract_One year</th>\n",
              "      <th>Contract_Two year</th>\n",
              "      <th>PaperlessBilling_No</th>\n",
              "      <th>PaperlessBilling_Yes</th>\n",
              "      <th>PaymentMethod_Bank transfer (automatic)</th>\n",
              "      <th>PaymentMethod_Credit card (automatic)</th>\n",
              "      <th>PaymentMethod_Electronic check</th>\n",
              "      <th>PaymentMethod_Mailed check</th>\n",
              "    </tr>\n",
              "  </thead>\n",
              "  <tbody>\n",
              "    <tr>\n",
              "      <th>0</th>\n",
              "      <td>0</td>\n",
              "      <td>1</td>\n",
              "      <td>29.85</td>\n",
              "      <td>29.85</td>\n",
              "      <td>0</td>\n",
              "      <td>1</td>\n",
              "      <td>0</td>\n",
              "      <td>0</td>\n",
              "      <td>1</td>\n",
              "      <td>1</td>\n",
              "      <td>0</td>\n",
              "      <td>1</td>\n",
              "      <td>0</td>\n",
              "      <td>0</td>\n",
              "      <td>1</td>\n",
              "      <td>0</td>\n",
              "      <td>1</td>\n",
              "      <td>0</td>\n",
              "      <td>0</td>\n",
              "      <td>1</td>\n",
              "      <td>0</td>\n",
              "      <td>0</td>\n",
              "      <td>0</td>\n",
              "      <td>0</td>\n",
              "      <td>1</td>\n",
              "      <td>1</td>\n",
              "      <td>0</td>\n",
              "      <td>0</td>\n",
              "      <td>1</td>\n",
              "      <td>0</td>\n",
              "      <td>0</td>\n",
              "      <td>1</td>\n",
              "      <td>0</td>\n",
              "      <td>0</td>\n",
              "      <td>1</td>\n",
              "      <td>0</td>\n",
              "      <td>0</td>\n",
              "      <td>1</td>\n",
              "      <td>0</td>\n",
              "      <td>0</td>\n",
              "      <td>0</td>\n",
              "      <td>1</td>\n",
              "      <td>0</td>\n",
              "      <td>0</td>\n",
              "      <td>1</td>\n",
              "      <td>0</td>\n",
              "    </tr>\n",
              "    <tr>\n",
              "      <th>1</th>\n",
              "      <td>0</td>\n",
              "      <td>34</td>\n",
              "      <td>56.95</td>\n",
              "      <td>1889.50</td>\n",
              "      <td>0</td>\n",
              "      <td>0</td>\n",
              "      <td>1</td>\n",
              "      <td>1</td>\n",
              "      <td>0</td>\n",
              "      <td>1</td>\n",
              "      <td>0</td>\n",
              "      <td>0</td>\n",
              "      <td>1</td>\n",
              "      <td>1</td>\n",
              "      <td>0</td>\n",
              "      <td>0</td>\n",
              "      <td>1</td>\n",
              "      <td>0</td>\n",
              "      <td>0</td>\n",
              "      <td>0</td>\n",
              "      <td>0</td>\n",
              "      <td>1</td>\n",
              "      <td>1</td>\n",
              "      <td>0</td>\n",
              "      <td>0</td>\n",
              "      <td>0</td>\n",
              "      <td>0</td>\n",
              "      <td>1</td>\n",
              "      <td>1</td>\n",
              "      <td>0</td>\n",
              "      <td>0</td>\n",
              "      <td>1</td>\n",
              "      <td>0</td>\n",
              "      <td>0</td>\n",
              "      <td>1</td>\n",
              "      <td>0</td>\n",
              "      <td>0</td>\n",
              "      <td>0</td>\n",
              "      <td>1</td>\n",
              "      <td>0</td>\n",
              "      <td>1</td>\n",
              "      <td>0</td>\n",
              "      <td>0</td>\n",
              "      <td>0</td>\n",
              "      <td>0</td>\n",
              "      <td>1</td>\n",
              "    </tr>\n",
              "    <tr>\n",
              "      <th>2</th>\n",
              "      <td>0</td>\n",
              "      <td>2</td>\n",
              "      <td>53.85</td>\n",
              "      <td>108.15</td>\n",
              "      <td>1</td>\n",
              "      <td>0</td>\n",
              "      <td>1</td>\n",
              "      <td>1</td>\n",
              "      <td>0</td>\n",
              "      <td>1</td>\n",
              "      <td>0</td>\n",
              "      <td>0</td>\n",
              "      <td>1</td>\n",
              "      <td>1</td>\n",
              "      <td>0</td>\n",
              "      <td>0</td>\n",
              "      <td>1</td>\n",
              "      <td>0</td>\n",
              "      <td>0</td>\n",
              "      <td>0</td>\n",
              "      <td>0</td>\n",
              "      <td>1</td>\n",
              "      <td>0</td>\n",
              "      <td>0</td>\n",
              "      <td>1</td>\n",
              "      <td>1</td>\n",
              "      <td>0</td>\n",
              "      <td>0</td>\n",
              "      <td>1</td>\n",
              "      <td>0</td>\n",
              "      <td>0</td>\n",
              "      <td>1</td>\n",
              "      <td>0</td>\n",
              "      <td>0</td>\n",
              "      <td>1</td>\n",
              "      <td>0</td>\n",
              "      <td>0</td>\n",
              "      <td>1</td>\n",
              "      <td>0</td>\n",
              "      <td>0</td>\n",
              "      <td>0</td>\n",
              "      <td>1</td>\n",
              "      <td>0</td>\n",
              "      <td>0</td>\n",
              "      <td>0</td>\n",
              "      <td>1</td>\n",
              "    </tr>\n",
              "    <tr>\n",
              "      <th>3</th>\n",
              "      <td>0</td>\n",
              "      <td>45</td>\n",
              "      <td>42.30</td>\n",
              "      <td>1840.75</td>\n",
              "      <td>0</td>\n",
              "      <td>0</td>\n",
              "      <td>1</td>\n",
              "      <td>1</td>\n",
              "      <td>0</td>\n",
              "      <td>1</td>\n",
              "      <td>0</td>\n",
              "      <td>1</td>\n",
              "      <td>0</td>\n",
              "      <td>0</td>\n",
              "      <td>1</td>\n",
              "      <td>0</td>\n",
              "      <td>1</td>\n",
              "      <td>0</td>\n",
              "      <td>0</td>\n",
              "      <td>0</td>\n",
              "      <td>0</td>\n",
              "      <td>1</td>\n",
              "      <td>1</td>\n",
              "      <td>0</td>\n",
              "      <td>0</td>\n",
              "      <td>0</td>\n",
              "      <td>0</td>\n",
              "      <td>1</td>\n",
              "      <td>0</td>\n",
              "      <td>0</td>\n",
              "      <td>1</td>\n",
              "      <td>1</td>\n",
              "      <td>0</td>\n",
              "      <td>0</td>\n",
              "      <td>1</td>\n",
              "      <td>0</td>\n",
              "      <td>0</td>\n",
              "      <td>0</td>\n",
              "      <td>1</td>\n",
              "      <td>0</td>\n",
              "      <td>1</td>\n",
              "      <td>0</td>\n",
              "      <td>1</td>\n",
              "      <td>0</td>\n",
              "      <td>0</td>\n",
              "      <td>0</td>\n",
              "    </tr>\n",
              "    <tr>\n",
              "      <th>4</th>\n",
              "      <td>0</td>\n",
              "      <td>2</td>\n",
              "      <td>70.70</td>\n",
              "      <td>151.65</td>\n",
              "      <td>1</td>\n",
              "      <td>1</td>\n",
              "      <td>0</td>\n",
              "      <td>1</td>\n",
              "      <td>0</td>\n",
              "      <td>1</td>\n",
              "      <td>0</td>\n",
              "      <td>0</td>\n",
              "      <td>1</td>\n",
              "      <td>1</td>\n",
              "      <td>0</td>\n",
              "      <td>0</td>\n",
              "      <td>0</td>\n",
              "      <td>1</td>\n",
              "      <td>0</td>\n",
              "      <td>1</td>\n",
              "      <td>0</td>\n",
              "      <td>0</td>\n",
              "      <td>1</td>\n",
              "      <td>0</td>\n",
              "      <td>0</td>\n",
              "      <td>1</td>\n",
              "      <td>0</td>\n",
              "      <td>0</td>\n",
              "      <td>1</td>\n",
              "      <td>0</td>\n",
              "      <td>0</td>\n",
              "      <td>1</td>\n",
              "      <td>0</td>\n",
              "      <td>0</td>\n",
              "      <td>1</td>\n",
              "      <td>0</td>\n",
              "      <td>0</td>\n",
              "      <td>1</td>\n",
              "      <td>0</td>\n",
              "      <td>0</td>\n",
              "      <td>0</td>\n",
              "      <td>1</td>\n",
              "      <td>0</td>\n",
              "      <td>0</td>\n",
              "      <td>1</td>\n",
              "      <td>0</td>\n",
              "    </tr>\n",
              "  </tbody>\n",
              "</table>\n",
              "</div>"
            ],
            "text/plain": [
              "   SeniorCitizen  ...  PaymentMethod_Mailed check\n",
              "0              0  ...                           0\n",
              "1              0  ...                           1\n",
              "2              0  ...                           1\n",
              "3              0  ...                           0\n",
              "4              0  ...                           0\n",
              "\n",
              "[5 rows x 46 columns]"
            ]
          },
          "metadata": {
            "tags": []
          },
          "execution_count": 13
        }
      ]
    },
    {
      "cell_type": "code",
      "metadata": {
        "colab": {
          "base_uri": "https://localhost:8080/",
          "height": 705
        },
        "id": "TMMzaekEyVQC",
        "outputId": "214e05f0-4395-4a1c-9a89-cfc6b6b5aa37"
      },
      "source": [
        "import matplotlib.ticker as mtick # For specifying the axes tick format \n",
        "import matplotlib.pyplot as plt\n",
        "\n",
        "#Get Correlation of \"Churn\" with other variables:\n",
        "plt.figure(figsize=(15,8))\n",
        "df_dummies.corr()['Churn'].sort_values(ascending = False).plot(kind='bar')"
      ],
      "execution_count": null,
      "outputs": [
        {
          "output_type": "execute_result",
          "data": {
            "text/plain": [
              "<matplotlib.axes._subplots.AxesSubplot at 0x7f26dd5caf90>"
            ]
          },
          "metadata": {
            "tags": []
          },
          "execution_count": 14
        },
        {
          "output_type": "display_data",
          "data": {
            "image/png": "[encoded data removed]",
            "text/plain": [
              "<Figure size 1080x576 with 1 Axes>"
            ]
          },
          "metadata": {
            "tags": [],
            "needs_background": "light"
          }
        }
      ]
    },
    {
      "cell_type": "code",
      "metadata": {
        "id": "xcnBRyYnyVVE"
      },
      "source": [
        "# We will use the data frame where we had created dummy variables\n",
        "y = df_dummies['Churn'].values\n",
        "X = df_dummies.drop(columns = ['Churn'])\n",
        "\n",
        "# Scaling all the variables to a range of 0 to 1\n",
        "from sklearn.preprocessing import MinMaxScaler\n",
        "\n",
        "features = X.columns.values\n",
        "\n",
        "scaler = MinMaxScaler(feature_range = (0,1))\n",
        "scaler.fit(X)\n",
        "\n",
        "X = pd.DataFrame(scaler.transform(X))\n",
        "\n",
        "X.columns = features"
      ],
      "execution_count": null,
      "outputs": []
    },
    {
      "cell_type": "code",
      "metadata": {
        "id": "K9myB3tVyVaJ"
      },
      "source": [
        "# Create Train & Test Data\n",
        "\n",
        "from sklearn.model_selection import train_test_split\n",
        "X_train, X_test, y_train, y_test = train_test_split(X, y, test_size=0.3)"
      ],
      "execution_count": null,
      "outputs": []
    },
    {
      "cell_type": "code",
      "metadata": {
        "colab": {
          "base_uri": "https://localhost:8080/"
        },
        "id": "c0UKC63M45M3",
        "outputId": "83d116dc-c6fb-4313-9b9c-5bd05d3a434b"
      },
      "source": [
        "X_train.shape, X_test.shape, y_train.shape, y_test.shape"
      ],
      "execution_count": null,
      "outputs": [
        {
          "output_type": "execute_result",
          "data": {
            "text/plain": [
              "((4922, 45), (2110, 45), (4922,), (2110,))"
            ]
          },
          "metadata": {
            "tags": []
          },
          "execution_count": 17
        }
      ]
    },
    {
      "cell_type": "code",
      "metadata": {
        "id": "JLH92xclhR0c",
        "colab": {
          "base_uri": "https://localhost:8080/"
        },
        "outputId": "7fc0bbe2-3cf6-4a31-d52a-bb857494433c"
      },
      "source": [
        "# SMOTE\n",
        "from imblearn.over_sampling import SMOTE\n",
        "oversample_smote = SMOTE()\n",
        "# ADASYN\n",
        "from imblearn.over_sampling import ADASYN\n",
        "oversample_adasyn = ADASYN()\n",
        "# ROS\n",
        "from imblearn.over_sampling import RandomOverSampler\n",
        "ros = RandomOverSampler()\n",
        "# RUS\n",
        "from imblearn.under_sampling import RandomUnderSampler\n",
        "rus = RandomUnderSampler()\n",
        "# SMOTE BorderLine\n",
        "from imblearn.over_sampling import BorderlineSMOTE\n",
        "smote_borderline = BorderlineSMOTE()\n",
        "# SMOTE ENN\n",
        "from imblearn.combine import SMOTEENN\n",
        "smote_enn = SMOTEENN()\n",
        "# SMOTE TOMEK\n",
        "from imblearn.combine import SMOTETomek\n",
        "smote_tomek = SMOTETomek()"
      ],
      "execution_count": null,
      "outputs": [
        {
          "output_type": "stream",
          "text": [
            "/usr/local/lib/python3.7/dist-packages/sklearn/externals/six.py:31: FutureWarning: The module is deprecated in version 0.21 and will be removed in version 0.23 since we've dropped support for Python 2.7. Please rely on the official version of six (https://pypi.org/project/six/).\n",
            "  \"(https://pypi.org/project/six/).\", FutureWarning)\n",
            "/usr/local/lib/python3.7/dist-packages/sklearn/utils/deprecation.py:144: FutureWarning: The sklearn.neighbors.base module is  deprecated in version 0.22 and will be removed in version 0.24. The corresponding classes / functions should instead be imported from sklearn.neighbors. Anything that cannot be imported from sklearn.neighbors is now part of the private API.\n",
            "  warnings.warn(message, FutureWarning)\n"
          ],
          "name": "stderr"
        }
      ]
    },
    {
      "cell_type": "code",
      "metadata": {
        "id": "7dvXlruvhR_6"
      },
      "source": [
        "# RECALL\n",
        "# PRECISION\n",
        "# F1 Score\n",
        "from sklearn.metrics import classification_report\n",
        "# AUPRC\n",
        "from sklearn.metrics import average_precision_score"
      ],
      "execution_count": null,
      "outputs": []
    },
    {
      "cell_type": "code",
      "metadata": {
        "colab": {
          "base_uri": "https://localhost:8080/"
        },
        "id": "cOGqR_HjXQAn",
        "outputId": "e888ca86-08af-447d-bbdd-2f58a84a3660"
      },
      "source": [
        "# Все выборки\n",
        "\n",
        "X_train_smote, y_train_smote =  oversample_smote.fit_resample(X_train, y_train)\n",
        "X_train_adasyn, y_train_adasyn =  oversample_adasyn.fit_resample(X_train, y_train)\n",
        "print('SMOTE: ', X_train_smote.shape, y_train_smote.shape)\n",
        "print('ADASYN: ', X_train_adasyn.shape, y_train_adasyn.shape)\n",
        "\n",
        "\n",
        "X_train_ros, y_train_ros =  ros.fit_resample(X_train, y_train)\n",
        "X_train_rus, y_train_rus =  rus.fit_resample(X_train, y_train)\n",
        "print('ROS: ', X_train_ros.shape, y_train_ros.shape)\n",
        "print('RUS: ', X_train_rus.shape, y_train_rus.shape)\n",
        "\n",
        "X_train_smote_bl, y_train_smote_bl =  smote_borderline.fit_resample(X_train, y_train)\n",
        "X_train_smote_enn, y_train_smote_enn =  smote_enn.fit_resample(X_train, y_train)\n",
        "X_train_smote_tomek, y_train_smote_tomek =  smote_tomek.fit_resample(X_train, y_train)\n",
        "print('SMOTE BorderLine: ', X_train_smote_bl.shape, y_train_smote_bl.shape)\n",
        "print('SMOTE ENN: ', X_train_smote_enn.shape, y_train_smote_enn.shape)\n",
        "print('SMOTE Tomek: ', X_train_smote_tomek.shape, y_train_smote_tomek.shape)"
      ],
      "execution_count": null,
      "outputs": [
        {
          "output_type": "stream",
          "text": [
            "/usr/local/lib/python3.7/dist-packages/sklearn/utils/deprecation.py:87: FutureWarning: Function safe_indexing is deprecated; safe_indexing is deprecated in version 0.22 and will be removed in version 0.24.\n",
            "  warnings.warn(msg, category=FutureWarning)\n",
            "/usr/local/lib/python3.7/dist-packages/sklearn/utils/deprecation.py:87: FutureWarning: Function safe_indexing is deprecated; safe_indexing is deprecated in version 0.22 and will be removed in version 0.24.\n",
            "  warnings.warn(msg, category=FutureWarning)\n"
          ],
          "name": "stderr"
        },
        {
          "output_type": "stream",
          "text": [
            "SMOTE:  (7226, 45) (7226,)\n",
            "ADASYN:  (7228, 45) (7228,)\n",
            "ROS:  (7226, 45) (7226,)\n",
            "RUS:  (2618, 45) (2618,)\n"
          ],
          "name": "stdout"
        },
        {
          "output_type": "stream",
          "text": [
            "/usr/local/lib/python3.7/dist-packages/sklearn/utils/deprecation.py:87: FutureWarning: Function safe_indexing is deprecated; safe_indexing is deprecated in version 0.22 and will be removed in version 0.24.\n",
            "  warnings.warn(msg, category=FutureWarning)\n",
            "/usr/local/lib/python3.7/dist-packages/sklearn/utils/deprecation.py:87: FutureWarning: Function safe_indexing is deprecated; safe_indexing is deprecated in version 0.22 and will be removed in version 0.24.\n",
            "  warnings.warn(msg, category=FutureWarning)\n",
            "/usr/local/lib/python3.7/dist-packages/sklearn/utils/deprecation.py:87: FutureWarning: Function safe_indexing is deprecated; safe_indexing is deprecated in version 0.22 and will be removed in version 0.24.\n",
            "  warnings.warn(msg, category=FutureWarning)\n",
            "/usr/local/lib/python3.7/dist-packages/sklearn/utils/deprecation.py:87: FutureWarning: Function safe_indexing is deprecated; safe_indexing is deprecated in version 0.22 and will be removed in version 0.24.\n",
            "  warnings.warn(msg, category=FutureWarning)\n",
            "/usr/local/lib/python3.7/dist-packages/sklearn/utils/deprecation.py:87: FutureWarning: Function safe_indexing is deprecated; safe_indexing is deprecated in version 0.22 and will be removed in version 0.24.\n",
            "  warnings.warn(msg, category=FutureWarning)\n",
            "/usr/local/lib/python3.7/dist-packages/sklearn/utils/deprecation.py:87: FutureWarning: Function safe_indexing is deprecated; safe_indexing is deprecated in version 0.22 and will be removed in version 0.24.\n",
            "  warnings.warn(msg, category=FutureWarning)\n",
            "/usr/local/lib/python3.7/dist-packages/sklearn/utils/deprecation.py:87: FutureWarning: Function safe_indexing is deprecated; safe_indexing is deprecated in version 0.22 and will be removed in version 0.24.\n",
            "  warnings.warn(msg, category=FutureWarning)\n",
            "/usr/local/lib/python3.7/dist-packages/sklearn/utils/deprecation.py:87: FutureWarning: Function safe_indexing is deprecated; safe_indexing is deprecated in version 0.22 and will be removed in version 0.24.\n",
            "  warnings.warn(msg, category=FutureWarning)\n",
            "/usr/local/lib/python3.7/dist-packages/sklearn/utils/deprecation.py:87: FutureWarning: Function safe_indexing is deprecated; safe_indexing is deprecated in version 0.22 and will be removed in version 0.24.\n",
            "  warnings.warn(msg, category=FutureWarning)\n",
            "/usr/local/lib/python3.7/dist-packages/sklearn/utils/deprecation.py:87: FutureWarning: Function safe_indexing is deprecated; safe_indexing is deprecated in version 0.22 and will be removed in version 0.24.\n",
            "  warnings.warn(msg, category=FutureWarning)\n"
          ],
          "name": "stderr"
        },
        {
          "output_type": "stream",
          "text": [
            "SMOTE BorderLine:  (7226, 45) (7226,)\n",
            "SMOTE ENN:  (4344, 45) (4344,)\n",
            "SMOTE Tomek:  (6860, 45) (6860,)\n"
          ],
          "name": "stdout"
        },
        {
          "output_type": "stream",
          "text": [
            "/usr/local/lib/python3.7/dist-packages/sklearn/utils/deprecation.py:87: FutureWarning: Function safe_indexing is deprecated; safe_indexing is deprecated in version 0.22 and will be removed in version 0.24.\n",
            "  warnings.warn(msg, category=FutureWarning)\n"
          ],
          "name": "stderr"
        }
      ]
    },
    {
      "cell_type": "code",
      "metadata": {
        "id": "M1Yi7WKCjT-c"
      },
      "source": [
        "import matplotlib.pyplot as plt\n",
        "from sklearn import preprocessing\n",
        "from sklearn.model_selection import train_test_split, GridSearchCV, cross_val_score\n",
        "from sklearn.model_selection import KFold\n",
        "from sklearn.metrics import accuracy_score\n",
        "from sklearn.metrics import balanced_accuracy_score\n",
        "from sklearn.metrics import confusion_matrix\n",
        "from sklearn.metrics import precision_score, recall_score\n",
        "from sklearn.metrics import classification_report\n",
        "from sklearn.metrics import average_precision_score\n",
        "from sklearn.metrics import roc_auc_score\n",
        "\n",
        "from sklearn.metrics import roc_curve\n",
        "from matplotlib import pyplot\n",
        "from numpy import sqrt\n",
        "from numpy import argmax\n",
        "from sklearn.metrics import plot_precision_recall_curve\n",
        "from sklearn.metrics import average_precision_score\n",
        "from numpy import arange\n",
        "from sklearn.metrics import f1_score\n",
        "from sklearn.metrics import confusion_matrix\n",
        "from sklearn.metrics import accuracy_score\n",
        "from sklearn.metrics import balanced_accuracy_score\n",
        "from sklearn.metrics import precision_score, recall_score, f1_score\n",
        "from sklearn.calibration import calibration_curve\n",
        "from sklearn.calibration import CalibratedClassifierCV"
      ],
      "execution_count": null,
      "outputs": []
    },
    {
      "cell_type": "code",
      "metadata": {
        "id": "6yLOVbVcXQjY"
      },
      "source": [
        "# param gridы\n",
        "\n",
        "#log reg param grid\n",
        "\n",
        "#random forest param grid\n",
        "\n",
        "#xgb param grid\n",
        "param_dist_xgb = {\"max_depth\": [10,30],\n",
        "\t\t\t\t\t\"min_child_weight\" : [1,3,6],\n",
        "\t\t\t\t\t\"n_estimators\": [10, 20, 30],\n",
        "\t\t\t\t\t\"learning_rate\": [0.05, 0.1, 0.5]}\n",
        "\n",
        "\n",
        "#cb param grid\n",
        "\n",
        "param_grid_cb = {'learning_rate': [0.05, 0.1, 0.5],\n",
        "        'depth': [4, 6, 10],\n",
        "        'l2_leaf_reg': [1, 3, 5, 7, 9]}"
      ],
      "execution_count": null,
      "outputs": []
    },
    {
      "cell_type": "code",
      "metadata": {
        "id": "nwEfcxfcjnZH"
      },
      "source": [
        "#SMOTE\n",
        "#ADASYN\n",
        "#ROS\n",
        "#RUS\n",
        "#SMOTE BL\n",
        "#SMOTE ENN\n",
        "#SMOTE Tomek"
      ],
      "execution_count": null,
      "outputs": []
    },
    {
      "cell_type": "code",
      "metadata": {
        "colab": {
          "base_uri": "https://localhost:8080/"
        },
        "id": "EfzwTzYiXRKs",
        "outputId": "ea1549bf-629f-471a-8251-532a393dda6c"
      },
      "source": [
        "# log reg\n",
        "from sklearn.linear_model import LogisticRegression\n",
        "\n",
        "recall_lr = []\n",
        "precision_lr = []\n",
        "f1_lr = []\n",
        "auprc_lr = []\n",
        "\n",
        "# SMOTE \n",
        "lr = LogisticRegression()\n",
        "grid_values_lr = {'penalty': ['l1','l2'],\n",
        "               'C': [0.001,0.01,0.1,1,10,100,1000]\n",
        "               }\n",
        "\n",
        "grid_search = GridSearchCV(lr, param_grid=grid_values_lr, cv = 3, \n",
        "                verbose=10, n_jobs=-1)\n",
        "\n",
        "grid_search.fit(X_train_smote, y_train_smote)\n",
        "\n",
        "lr_model = grid_search.best_estimator_\n",
        "\n",
        "y_pred_smote_lr = lr_model.predict(X_test.values)\n",
        "\n",
        "recall_lr.append(recall_score(y_test, y_pred_smote_lr))\n",
        "precision_lr.append(precision_score(y_test, y_pred_smote_lr))\n",
        "f1_lr.append(f1_score(y_test, y_pred_smote_lr))\n",
        "auprc_lr.append(average_precision_score(y_test, y_pred_smote_lr))"
      ],
      "execution_count": null,
      "outputs": [
        {
          "output_type": "stream",
          "text": [
            "Fitting 3 folds for each of 14 candidates, totalling 42 fits\n"
          ],
          "name": "stdout"
        },
        {
          "output_type": "stream",
          "text": [
            "[Parallel(n_jobs=-1)]: Using backend LokyBackend with 2 concurrent workers.\n",
            "[Parallel(n_jobs=-1)]: Done   1 tasks      | elapsed:    0.7s\n",
            "[Parallel(n_jobs=-1)]: Done   4 tasks      | elapsed:    0.8s\n",
            "[Parallel(n_jobs=-1)]: Done   9 tasks      | elapsed:    0.9s\n",
            "[Parallel(n_jobs=-1)]: Batch computation too fast (0.1786s.) Setting batch_size=2.\n",
            "[Parallel(n_jobs=-1)]: Done  14 tasks      | elapsed:    0.9s\n",
            "[Parallel(n_jobs=-1)]: Batch computation too fast (0.1219s.) Setting batch_size=4.\n",
            "[Parallel(n_jobs=-1)]: Done  28 tasks      | elapsed:    1.4s\n",
            "[Parallel(n_jobs=-1)]: Done  42 out of  42 | elapsed:    1.9s finished\n"
          ],
          "name": "stderr"
        }
      ]
    },
    {
      "cell_type": "code",
      "metadata": {
        "colab": {
          "base_uri": "https://localhost:8080/"
        },
        "id": "gKNj1FtHcu-Y",
        "outputId": "a8e7f7d4-60dc-494a-cbb7-240715b368e8"
      },
      "source": [
        "print(recall_lr)\n",
        "print(precision_lr)\n",
        "print(f1_lr)\n",
        "print(auprc_lr)"
      ],
      "execution_count": null,
      "outputs": [
        {
          "output_type": "stream",
          "text": [
            "[0.7714285714285715, 0.8017857142857143, 0.7785714285714286, 0.7946428571428571, 0.8142857142857143, 0.8553571428571428, 0.7625]\n",
            "[0.5179856115107914, 0.48175965665236054, 0.5087514585764294, 0.500562429696288, 0.49404117009750814, 0.4583732057416268, 0.5077288941736029]\n",
            "[0.6197991391678622, 0.6018766756032171, 0.6153846153846154, 0.6142167011732229, 0.614969656102495, 0.5968847352024922, 0.609564596716631]\n",
            "[0.46025240741732953, 0.4388746454941434, 0.45486712240349697, 0.45227072898047527, 0.45157976660546584, 0.43046142121784425, 0.4501764571628224]\n"
          ],
          "name": "stdout"
        }
      ]
    },
    {
      "cell_type": "code",
      "metadata": {
        "colab": {
          "base_uri": "https://localhost:8080/"
        },
        "id": "Ebc7slRWZSye",
        "outputId": "3bb37c88-bc50-45ba-ac51-ab3ce3eb7ef2"
      },
      "source": [
        "# log reg\n",
        "# ADASYN\n",
        "lr = LogisticRegression()\n",
        "\n",
        "grid_search = GridSearchCV(lr, param_grid=grid_values_lr, cv = 3, \n",
        "                verbose=10, n_jobs=-1)\n",
        "\n",
        "grid_search.fit(X_train_adasyn, y_train_adasyn)\n",
        "\n",
        "lr_model = grid_search.best_estimator_\n",
        "\n",
        "y_pred_adasyn_lr = lr_model.predict(X_test.values)\n",
        "\n",
        "recall_lr.append(recall_score(y_test, y_pred_adasyn_lr))\n",
        "precision_lr.append(precision_score(y_test, y_pred_adasyn_lr))\n",
        "f1_lr.append(f1_score(y_test, y_pred_adasyn_lr))\n",
        "auprc_lr.append(average_precision_score(y_test, y_pred_adasyn_lr))\n",
        "\n",
        "#ROS\n",
        "lr = LogisticRegression()\n",
        "\n",
        "grid_search = GridSearchCV(lr, param_grid=grid_values_lr, cv = 3, \n",
        "                verbose=10, n_jobs=-1)\n",
        "\n",
        "grid_search.fit(X_train_ros, y_train_ros)\n",
        "\n",
        "lr_model = grid_search.best_estimator_\n",
        "\n",
        "y_pred_ros_lr = lr_model.predict(X_test.values)\n",
        "\n",
        "recall_lr.append(recall_score(y_test, y_pred_ros_lr))\n",
        "precision_lr.append(precision_score(y_test, y_pred_ros_lr))\n",
        "f1_lr.append(f1_score(y_test, y_pred_ros_lr))\n",
        "auprc_lr.append(average_precision_score(y_test, y_pred_ros_lr))\n",
        "\n",
        "#RUS\n",
        "lr = LogisticRegression()\n",
        "\n",
        "grid_search = GridSearchCV(lr, param_grid=grid_values_lr, cv = 3, \n",
        "                verbose=10, n_jobs=-1)\n",
        "\n",
        "grid_search.fit(X_train_rus, y_train_rus)\n",
        "\n",
        "lr_model = grid_search.best_estimator_\n",
        "\n",
        "y_pred_rus_lr = lr_model.predict(X_test.values)\n",
        "\n",
        "recall_lr.append(recall_score(y_test, y_pred_rus_lr))\n",
        "precision_lr.append(precision_score(y_test, y_pred_rus_lr))\n",
        "f1_lr.append(f1_score(y_test, y_pred_rus_lr))\n",
        "auprc_lr.append(average_precision_score(y_test, y_pred_rus_lr))\n"
      ],
      "execution_count": null,
      "outputs": [
        {
          "output_type": "stream",
          "text": [
            "Fitting 3 folds for each of 14 candidates, totalling 42 fits\n"
          ],
          "name": "stdout"
        },
        {
          "output_type": "stream",
          "text": [
            "[Parallel(n_jobs=-1)]: Using backend LokyBackend with 2 concurrent workers.\n",
            "[Parallel(n_jobs=-1)]: Done   1 tasks      | elapsed:    0.7s\n",
            "[Parallel(n_jobs=-1)]: Done   4 tasks      | elapsed:    0.8s\n",
            "[Parallel(n_jobs=-1)]: Done   9 tasks      | elapsed:    0.9s\n",
            "[Parallel(n_jobs=-1)]: Batch computation too fast (0.1798s.) Setting batch_size=2.\n",
            "[Parallel(n_jobs=-1)]: Done  14 tasks      | elapsed:    0.9s\n",
            "[Parallel(n_jobs=-1)]: Batch computation too fast (0.1045s.) Setting batch_size=4.\n",
            "[Parallel(n_jobs=-1)]: Done  28 tasks      | elapsed:    1.4s\n",
            "[Parallel(n_jobs=-1)]: Done  42 out of  42 | elapsed:    1.9s finished\n"
          ],
          "name": "stderr"
        },
        {
          "output_type": "stream",
          "text": [
            "Fitting 3 folds for each of 14 candidates, totalling 42 fits\n"
          ],
          "name": "stdout"
        },
        {
          "output_type": "stream",
          "text": [
            "[Parallel(n_jobs=-1)]: Using backend LokyBackend with 2 concurrent workers.\n",
            "[Parallel(n_jobs=-1)]: Done   1 tasks      | elapsed:    0.0s\n",
            "[Parallel(n_jobs=-1)]: Batch computation too fast (0.0106s.) Setting batch_size=2.\n",
            "[Parallel(n_jobs=-1)]: Done   4 tasks      | elapsed:    0.1s\n",
            "[Parallel(n_jobs=-1)]: Batch computation too fast (0.0852s.) Setting batch_size=4.\n",
            "[Parallel(n_jobs=-1)]: Done  16 tasks      | elapsed:    0.3s\n",
            "[Parallel(n_jobs=-1)]: Batch computation too fast (0.1648s.) Setting batch_size=8.\n",
            "[Parallel(n_jobs=-1)]: Done  30 tasks      | elapsed:    0.7s\n",
            "[Parallel(n_jobs=-1)]: Done  37 tasks      | elapsed:    0.9s\n",
            "[Parallel(n_jobs=-1)]: Done  42 out of  42 | elapsed:    1.1s finished\n"
          ],
          "name": "stderr"
        },
        {
          "output_type": "stream",
          "text": [
            "Fitting 3 folds for each of 14 candidates, totalling 42 fits\n"
          ],
          "name": "stdout"
        },
        {
          "output_type": "stream",
          "text": [
            "[Parallel(n_jobs=-1)]: Using backend LokyBackend with 2 concurrent workers.\n",
            "[Parallel(n_jobs=-1)]: Done   1 tasks      | elapsed:    0.0s\n",
            "[Parallel(n_jobs=-1)]: Batch computation too fast (0.0074s.) Setting batch_size=2.\n",
            "[Parallel(n_jobs=-1)]: Done   4 tasks      | elapsed:    0.1s\n",
            "[Parallel(n_jobs=-1)]: Batch computation too fast (0.0451s.) Setting batch_size=4.\n",
            "[Parallel(n_jobs=-1)]: Done  16 tasks      | elapsed:    0.2s\n",
            "[Parallel(n_jobs=-1)]: Batch computation too fast (0.1047s.) Setting batch_size=8.\n",
            "[Parallel(n_jobs=-1)]: Done  30 tasks      | elapsed:    0.4s\n",
            "[Parallel(n_jobs=-1)]: Done  37 tasks      | elapsed:    0.5s\n",
            "[Parallel(n_jobs=-1)]: Done  42 out of  42 | elapsed:    0.6s finished\n"
          ],
          "name": "stderr"
        }
      ]
    },
    {
      "cell_type": "code",
      "metadata": {
        "colab": {
          "base_uri": "https://localhost:8080/"
        },
        "id": "dBKT4iCWZTL2",
        "outputId": "9d09d19c-c729-4f69-a3a2-0068dbe74602"
      },
      "source": [
        "# log reg\n",
        "#SMOTE BL\n",
        "lr = LogisticRegression()\n",
        "\n",
        "grid_search = GridSearchCV(lr, param_grid=grid_values_lr, cv = 3, \n",
        "                verbose=10, n_jobs=-1)\n",
        "\n",
        "grid_search.fit(X_train_smote_bl, y_train_smote_bl)\n",
        "\n",
        "lr_model = grid_search.best_estimator_\n",
        "\n",
        "y_pred_smote_bl_lr = lr_model.predict(X_test.values)\n",
        "\n",
        "recall_lr.append(recall_score(y_test, y_pred_smote_bl_lr))\n",
        "precision_lr.append(precision_score(y_test, y_pred_smote_bl_lr))\n",
        "f1_lr.append(f1_score(y_test, y_pred_smote_bl_lr))\n",
        "auprc_lr.append(average_precision_score(y_test, y_pred_smote_bl_lr))\n",
        "\n",
        "#SMOTE ENN\n",
        "lr = LogisticRegression()\n",
        "\n",
        "grid_search = GridSearchCV(lr, param_grid=grid_values_lr, cv = 3, \n",
        "                verbose=10, n_jobs=-1)\n",
        "\n",
        "grid_search.fit(X_train_smote_enn, y_train_smote_enn)\n",
        "\n",
        "lr_model = grid_search.best_estimator_\n",
        "\n",
        "y_pred_smote_enn_lr = lr_model.predict(X_test.values)\n",
        "\n",
        "recall_lr.append(recall_score(y_test, y_pred_smote_enn_lr))\n",
        "precision_lr.append(precision_score(y_test, y_pred_smote_enn_lr))\n",
        "f1_lr.append(f1_score(y_test, y_pred_smote_enn_lr))\n",
        "auprc_lr.append(average_precision_score(y_test, y_pred_smote_enn_lr))\n",
        "\n",
        "#SMOTE Tomek\n",
        "lr = LogisticRegression()\n",
        "\n",
        "grid_search = GridSearchCV(lr, param_grid=grid_values_lr, cv = 3, \n",
        "                verbose=10, n_jobs=-1)\n",
        "\n",
        "grid_search.fit(X_train_smote_tomek, y_train_smote_tomek)\n",
        "\n",
        "lr_model = grid_search.best_estimator_\n",
        "\n",
        "y_pred_smote_tomek_lr = lr_model.predict(X_test.values)\n",
        "\n",
        "recall_lr.append(recall_score(y_test, y_pred_smote_tomek_lr))\n",
        "precision_lr.append(precision_score(y_test, y_pred_smote_tomek_lr))\n",
        "f1_lr.append(f1_score(y_test, y_pred_smote_tomek_lr))\n",
        "auprc_lr.append(average_precision_score(y_test, y_pred_smote_tomek_lr))\n"
      ],
      "execution_count": null,
      "outputs": [
        {
          "output_type": "stream",
          "text": [
            "Fitting 3 folds for each of 14 candidates, totalling 42 fits\n"
          ],
          "name": "stdout"
        },
        {
          "output_type": "stream",
          "text": [
            "[Parallel(n_jobs=-1)]: Using backend LokyBackend with 2 concurrent workers.\n",
            "[Parallel(n_jobs=-1)]: Done   1 tasks      | elapsed:    0.0s\n",
            "[Parallel(n_jobs=-1)]: Batch computation too fast (0.0090s.) Setting batch_size=2.\n",
            "[Parallel(n_jobs=-1)]: Done   4 tasks      | elapsed:    0.1s\n",
            "[Parallel(n_jobs=-1)]: Batch computation too fast (0.0616s.) Setting batch_size=4.\n",
            "[Parallel(n_jobs=-1)]: Done  16 tasks      | elapsed:    0.3s\n",
            "[Parallel(n_jobs=-1)]: Batch computation too fast (0.1943s.) Setting batch_size=8.\n",
            "[Parallel(n_jobs=-1)]: Done  30 tasks      | elapsed:    0.7s\n",
            "[Parallel(n_jobs=-1)]: Done  37 tasks      | elapsed:    0.9s\n",
            "[Parallel(n_jobs=-1)]: Done  42 out of  42 | elapsed:    1.2s finished\n"
          ],
          "name": "stderr"
        },
        {
          "output_type": "stream",
          "text": [
            "Fitting 3 folds for each of 14 candidates, totalling 42 fits\n"
          ],
          "name": "stdout"
        },
        {
          "output_type": "stream",
          "text": [
            "[Parallel(n_jobs=-1)]: Using backend LokyBackend with 2 concurrent workers.\n",
            "[Parallel(n_jobs=-1)]: Batch computation too fast (0.0095s.) Setting batch_size=2.\n",
            "[Parallel(n_jobs=-1)]: Batch computation too fast (0.0095s.) Setting batch_size=4.\n",
            "[Parallel(n_jobs=-1)]: Batch computation too fast (0.0514s.) Setting batch_size=8.\n",
            "[Parallel(n_jobs=-1)]: Done  10 tasks      | elapsed:    0.1s\n",
            "[Parallel(n_jobs=-1)]: Batch computation too fast (0.1973s.) Setting batch_size=16.\n",
            "[Parallel(n_jobs=-1)]: Done  22 tasks      | elapsed:    0.4s\n",
            "[Parallel(n_jobs=-1)]: Done  34 tasks      | elapsed:    0.6s\n",
            "[Parallel(n_jobs=-1)]: Done  42 out of  42 | elapsed:    0.8s finished\n"
          ],
          "name": "stderr"
        },
        {
          "output_type": "stream",
          "text": [
            "Fitting 3 folds for each of 14 candidates, totalling 42 fits\n"
          ],
          "name": "stdout"
        },
        {
          "output_type": "stream",
          "text": [
            "[Parallel(n_jobs=-1)]: Using backend LokyBackend with 2 concurrent workers.\n",
            "[Parallel(n_jobs=-1)]: Batch computation too fast (0.0089s.) Setting batch_size=2.\n",
            "[Parallel(n_jobs=-1)]: Batch computation too fast (0.0089s.) Setting batch_size=4.\n",
            "[Parallel(n_jobs=-1)]: Done   2 tasks      | elapsed:    0.0s\n",
            "[Parallel(n_jobs=-1)]: Done   4 tasks      | elapsed:    0.1s\n",
            "[Parallel(n_jobs=-1)]: Batch computation too fast (0.1216s.) Setting batch_size=8.\n",
            "[Parallel(n_jobs=-1)]: Done  28 tasks      | elapsed:    0.7s\n",
            "[Parallel(n_jobs=-1)]: Done  42 out of  42 | elapsed:    1.1s finished\n"
          ],
          "name": "stderr"
        }
      ]
    },
    {
      "cell_type": "code",
      "metadata": {
        "colab": {
          "base_uri": "https://localhost:8080/"
        },
        "id": "q7Cp1SuFZUe-",
        "outputId": "e789e16a-f615-4097-80bf-404cf2f6c912"
      },
      "source": [
        "# log reg\n",
        "print(recall_lr)\n",
        "print(precision_lr)\n",
        "print(f1_lr)\n",
        "print(auprc_lr)"
      ],
      "execution_count": null,
      "outputs": [
        {
          "output_type": "stream",
          "text": [
            "[0.7714285714285715, 0.8017857142857143, 0.7785714285714286, 0.7946428571428571, 0.8142857142857143, 0.8553571428571428, 0.7625]\n",
            "[0.5179856115107914, 0.48175965665236054, 0.5087514585764294, 0.500562429696288, 0.49404117009750814, 0.4583732057416268, 0.5077288941736029]\n",
            "[0.6197991391678622, 0.6018766756032171, 0.6153846153846154, 0.6142167011732229, 0.614969656102495, 0.5968847352024922, 0.609564596716631]\n",
            "[0.46025240741732953, 0.4388746454941434, 0.45486712240349697, 0.45227072898047527, 0.45157976660546584, 0.43046142121784425, 0.4501764571628224]\n"
          ],
          "name": "stdout"
        }
      ]
    },
    {
      "cell_type": "code",
      "metadata": {
        "colab": {
          "base_uri": "https://localhost:8080/"
        },
        "id": "3cKhBoTkXS01",
        "outputId": "3aa352ca-23f8-4ca9-cfb8-408875b2dd39"
      },
      "source": [
        "# random forest\n",
        "from sklearn.ensemble import RandomForestClassifier\n",
        "\n",
        "recall_rf = []\n",
        "precision_rf = []\n",
        "f1_rf = []\n",
        "auprc_rf = []\n",
        "\n",
        "param_grid_rf = {'bootstrap': [True, False],\n",
        " 'max_depth': [10, 50, 100],\n",
        " 'min_samples_leaf': [1, 2, 4],\n",
        " 'min_samples_split': [2, 10],\n",
        " 'n_estimators': [200, 500]}\n",
        "\n",
        " #SMOTE\n",
        "rf = RandomForestClassifier()\n",
        "grid_search = GridSearchCV(rf, param_grid=param_grid_rf, cv = 3, \n",
        "                verbose=10, n_jobs=-1)\n",
        "\n",
        "grid_search.fit(X_train_smote, y_train_smote)\n",
        "\n",
        "rf_model = grid_search.best_estimator_\n",
        "\n",
        "y_pred_smote_rf = rf_model.predict(X_test.values)\n",
        "\n",
        "recall_rf.append(recall_score(y_test, y_pred_smote_rf))\n",
        "precision_rf.append(precision_score(y_test, y_pred_smote_rf))\n",
        "f1_rf.append(f1_score(y_test, y_pred_smote_rf))\n",
        "auprc_rf.append(average_precision_score(y_test, y_pred_smote_rf))"
      ],
      "execution_count": null,
      "outputs": [
        {
          "output_type": "stream",
          "text": [
            "Fitting 3 folds for each of 72 candidates, totalling 216 fits\n"
          ],
          "name": "stdout"
        },
        {
          "output_type": "stream",
          "text": [
            "[Parallel(n_jobs=-1)]: Using backend LokyBackend with 2 concurrent workers.\n",
            "[Parallel(n_jobs=-1)]: Done   1 tasks      | elapsed:    2.4s\n",
            "[Parallel(n_jobs=-1)]: Done   4 tasks      | elapsed:    6.6s\n",
            "[Parallel(n_jobs=-1)]: Done   9 tasks      | elapsed:   12.2s\n",
            "[Parallel(n_jobs=-1)]: Done  14 tasks      | elapsed:   19.4s\n",
            "[Parallel(n_jobs=-1)]: Done  21 tasks      | elapsed:   28.9s\n",
            "[Parallel(n_jobs=-1)]: Done  28 tasks      | elapsed:   39.9s\n",
            "[Parallel(n_jobs=-1)]: Done  37 tasks      | elapsed:   52.0s\n",
            "[Parallel(n_jobs=-1)]: Done  46 tasks      | elapsed:  1.1min\n",
            "[Parallel(n_jobs=-1)]: Done  57 tasks      | elapsed:  1.4min\n",
            "[Parallel(n_jobs=-1)]: Done  68 tasks      | elapsed:  1.7min\n",
            "[Parallel(n_jobs=-1)]: Done  81 tasks      | elapsed:  2.0min\n",
            "[Parallel(n_jobs=-1)]: Done  94 tasks      | elapsed:  2.4min\n",
            "[Parallel(n_jobs=-1)]: Done 109 tasks      | elapsed:  2.8min\n",
            "[Parallel(n_jobs=-1)]: Done 124 tasks      | elapsed:  3.2min\n",
            "[Parallel(n_jobs=-1)]: Done 141 tasks      | elapsed:  3.7min\n",
            "[Parallel(n_jobs=-1)]: Done 158 tasks      | elapsed:  4.3min\n",
            "[Parallel(n_jobs=-1)]: Done 177 tasks      | elapsed:  4.9min\n",
            "[Parallel(n_jobs=-1)]: Done 196 tasks      | elapsed:  5.6min\n",
            "[Parallel(n_jobs=-1)]: Done 216 out of 216 | elapsed:  6.3min finished\n"
          ],
          "name": "stderr"
        }
      ]
    },
    {
      "cell_type": "code",
      "metadata": {
        "colab": {
          "base_uri": "https://localhost:8080/"
        },
        "id": "vfGANacXzk0L",
        "outputId": "0bdb1761-dd70-4658-e1ea-ebaee250ab17"
      },
      "source": [
        "print(recall_rf)\n",
        "print(precision_rf)\n",
        "print(f1_rf)\n",
        "print(auprc_rf)"
      ],
      "execution_count": null,
      "outputs": [
        {
          "output_type": "stream",
          "text": [
            "[0.5821428571428572]\n",
            "[0.6025878003696857]\n",
            "[0.592188919164396]\n",
            "[0.4616926577202878]\n"
          ],
          "name": "stdout"
        }
      ]
    },
    {
      "cell_type": "code",
      "metadata": {
        "colab": {
          "base_uri": "https://localhost:8080/"
        },
        "id": "LxwzKmwKZWxe",
        "outputId": "5f581095-4bc4-4516-e94f-2690f5c68089"
      },
      "source": [
        "# random forest\n",
        "#ADASYN\n",
        "\n",
        "rf = RandomForestClassifier()\n",
        "grid_search = GridSearchCV(rf, param_grid=param_grid_rf, cv = 3, \n",
        "                verbose=10, n_jobs=-1)\n",
        "\n",
        "grid_search.fit(X_train_adasyn, y_train_adasyn)\n",
        "\n",
        "rf_model = grid_search.best_estimator_\n",
        "\n",
        "y_pred_adasyn_rf = rf_model.predict(X_test.values)\n",
        "\n",
        "recall_rf.append(recall_score(y_test, y_pred_adasyn_rf))\n",
        "precision_rf.append(precision_score(y_test, y_pred_adasyn_rf))\n",
        "f1_rf.append(f1_score(y_test, y_pred_adasyn_rf))\n",
        "auprc_rf.append(average_precision_score(y_test, y_pred_adasyn_rf))\n",
        "\n",
        "#ROS\n",
        "\n",
        "rf = RandomForestClassifier()\n",
        "grid_search = GridSearchCV(rf, param_grid=param_grid_rf, cv = 3, \n",
        "                verbose=10, n_jobs=-1)\n",
        "\n",
        "grid_search.fit(X_train_ros, y_train_ros)\n",
        "\n",
        "rf_model = grid_search.best_estimator_\n",
        "\n",
        "y_pred_ros_rf = rf_model.predict(X_test.values)\n",
        "\n",
        "recall_rf.append(recall_score(y_test, y_pred_ros_rf))\n",
        "precision_rf.append(precision_score(y_test, y_pred_ros_rf))\n",
        "f1_rf.append(f1_score(y_test, y_pred_ros_rf))\n",
        "auprc_rf.append(average_precision_score(y_test, y_pred_ros_rf))\n",
        "\n",
        "#RUS\n",
        "\n",
        "rf = RandomForestClassifier()\n",
        "grid_search = GridSearchCV(rf, param_grid=param_grid_rf, cv = 3, \n",
        "                verbose=10, n_jobs=-1)\n",
        "\n",
        "grid_search.fit(X_train_rus, y_train_rus)\n",
        "\n",
        "rf_model = grid_search.best_estimator_\n",
        "\n",
        "y_pred_rus_rf = rf_model.predict(X_test.values)\n",
        "\n",
        "recall_rf.append(recall_score(y_test, y_pred_rus_rf))\n",
        "precision_rf.append(precision_score(y_test, y_pred_rus_rf))\n",
        "f1_rf.append(f1_score(y_test, y_pred_rus_rf))\n",
        "auprc_rf.append(average_precision_score(y_test, y_pred_rus_rf))"
      ],
      "execution_count": null,
      "outputs": [
        {
          "output_type": "stream",
          "text": [
            "Fitting 3 folds for each of 72 candidates, totalling 216 fits\n"
          ],
          "name": "stdout"
        },
        {
          "output_type": "stream",
          "text": [
            "[Parallel(n_jobs=-1)]: Using backend LokyBackend with 2 concurrent workers.\n",
            "[Parallel(n_jobs=-1)]: Done   1 tasks      | elapsed:    2.4s\n",
            "[Parallel(n_jobs=-1)]: Done   4 tasks      | elapsed:    6.6s\n",
            "[Parallel(n_jobs=-1)]: Done   9 tasks      | elapsed:   12.4s\n",
            "[Parallel(n_jobs=-1)]: Done  14 tasks      | elapsed:   19.7s\n",
            "[Parallel(n_jobs=-1)]: Done  21 tasks      | elapsed:   29.5s\n",
            "[Parallel(n_jobs=-1)]: Done  28 tasks      | elapsed:   40.7s\n",
            "[Parallel(n_jobs=-1)]: Done  37 tasks      | elapsed:   53.0s\n",
            "[Parallel(n_jobs=-1)]: Done  46 tasks      | elapsed:  1.2min\n",
            "[Parallel(n_jobs=-1)]: Done  57 tasks      | elapsed:  1.4min\n",
            "[Parallel(n_jobs=-1)]: Done  68 tasks      | elapsed:  1.7min\n",
            "[Parallel(n_jobs=-1)]: Done  81 tasks      | elapsed:  2.1min\n",
            "[Parallel(n_jobs=-1)]: Done  94 tasks      | elapsed:  2.5min\n",
            "[Parallel(n_jobs=-1)]: Done 109 tasks      | elapsed:  2.8min\n",
            "[Parallel(n_jobs=-1)]: Done 124 tasks      | elapsed:  3.3min\n",
            "[Parallel(n_jobs=-1)]: Done 141 tasks      | elapsed:  3.7min\n",
            "[Parallel(n_jobs=-1)]: Done 158 tasks      | elapsed:  4.3min\n",
            "[Parallel(n_jobs=-1)]: Done 177 tasks      | elapsed:  5.0min\n",
            "[Parallel(n_jobs=-1)]: Done 196 tasks      | elapsed:  5.7min\n",
            "[Parallel(n_jobs=-1)]: Done 216 out of 216 | elapsed:  6.4min finished\n"
          ],
          "name": "stderr"
        },
        {
          "output_type": "stream",
          "text": [
            "Fitting 3 folds for each of 72 candidates, totalling 216 fits\n"
          ],
          "name": "stdout"
        },
        {
          "output_type": "stream",
          "text": [
            "[Parallel(n_jobs=-1)]: Using backend LokyBackend with 2 concurrent workers.\n",
            "[Parallel(n_jobs=-1)]: Done   1 tasks      | elapsed:    1.5s\n",
            "[Parallel(n_jobs=-1)]: Done   4 tasks      | elapsed:    5.3s\n",
            "[Parallel(n_jobs=-1)]: Done   9 tasks      | elapsed:   10.6s\n",
            "[Parallel(n_jobs=-1)]: Done  14 tasks      | elapsed:   17.3s\n",
            "[Parallel(n_jobs=-1)]: Done  21 tasks      | elapsed:   26.2s\n",
            "[Parallel(n_jobs=-1)]: Done  28 tasks      | elapsed:   36.4s\n",
            "[Parallel(n_jobs=-1)]: Done  37 tasks      | elapsed:   47.7s\n",
            "[Parallel(n_jobs=-1)]: Done  46 tasks      | elapsed:  1.0min\n",
            "[Parallel(n_jobs=-1)]: Done  57 tasks      | elapsed:  1.3min\n",
            "[Parallel(n_jobs=-1)]: Done  68 tasks      | elapsed:  1.5min\n",
            "[Parallel(n_jobs=-1)]: Done  81 tasks      | elapsed:  1.9min\n",
            "[Parallel(n_jobs=-1)]: Done  94 tasks      | elapsed:  2.2min\n",
            "[Parallel(n_jobs=-1)]: Done 109 tasks      | elapsed:  2.5min\n",
            "[Parallel(n_jobs=-1)]: Done 124 tasks      | elapsed:  2.9min\n",
            "[Parallel(n_jobs=-1)]: Done 141 tasks      | elapsed:  3.3min\n",
            "[Parallel(n_jobs=-1)]: Done 158 tasks      | elapsed:  3.8min\n",
            "[Parallel(n_jobs=-1)]: Done 177 tasks      | elapsed:  4.4min\n",
            "[Parallel(n_jobs=-1)]: Done 196 tasks      | elapsed:  5.0min\n",
            "[Parallel(n_jobs=-1)]: Done 216 out of 216 | elapsed:  5.6min finished\n"
          ],
          "name": "stderr"
        },
        {
          "output_type": "stream",
          "text": [
            "Fitting 3 folds for each of 72 candidates, totalling 216 fits\n"
          ],
          "name": "stdout"
        },
        {
          "output_type": "stream",
          "text": [
            "[Parallel(n_jobs=-1)]: Using backend LokyBackend with 2 concurrent workers.\n",
            "[Parallel(n_jobs=-1)]: Done   1 tasks      | elapsed:    0.9s\n",
            "[Parallel(n_jobs=-1)]: Done   4 tasks      | elapsed:    3.1s\n",
            "[Parallel(n_jobs=-1)]: Done   9 tasks      | elapsed:    6.0s\n",
            "[Parallel(n_jobs=-1)]: Done  14 tasks      | elapsed:    9.8s\n",
            "[Parallel(n_jobs=-1)]: Done  21 tasks      | elapsed:   14.8s\n",
            "[Parallel(n_jobs=-1)]: Done  28 tasks      | elapsed:   20.4s\n",
            "[Parallel(n_jobs=-1)]: Done  37 tasks      | elapsed:   26.7s\n",
            "[Parallel(n_jobs=-1)]: Done  46 tasks      | elapsed:   34.1s\n",
            "[Parallel(n_jobs=-1)]: Done  57 tasks      | elapsed:   41.8s\n",
            "[Parallel(n_jobs=-1)]: Done  68 tasks      | elapsed:   49.9s\n",
            "[Parallel(n_jobs=-1)]: Done  81 tasks      | elapsed:   59.9s\n",
            "[Parallel(n_jobs=-1)]: Done  94 tasks      | elapsed:  1.2min\n",
            "[Parallel(n_jobs=-1)]: Done 109 tasks      | elapsed:  1.4min\n",
            "[Parallel(n_jobs=-1)]: Done 124 tasks      | elapsed:  1.5min\n",
            "[Parallel(n_jobs=-1)]: Done 141 tasks      | elapsed:  1.7min\n",
            "[Parallel(n_jobs=-1)]: Done 158 tasks      | elapsed:  2.0min\n",
            "[Parallel(n_jobs=-1)]: Done 177 tasks      | elapsed:  2.2min\n",
            "[Parallel(n_jobs=-1)]: Done 196 tasks      | elapsed:  2.5min\n",
            "[Parallel(n_jobs=-1)]: Done 216 out of 216 | elapsed:  2.8min finished\n"
          ],
          "name": "stderr"
        }
      ]
    },
    {
      "cell_type": "code",
      "metadata": {
        "colab": {
          "base_uri": "https://localhost:8080/"
        },
        "id": "2qRrIEuBZXn0",
        "outputId": "ad3ce29d-b650-443a-deb4-31431ce98225"
      },
      "source": [
        "# random forest\n",
        "#SMOTE BL\n",
        "\n",
        "rf = RandomForestClassifier()\n",
        "grid_search = GridSearchCV(rf, param_grid=param_grid_rf, cv = 3, \n",
        "                verbose=10, n_jobs=-1)\n",
        "\n",
        "grid_search.fit(X_train_smote_bl, y_train_smote_bl)\n",
        "\n",
        "rf_model = grid_search.best_estimator_\n",
        "\n",
        "y_pred_smote_bl_rf = rf_model.predict(X_test.values)\n",
        "\n",
        "recall_rf.append(recall_score(y_test, y_pred_smote_bl_rf))\n",
        "precision_rf.append(precision_score(y_test, y_pred_smote_bl_rf))\n",
        "f1_rf.append(f1_score(y_test, y_pred_smote_bl_rf))\n",
        "auprc_rf.append(average_precision_score(y_test, y_pred_smote_bl_rf))\n",
        "#SMOTE ENN\n",
        "\n",
        "rf = RandomForestClassifier()\n",
        "\n",
        "grid_search = GridSearchCV(rf, param_grid=param_grid_rf, cv = 3, \n",
        "                verbose=10, n_jobs=-1)\n",
        "\n",
        "grid_search.fit(X_train_smote_enn, y_train_smote_enn)\n",
        "\n",
        "rf_model = grid_search.best_estimator_\n",
        "\n",
        "y_pred_smote_enn_rf = rf_model.predict(X_test.values)\n",
        "\n",
        "recall_rf.append(recall_score(y_test, y_pred_smote_enn_rf))\n",
        "precision_rf.append(precision_score(y_test, y_pred_smote_enn_rf))\n",
        "f1_rf.append(f1_score(y_test, y_pred_smote_enn_rf))\n",
        "auprc_rf.append(average_precision_score(y_test, y_pred_smote_enn_rf))\n",
        "#SMOTE Tomek\n",
        "\n",
        "rf = RandomForestClassifier()\n",
        "\n",
        "grid_search = GridSearchCV(rf, param_grid=param_grid_rf, cv = 3, \n",
        "                verbose=10, n_jobs=-1)\n",
        "\n",
        "grid_search.fit(X_train_smote_tomek, y_train_smote_tomek)\n",
        "\n",
        "rf_model = grid_search.best_estimator_\n",
        "\n",
        "y_pred_smote_tomek_rf = rf_model.predict(X_test.values)\n",
        "\n",
        "recall_rf.append(recall_score(y_test, y_pred_smote_tomek_rf))\n",
        "precision_rf.append(precision_score(y_test, y_pred_smote_tomek_rf))\n",
        "f1_rf.append(f1_score(y_test, y_pred_smote_tomek_rf))\n",
        "auprc_rf.append(average_precision_score(y_test, y_pred_smote_tomek_rf))"
      ],
      "execution_count": null,
      "outputs": [
        {
          "output_type": "stream",
          "text": [
            "Fitting 3 folds for each of 72 candidates, totalling 216 fits\n"
          ],
          "name": "stdout"
        },
        {
          "output_type": "stream",
          "text": [
            "[Parallel(n_jobs=-1)]: Using backend LokyBackend with 2 concurrent workers.\n",
            "[Parallel(n_jobs=-1)]: Done   1 tasks      | elapsed:    1.7s\n",
            "[Parallel(n_jobs=-1)]: Done   4 tasks      | elapsed:    5.7s\n",
            "[Parallel(n_jobs=-1)]: Done   9 tasks      | elapsed:   11.4s\n",
            "[Parallel(n_jobs=-1)]: Done  14 tasks      | elapsed:   18.6s\n",
            "[Parallel(n_jobs=-1)]: Done  21 tasks      | elapsed:   28.1s\n",
            "[Parallel(n_jobs=-1)]: Done  28 tasks      | elapsed:   39.1s\n",
            "[Parallel(n_jobs=-1)]: Done  37 tasks      | elapsed:   51.4s\n",
            "[Parallel(n_jobs=-1)]: Done  46 tasks      | elapsed:  1.1min\n",
            "[Parallel(n_jobs=-1)]: Done  57 tasks      | elapsed:  1.4min\n",
            "[Parallel(n_jobs=-1)]: Done  68 tasks      | elapsed:  1.7min\n",
            "[Parallel(n_jobs=-1)]: Done  81 tasks      | elapsed:  2.0min\n",
            "[Parallel(n_jobs=-1)]: Done  94 tasks      | elapsed:  2.4min\n",
            "[Parallel(n_jobs=-1)]: Done 109 tasks      | elapsed:  2.8min\n",
            "[Parallel(n_jobs=-1)]: Done 124 tasks      | elapsed:  3.2min\n",
            "[Parallel(n_jobs=-1)]: Done 141 tasks      | elapsed:  3.7min\n",
            "[Parallel(n_jobs=-1)]: Done 158 tasks      | elapsed:  4.3min\n",
            "[Parallel(n_jobs=-1)]: Done 177 tasks      | elapsed:  4.9min\n",
            "[Parallel(n_jobs=-1)]: Done 196 tasks      | elapsed:  5.7min\n",
            "[Parallel(n_jobs=-1)]: Done 216 out of 216 | elapsed:  6.3min finished\n"
          ],
          "name": "stderr"
        },
        {
          "output_type": "stream",
          "text": [
            "Fitting 3 folds for each of 72 candidates, totalling 216 fits\n"
          ],
          "name": "stdout"
        },
        {
          "output_type": "stream",
          "text": [
            "[Parallel(n_jobs=-1)]: Using backend LokyBackend with 2 concurrent workers.\n",
            "[Parallel(n_jobs=-1)]: Done   1 tasks      | elapsed:    1.1s\n",
            "[Parallel(n_jobs=-1)]: Done   4 tasks      | elapsed:    3.9s\n",
            "[Parallel(n_jobs=-1)]: Done   9 tasks      | elapsed:    7.5s\n",
            "[Parallel(n_jobs=-1)]: Done  14 tasks      | elapsed:   12.1s\n",
            "[Parallel(n_jobs=-1)]: Done  21 tasks      | elapsed:   18.4s\n",
            "[Parallel(n_jobs=-1)]: Done  28 tasks      | elapsed:   25.6s\n",
            "[Parallel(n_jobs=-1)]: Done  37 tasks      | elapsed:   33.3s\n",
            "[Parallel(n_jobs=-1)]: Done  46 tasks      | elapsed:   41.8s\n",
            "[Parallel(n_jobs=-1)]: Done  57 tasks      | elapsed:   51.2s\n",
            "[Parallel(n_jobs=-1)]: Done  68 tasks      | elapsed:  1.0min\n",
            "[Parallel(n_jobs=-1)]: Done  81 tasks      | elapsed:  1.2min\n",
            "[Parallel(n_jobs=-1)]: Done  94 tasks      | elapsed:  1.4min\n",
            "[Parallel(n_jobs=-1)]: Done 109 tasks      | elapsed:  1.7min\n",
            "[Parallel(n_jobs=-1)]: Done 124 tasks      | elapsed:  1.9min\n",
            "[Parallel(n_jobs=-1)]: Done 141 tasks      | elapsed:  2.2min\n",
            "[Parallel(n_jobs=-1)]: Done 158 tasks      | elapsed:  2.5min\n",
            "[Parallel(n_jobs=-1)]: Done 177 tasks      | elapsed:  2.8min\n",
            "[Parallel(n_jobs=-1)]: Done 196 tasks      | elapsed:  3.2min\n",
            "[Parallel(n_jobs=-1)]: Done 216 out of 216 | elapsed:  3.5min finished\n"
          ],
          "name": "stderr"
        },
        {
          "output_type": "stream",
          "text": [
            "Fitting 3 folds for each of 72 candidates, totalling 216 fits\n"
          ],
          "name": "stdout"
        },
        {
          "output_type": "stream",
          "text": [
            "[Parallel(n_jobs=-1)]: Using backend LokyBackend with 2 concurrent workers.\n",
            "[Parallel(n_jobs=-1)]: Done   1 tasks      | elapsed:    1.6s\n",
            "[Parallel(n_jobs=-1)]: Done   4 tasks      | elapsed:    5.5s\n",
            "[Parallel(n_jobs=-1)]: Done   9 tasks      | elapsed:   10.9s\n",
            "[Parallel(n_jobs=-1)]: Done  14 tasks      | elapsed:   17.7s\n",
            "[Parallel(n_jobs=-1)]: Done  21 tasks      | elapsed:   26.9s\n",
            "[Parallel(n_jobs=-1)]: Done  28 tasks      | elapsed:   37.5s\n",
            "[Parallel(n_jobs=-1)]: Done  37 tasks      | elapsed:   49.2s\n",
            "[Parallel(n_jobs=-1)]: Done  46 tasks      | elapsed:  1.1min\n",
            "[Parallel(n_jobs=-1)]: Done  57 tasks      | elapsed:  1.3min\n",
            "[Parallel(n_jobs=-1)]: Done  68 tasks      | elapsed:  1.6min\n",
            "[Parallel(n_jobs=-1)]: Done  81 tasks      | elapsed:  1.9min\n",
            "[Parallel(n_jobs=-1)]: Done  94 tasks      | elapsed:  2.3min\n",
            "[Parallel(n_jobs=-1)]: Done 109 tasks      | elapsed:  2.6min\n",
            "[Parallel(n_jobs=-1)]: Done 124 tasks      | elapsed:  3.0min\n",
            "[Parallel(n_jobs=-1)]: Done 141 tasks      | elapsed:  3.5min\n",
            "[Parallel(n_jobs=-1)]: Done 158 tasks      | elapsed:  4.0min\n",
            "[Parallel(n_jobs=-1)]: Done 177 tasks      | elapsed:  4.6min\n",
            "[Parallel(n_jobs=-1)]: Done 196 tasks      | elapsed:  5.3min\n",
            "[Parallel(n_jobs=-1)]: Done 216 out of 216 | elapsed:  5.9min finished\n"
          ],
          "name": "stderr"
        }
      ]
    },
    {
      "cell_type": "code",
      "metadata": {
        "colab": {
          "base_uri": "https://localhost:8080/"
        },
        "id": "nNWWIhTU4Myd",
        "outputId": "81e07c21-e676-4a78-f301-c688d5bfa7be"
      },
      "source": [
        "print(recall_rf)\n",
        "print(precision_rf)\n",
        "print(f1_rf)\n",
        "print(auprc_rf)"
      ],
      "execution_count": null,
      "outputs": [
        {
          "output_type": "stream",
          "text": [
            "[0.5821428571428572, 0.5321428571428571, 0.4714285714285714, 0.8035714285714286, 0.6375, 0.7732142857142857, 0.5482142857142858]\n",
            "[0.6025878003696857, 0.5889328063241107, 0.624113475177305, 0.5119453924914675, 0.5881383855024712, 0.49204545454545456, 0.596116504854369]\n",
            "[0.592188919164396, 0.5590994371482176, 0.5371312309257374, 0.6254343293954135, 0.6118251928020565, 0.6013888888888889, 0.5711627906976745]\n",
            "[0.4616926577202878, 0.43756700233621726, 0.4345092842017315, 0.46351739181673024, 0.4711467515635126, 0.4406461481350403, 0.44670479718137657]\n"
          ],
          "name": "stdout"
        }
      ]
    },
    {
      "cell_type": "code",
      "metadata": {
        "colab": {
          "base_uri": "https://localhost:8080/"
        },
        "id": "hn4GaWZXXzvU",
        "outputId": "b4f69d25-f328-4156-ff70-761cf736fa38"
      },
      "source": [
        "# XGB\n",
        "import xgboost as xgb\n",
        "\n",
        "recall_xgb = []\n",
        "precision_xgb = []\n",
        "f1_xgb = []\n",
        "auprc_xgb = []\n",
        "\n",
        "#SMOTE\n",
        "model = xgb.XGBClassifier()\n",
        "grid_search = GridSearchCV(model, param_grid=param_dist_xgb, cv = 3, \n",
        "                verbose=10, n_jobs=-1)\n",
        "grid_search.fit(X_train_smote, y_train_smote)\n",
        "\n",
        "xgb_model = grid_search.best_estimator_\n",
        "\n",
        "y_pred_smote_xgboost = xgb_model.predict(X_test.values)"
      ],
      "execution_count": null,
      "outputs": [
        {
          "output_type": "stream",
          "text": [
            "Fitting 3 folds for each of 54 candidates, totalling 162 fits\n"
          ],
          "name": "stdout"
        },
        {
          "output_type": "stream",
          "text": [
            "[Parallel(n_jobs=-1)]: Using backend LokyBackend with 2 concurrent workers.\n",
            "[Parallel(n_jobs=-1)]: Done   1 tasks      | elapsed:    0.4s\n",
            "[Parallel(n_jobs=-1)]: Done   4 tasks      | elapsed:    1.2s\n",
            "[Parallel(n_jobs=-1)]: Done   9 tasks      | elapsed:    3.4s\n",
            "[Parallel(n_jobs=-1)]: Done  14 tasks      | elapsed:    4.8s\n",
            "[Parallel(n_jobs=-1)]: Done  21 tasks      | elapsed:    7.2s\n",
            "[Parallel(n_jobs=-1)]: Done  28 tasks      | elapsed:    9.8s\n",
            "[Parallel(n_jobs=-1)]: Done  37 tasks      | elapsed:   14.8s\n",
            "[Parallel(n_jobs=-1)]: Done  46 tasks      | elapsed:   19.1s\n",
            "[Parallel(n_jobs=-1)]: Done  57 tasks      | elapsed:   23.0s\n",
            "[Parallel(n_jobs=-1)]: Done  68 tasks      | elapsed:   26.9s\n",
            "[Parallel(n_jobs=-1)]: Done  81 tasks      | elapsed:   31.9s\n",
            "[Parallel(n_jobs=-1)]: Done  94 tasks      | elapsed:   38.5s\n",
            "[Parallel(n_jobs=-1)]: Done 109 tasks      | elapsed:   45.3s\n",
            "[Parallel(n_jobs=-1)]: Done 124 tasks      | elapsed:   50.3s\n",
            "[Parallel(n_jobs=-1)]: Done 141 tasks      | elapsed:   57.0s\n",
            "[Parallel(n_jobs=-1)]: Done 158 tasks      | elapsed:  1.1min\n",
            "[Parallel(n_jobs=-1)]: Done 162 out of 162 | elapsed:  1.1min finished\n"
          ],
          "name": "stderr"
        }
      ]
    },
    {
      "cell_type": "code",
      "metadata": {
        "colab": {
          "base_uri": "https://localhost:8080/"
        },
        "id": "NwX3V3HeosDa",
        "outputId": "4904dc22-cbc9-41d9-a006-5ef14d376ee5"
      },
      "source": [
        "print(classification_report(y_test, y_pred_smote_xgboost))"
      ],
      "execution_count": null,
      "outputs": [
        {
          "output_type": "stream",
          "text": [
            "              precision    recall  f1-score   support\n",
            "\n",
            "           0       0.87      0.85      0.86      1572\n",
            "           1       0.58      0.63      0.60       538\n",
            "\n",
            "    accuracy                           0.79      2110\n",
            "   macro avg       0.73      0.74      0.73      2110\n",
            "weighted avg       0.80      0.79      0.79      2110\n",
            "\n"
          ],
          "name": "stdout"
        }
      ]
    },
    {
      "cell_type": "code",
      "metadata": {
        "colab": {
          "base_uri": "https://localhost:8080/"
        },
        "id": "aWDlkPaqo2Hd",
        "outputId": "df05b745-abb4-4ddf-dcda-6d0c9909ffb7"
      },
      "source": [
        "print(recall_score(y_test, y_pred_smote_xgboost))\n",
        "print(precision_score(y_test, y_pred_smote_xgboost))\n",
        "print(f1_score(y_test, y_pred_smote_xgboost))\n",
        "\n",
        "average_precision = average_precision_score(y_test, y_pred_smote_xgboost)\n",
        "print('Average precision-recall score: {0:0.2f}'.format(\n",
        "     average_precision))\n",
        "\n",
        "recall_xgb.append(recall_score(y_test, y_pred_smote_xgboost))\n",
        "precision_xgb.append(precision_score(y_test, y_pred_smote_xgboost))\n",
        "f1_xgb.append(f1_score(y_test, y_pred_smote_xgboost))\n",
        "auprc_xgb.append(average_precision_score(y_test, y_pred_smote_xgboost))"
      ],
      "execution_count": null,
      "outputs": [
        {
          "output_type": "stream",
          "text": [
            "0.5820379965457686\n",
            "0.6263940520446096\n",
            "0.6034019695613251\n",
            "Average precision-recall score: 0.46\n"
          ],
          "name": "stdout"
        }
      ]
    },
    {
      "cell_type": "code",
      "metadata": {
        "colab": {
          "base_uri": "https://localhost:8080/"
        },
        "id": "Dh85puu9lMN8",
        "outputId": "f61036eb-bc8d-4e98-e4a8-4605d55d1ef8"
      },
      "source": [
        "# XGB\n",
        "\n",
        "#ADASYN\n",
        "model = xgb.XGBClassifier()\n",
        "grid_search = GridSearchCV(model, param_grid=param_dist_xgb, cv = 3, \n",
        "                verbose=10, n_jobs=-1)\n",
        "grid_search.fit(X_train_adasyn, y_train_adasyn)\n",
        "\n",
        "xgb_model = grid_search.best_estimator_\n",
        "\n",
        "y_pred_adasyn_xgboost = xgb_model.predict(X_test.values)\n",
        "\n",
        "recall_xgb.append(recall_score(y_test, y_pred_adasyn_xgboost))\n",
        "precision_xgb.append(precision_score(y_test, y_pred_adasyn_xgboost))\n",
        "f1_xgb.append(f1_score(y_test, y_pred_adasyn_xgboost))\n",
        "auprc_xgb.append(average_precision_score(y_test, y_pred_adasyn_xgboost))\n",
        "\n",
        "#ROS\n",
        "model = xgb.XGBClassifier()\n",
        "grid_search = GridSearchCV(model, param_grid=param_dist_xgb, cv = 3, \n",
        "                verbose=10, n_jobs=-1)\n",
        "grid_search.fit(X_train_ros, y_train_ros)\n",
        "\n",
        "xgb_model = grid_search.best_estimator_\n",
        "\n",
        "y_pred_ros_xgboost = xgb_model.predict(X_test.values)\n",
        "\n",
        "recall_xgb.append(recall_score(y_test, y_pred_ros_xgboost))\n",
        "precision_xgb.append(precision_score(y_test, y_pred_ros_xgboost))\n",
        "f1_xgb.append(f1_score(y_test, y_pred_ros_xgboost))\n",
        "auprc_xgb.append(average_precision_score(y_test, y_pred_ros_xgboost))\n",
        "\n",
        "#RUS\n",
        "model = xgb.XGBClassifier()\n",
        "grid_search = GridSearchCV(model, param_grid=param_dist_xgb, cv = 3, \n",
        "                verbose=10, n_jobs=-1)\n",
        "grid_search.fit(X_train_rus, y_train_rus)\n",
        "\n",
        "xgb_model = grid_search.best_estimator_\n",
        "\n",
        "y_pred_rus_xgboost = xgb_model.predict(X_test.values)\n",
        "\n",
        "recall_xgb.append(recall_score(y_test, y_pred_rus_xgboost))\n",
        "precision_xgb.append(precision_score(y_test, y_pred_rus_xgboost))\n",
        "f1_xgb.append(f1_score(y_test, y_pred_rus_xgboost))\n",
        "auprc_xgb.append(average_precision_score(y_test, y_pred_rus_xgboost))"
      ],
      "execution_count": null,
      "outputs": [
        {
          "output_type": "stream",
          "text": [
            "Fitting 3 folds for each of 54 candidates, totalling 162 fits\n"
          ],
          "name": "stdout"
        },
        {
          "output_type": "stream",
          "text": [
            "[Parallel(n_jobs=-1)]: Using backend LokyBackend with 2 concurrent workers.\n",
            "[Parallel(n_jobs=-1)]: Done   1 tasks      | elapsed:    1.4s\n",
            "[Parallel(n_jobs=-1)]: Done   4 tasks      | elapsed:    2.2s\n",
            "[Parallel(n_jobs=-1)]: Done   9 tasks      | elapsed:    4.4s\n",
            "[Parallel(n_jobs=-1)]: Done  14 tasks      | elapsed:    5.8s\n",
            "[Parallel(n_jobs=-1)]: Done  21 tasks      | elapsed:    8.2s\n",
            "[Parallel(n_jobs=-1)]: Done  28 tasks      | elapsed:   10.8s\n",
            "[Parallel(n_jobs=-1)]: Done  37 tasks      | elapsed:   16.1s\n",
            "[Parallel(n_jobs=-1)]: Done  46 tasks      | elapsed:   20.4s\n",
            "[Parallel(n_jobs=-1)]: Done  57 tasks      | elapsed:   24.5s\n",
            "[Parallel(n_jobs=-1)]: Done  68 tasks      | elapsed:   28.3s\n",
            "[Parallel(n_jobs=-1)]: Done  81 tasks      | elapsed:   33.3s\n",
            "[Parallel(n_jobs=-1)]: Done  94 tasks      | elapsed:   40.0s\n",
            "[Parallel(n_jobs=-1)]: Done 109 tasks      | elapsed:   47.1s\n",
            "[Parallel(n_jobs=-1)]: Done 124 tasks      | elapsed:   52.0s\n",
            "[Parallel(n_jobs=-1)]: Done 141 tasks      | elapsed:   58.7s\n",
            "[Parallel(n_jobs=-1)]: Done 158 tasks      | elapsed:  1.1min\n",
            "[Parallel(n_jobs=-1)]: Done 162 out of 162 | elapsed:  1.2min finished\n"
          ],
          "name": "stderr"
        },
        {
          "output_type": "stream",
          "text": [
            "Fitting 3 folds for each of 54 candidates, totalling 162 fits\n"
          ],
          "name": "stdout"
        },
        {
          "output_type": "stream",
          "text": [
            "[Parallel(n_jobs=-1)]: Using backend LokyBackend with 2 concurrent workers.\n",
            "[Parallel(n_jobs=-1)]: Done   1 tasks      | elapsed:    0.4s\n",
            "[Parallel(n_jobs=-1)]: Done   4 tasks      | elapsed:    1.1s\n",
            "[Parallel(n_jobs=-1)]: Done   9 tasks      | elapsed:    3.2s\n",
            "[Parallel(n_jobs=-1)]: Done  14 tasks      | elapsed:    4.5s\n",
            "[Parallel(n_jobs=-1)]: Done  21 tasks      | elapsed:    6.8s\n",
            "[Parallel(n_jobs=-1)]: Done  28 tasks      | elapsed:    9.2s\n",
            "[Parallel(n_jobs=-1)]: Done  37 tasks      | elapsed:   13.8s\n",
            "[Parallel(n_jobs=-1)]: Done  46 tasks      | elapsed:   17.6s\n",
            "[Parallel(n_jobs=-1)]: Done  57 tasks      | elapsed:   21.1s\n",
            "[Parallel(n_jobs=-1)]: Done  68 tasks      | elapsed:   24.8s\n",
            "[Parallel(n_jobs=-1)]: Done  81 tasks      | elapsed:   29.5s\n",
            "[Parallel(n_jobs=-1)]: Done  94 tasks      | elapsed:   35.4s\n",
            "[Parallel(n_jobs=-1)]: Done 109 tasks      | elapsed:   41.7s\n",
            "[Parallel(n_jobs=-1)]: Done 124 tasks      | elapsed:   46.2s\n",
            "[Parallel(n_jobs=-1)]: Done 141 tasks      | elapsed:   52.6s\n",
            "[Parallel(n_jobs=-1)]: Done 158 tasks      | elapsed:  1.0min\n",
            "[Parallel(n_jobs=-1)]: Done 162 out of 162 | elapsed:  1.1min finished\n"
          ],
          "name": "stderr"
        },
        {
          "output_type": "stream",
          "text": [
            "Fitting 3 folds for each of 54 candidates, totalling 162 fits\n"
          ],
          "name": "stdout"
        },
        {
          "output_type": "stream",
          "text": [
            "[Parallel(n_jobs=-1)]: Using backend LokyBackend with 2 concurrent workers.\n",
            "[Parallel(n_jobs=-1)]: Done   1 tasks      | elapsed:    0.1s\n",
            "[Parallel(n_jobs=-1)]: Batch computation too fast (0.1411s.) Setting batch_size=2.\n",
            "[Parallel(n_jobs=-1)]: Done   4 tasks      | elapsed:    0.4s\n",
            "[Parallel(n_jobs=-1)]: Done  14 tasks      | elapsed:    1.8s\n",
            "[Parallel(n_jobs=-1)]: Done  24 tasks      | elapsed:    2.9s\n",
            "[Parallel(n_jobs=-1)]: Done  38 tasks      | elapsed:    4.9s\n",
            "[Parallel(n_jobs=-1)]: Done  52 tasks      | elapsed:    6.4s\n",
            "[Parallel(n_jobs=-1)]: Done  70 tasks      | elapsed:    8.7s\n",
            "[Parallel(n_jobs=-1)]: Done  88 tasks      | elapsed:   11.0s\n",
            "[Parallel(n_jobs=-1)]: Done 110 tasks      | elapsed:   13.6s\n",
            "[Parallel(n_jobs=-1)]: Done 132 tasks      | elapsed:   16.1s\n",
            "[Parallel(n_jobs=-1)]: Done 158 tasks      | elapsed:   20.3s\n",
            "[Parallel(n_jobs=-1)]: Done 162 out of 162 | elapsed:   20.8s finished\n"
          ],
          "name": "stderr"
        }
      ]
    },
    {
      "cell_type": "code",
      "metadata": {
        "colab": {
          "base_uri": "https://localhost:8080/"
        },
        "id": "RApIC5n6t9Pw",
        "outputId": "e63c4f9d-993c-4bf9-96d8-9d570fa534b1"
      },
      "source": [
        "print(recall_xgb)"
      ],
      "execution_count": null,
      "outputs": [
        {
          "output_type": "stream",
          "text": [
            "[0.6263940520446096, 0.5576208178438662, 0.5464684014869888, 0.7732342007434945]\n"
          ],
          "name": "stdout"
        }
      ]
    },
    {
      "cell_type": "code",
      "metadata": {
        "colab": {
          "base_uri": "https://localhost:8080/"
        },
        "id": "5I6iP5i-t9dc",
        "outputId": "f13ea82a-1743-458d-de64-f1e16c02fd2e"
      },
      "source": [
        "print(precision_xgb)"
      ],
      "execution_count": null,
      "outputs": [
        {
          "output_type": "stream",
          "text": [
            "[0.5820379965457686, 0.5758157389635317, 0.5776031434184676, 0.5110565110565111]\n"
          ],
          "name": "stdout"
        }
      ]
    },
    {
      "cell_type": "code",
      "metadata": {
        "colab": {
          "base_uri": "https://localhost:8080/"
        },
        "id": "IulJoq6st93c",
        "outputId": "620f8289-cd67-4225-f942-157eef2a4b38"
      },
      "source": [
        "print(f1_xgb)"
      ],
      "execution_count": null,
      "outputs": [
        {
          "output_type": "stream",
          "text": [
            "[0.6034019695613251, 0.56657223796034, 0.5616045845272205, 0.6153846153846154]\n"
          ],
          "name": "stdout"
        }
      ]
    },
    {
      "cell_type": "code",
      "metadata": {
        "colab": {
          "base_uri": "https://localhost:8080/"
        },
        "id": "UXgUZRzbt-XP",
        "outputId": "c2552d4d-e36c-42d4-85b6-fcad23e054ac"
      },
      "source": [
        "print(auprc_xgb)"
      ],
      "execution_count": null,
      "outputs": [
        {
          "output_type": "stream",
          "text": [
            "[0.45984580260733954, 0.43388305181902037, 0.43128167690429026, 0.4529862780748103]\n"
          ],
          "name": "stdout"
        }
      ]
    },
    {
      "cell_type": "code",
      "metadata": {
        "colab": {
          "base_uri": "https://localhost:8080/"
        },
        "id": "zq4Jz1pQlMeC",
        "outputId": "f941ffc2-7f72-4066-88ae-37ec0f3a0c61"
      },
      "source": [
        "# XGB\n",
        "\n",
        "#SMOTE BL\n",
        "model = xgb.XGBClassifier()\n",
        "grid_search = GridSearchCV(model, param_grid=param_dist_xgb, cv = 3, \n",
        "                verbose=10, n_jobs=-1)\n",
        "grid_search.fit(X_train_smote_bl, y_train_smote_bl)\n",
        "\n",
        "xgb_model = grid_search.best_estimator_\n",
        "\n",
        "y_pred_smotebl_xgboost = xgb_model.predict(X_test.values)\n",
        "\n",
        "recall_xgb.append(recall_score(y_test, y_pred_smotebl_xgboost))\n",
        "precision_xgb.append(precision_score(y_test, y_pred_smotebl_xgboost))\n",
        "f1_xgb.append(f1_score(y_test, y_pred_smotebl_xgboost))\n",
        "auprc_xgb.append(average_precision_score(y_test, y_pred_smotebl_xgboost))\n",
        "\n",
        "#SMOTE ENN\n",
        "model = xgb.XGBClassifier()\n",
        "grid_search = GridSearchCV(model, param_grid=param_dist_xgb, cv = 3, \n",
        "                verbose=10, n_jobs=-1)\n",
        "grid_search.fit(X_train_smote_enn, y_train_smote_enn)\n",
        "\n",
        "xgb_model = grid_search.best_estimator_\n",
        "\n",
        "y_pred_smoteenn_xgboost = xgb_model.predict(X_test.values)\n",
        "\n",
        "recall_xgb.append(recall_score(y_test, y_pred_smoteenn_xgboost))\n",
        "precision_xgb.append(precision_score(y_test, y_pred_smoteenn_xgboost))\n",
        "f1_xgb.append(f1_score(y_test, y_pred_smoteenn_xgboost))\n",
        "auprc_xgb.append(average_precision_score(y_test, y_pred_smoteenn_xgboost))\n",
        "\n",
        "#SMOTE Tomek\n",
        "model = xgb.XGBClassifier()\n",
        "grid_search = GridSearchCV(model, param_grid=param_dist_xgb, cv = 3, \n",
        "                verbose=10, n_jobs=-1)\n",
        "grid_search.fit(X_train_smote_tomek, y_train_smote_tomek)\n",
        "\n",
        "xgb_model = grid_search.best_estimator_\n",
        "\n",
        "y_pred_smote_tomek_xgboost = xgb_model.predict(X_test.values)\n",
        "\n",
        "recall_xgb.append(recall_score(y_test, y_pred_smote_tomek_xgboost))\n",
        "precision_xgb.append(precision_score(y_test, y_pred_smote_tomek_xgboost))\n",
        "f1_xgb.append(f1_score(y_test, y_pred_smote_tomek_xgboost))\n",
        "auprc_xgb.append(average_precision_score(y_test, y_pred_smote_tomek_xgboost))"
      ],
      "execution_count": null,
      "outputs": [
        {
          "output_type": "stream",
          "text": [
            "Fitting 3 folds for each of 54 candidates, totalling 162 fits\n"
          ],
          "name": "stdout"
        },
        {
          "output_type": "stream",
          "text": [
            "[Parallel(n_jobs=-1)]: Using backend LokyBackend with 2 concurrent workers.\n",
            "[Parallel(n_jobs=-1)]: Done   1 tasks      | elapsed:    0.4s\n",
            "[Parallel(n_jobs=-1)]: Done   4 tasks      | elapsed:    1.2s\n",
            "[Parallel(n_jobs=-1)]: Done   9 tasks      | elapsed:    3.4s\n",
            "[Parallel(n_jobs=-1)]: Done  14 tasks      | elapsed:    4.9s\n",
            "[Parallel(n_jobs=-1)]: Done  21 tasks      | elapsed:    7.3s\n",
            "[Parallel(n_jobs=-1)]: Done  28 tasks      | elapsed:   10.0s\n",
            "[Parallel(n_jobs=-1)]: Done  37 tasks      | elapsed:   15.4s\n",
            "[Parallel(n_jobs=-1)]: Done  46 tasks      | elapsed:   19.8s\n",
            "[Parallel(n_jobs=-1)]: Done  57 tasks      | elapsed:   24.0s\n",
            "[Parallel(n_jobs=-1)]: Done  68 tasks      | elapsed:   27.9s\n",
            "[Parallel(n_jobs=-1)]: Done  81 tasks      | elapsed:   32.9s\n",
            "[Parallel(n_jobs=-1)]: Done  94 tasks      | elapsed:   39.8s\n",
            "[Parallel(n_jobs=-1)]: Done 109 tasks      | elapsed:   47.0s\n",
            "[Parallel(n_jobs=-1)]: Done 124 tasks      | elapsed:   51.9s\n",
            "[Parallel(n_jobs=-1)]: Done 141 tasks      | elapsed:   58.7s\n",
            "[Parallel(n_jobs=-1)]: Done 158 tasks      | elapsed:  1.1min\n",
            "[Parallel(n_jobs=-1)]: Done 162 out of 162 | elapsed:  1.2min finished\n"
          ],
          "name": "stderr"
        },
        {
          "output_type": "stream",
          "text": [
            "Fitting 3 folds for each of 54 candidates, totalling 162 fits\n"
          ],
          "name": "stdout"
        },
        {
          "output_type": "stream",
          "text": [
            "[Parallel(n_jobs=-1)]: Using backend LokyBackend with 2 concurrent workers.\n",
            "[Parallel(n_jobs=-1)]: Done   1 tasks      | elapsed:    0.2s\n",
            "[Parallel(n_jobs=-1)]: Batch computation too fast (0.1891s.) Setting batch_size=2.\n",
            "[Parallel(n_jobs=-1)]: Done   4 tasks      | elapsed:    0.6s\n",
            "[Parallel(n_jobs=-1)]: Done  14 tasks      | elapsed:    2.4s\n",
            "[Parallel(n_jobs=-1)]: Done  24 tasks      | elapsed:    3.8s\n",
            "[Parallel(n_jobs=-1)]: Done  38 tasks      | elapsed:    6.2s\n",
            "[Parallel(n_jobs=-1)]: Done  52 tasks      | elapsed:    8.2s\n",
            "[Parallel(n_jobs=-1)]: Done  70 tasks      | elapsed:   11.2s\n",
            "[Parallel(n_jobs=-1)]: Done  88 tasks      | elapsed:   14.0s\n",
            "[Parallel(n_jobs=-1)]: Done 110 tasks      | elapsed:   17.1s\n",
            "[Parallel(n_jobs=-1)]: Done 132 tasks      | elapsed:   20.5s\n",
            "[Parallel(n_jobs=-1)]: Done 158 tasks      | elapsed:   24.6s\n",
            "[Parallel(n_jobs=-1)]: Done 162 out of 162 | elapsed:   25.1s finished\n"
          ],
          "name": "stderr"
        },
        {
          "output_type": "stream",
          "text": [
            "Fitting 3 folds for each of 54 candidates, totalling 162 fits\n"
          ],
          "name": "stdout"
        },
        {
          "output_type": "stream",
          "text": [
            "[Parallel(n_jobs=-1)]: Using backend LokyBackend with 2 concurrent workers.\n",
            "[Parallel(n_jobs=-1)]: Done   1 tasks      | elapsed:    0.4s\n",
            "[Parallel(n_jobs=-1)]: Done   4 tasks      | elapsed:    1.1s\n",
            "[Parallel(n_jobs=-1)]: Done   9 tasks      | elapsed:    3.1s\n",
            "[Parallel(n_jobs=-1)]: Done  14 tasks      | elapsed:    4.5s\n",
            "[Parallel(n_jobs=-1)]: Done  21 tasks      | elapsed:    6.8s\n",
            "[Parallel(n_jobs=-1)]: Done  28 tasks      | elapsed:    9.2s\n",
            "[Parallel(n_jobs=-1)]: Done  37 tasks      | elapsed:   13.6s\n",
            "[Parallel(n_jobs=-1)]: Done  46 tasks      | elapsed:   17.3s\n",
            "[Parallel(n_jobs=-1)]: Done  57 tasks      | elapsed:   20.8s\n",
            "[Parallel(n_jobs=-1)]: Done  68 tasks      | elapsed:   24.6s\n",
            "[Parallel(n_jobs=-1)]: Done  81 tasks      | elapsed:   29.2s\n",
            "[Parallel(n_jobs=-1)]: Done  94 tasks      | elapsed:   35.1s\n",
            "[Parallel(n_jobs=-1)]: Done 109 tasks      | elapsed:   41.2s\n",
            "[Parallel(n_jobs=-1)]: Done 124 tasks      | elapsed:   45.9s\n",
            "[Parallel(n_jobs=-1)]: Done 141 tasks      | elapsed:   52.0s\n",
            "[Parallel(n_jobs=-1)]: Done 158 tasks      | elapsed:   59.2s\n",
            "[Parallel(n_jobs=-1)]: Done 162 out of 162 | elapsed:  1.0min finished\n"
          ],
          "name": "stderr"
        }
      ]
    },
    {
      "cell_type": "code",
      "metadata": {
        "colab": {
          "base_uri": "https://localhost:8080/"
        },
        "id": "tQCbD8EDtJIO",
        "outputId": "6118f2d3-2c87-47e2-dcdd-c1a00772755e"
      },
      "source": [
        "print(recall_xgb)"
      ],
      "execution_count": null,
      "outputs": [
        {
          "output_type": "stream",
          "text": [
            "[0.6263940520446096, 0.5576208178438662, 0.5464684014869888, 0.7732342007434945, 0.6524163568773235, 0.7509293680297398, 0.5669144981412639]\n"
          ],
          "name": "stdout"
        }
      ]
    },
    {
      "cell_type": "code",
      "metadata": {
        "colab": {
          "base_uri": "https://localhost:8080/"
        },
        "id": "Xz-KTh8StOy7",
        "outputId": "18304cca-f631-41a1-9da2-2a223a6a467f"
      },
      "source": [
        "print(precision_xgb)"
      ],
      "execution_count": null,
      "outputs": [
        {
          "output_type": "stream",
          "text": [
            "[0.5820379965457686, 0.5758157389635317, 0.5776031434184676, 0.5110565110565111, 0.560702875399361, 0.4873341375150784, 0.5616942909760589]\n"
          ],
          "name": "stdout"
        }
      ]
    },
    {
      "cell_type": "code",
      "metadata": {
        "colab": {
          "base_uri": "https://localhost:8080/"
        },
        "id": "nUQTx7-vtQz9",
        "outputId": "48b2073b-ba36-4e23-fe34-87577db31c9e"
      },
      "source": [
        "print(f1_xgb)"
      ],
      "execution_count": null,
      "outputs": [
        {
          "output_type": "stream",
          "text": [
            "[0.6034019695613251, 0.56657223796034, 0.5616045845272205, 0.6153846153846154, 0.6030927835051547, 0.5910753474762253, 0.5642923219241442]\n"
          ],
          "name": "stdout"
        }
      ]
    },
    {
      "cell_type": "code",
      "metadata": {
        "colab": {
          "base_uri": "https://localhost:8080/"
        },
        "id": "Q9xlrLpBtPCV",
        "outputId": "164fd063-c64f-4589-bc67-e73bc09703ed"
      },
      "source": [
        "print(auprc_xgb)"
      ],
      "execution_count": null,
      "outputs": [
        {
          "output_type": "stream",
          "text": [
            "[0.45984580260733954, 0.43388305181902037, 0.43128167690429026, 0.4529862780748103, 0.4544373196757526, 0.42946062490825543, 0.42885917736186574]\n"
          ],
          "name": "stdout"
        }
      ]
    },
    {
      "cell_type": "code",
      "metadata": {
        "colab": {
          "base_uri": "https://localhost:8080/"
        },
        "id": "7jqA3uC4X3p1",
        "outputId": "cf9c70b2-e97a-4f0b-f977-676245f73648"
      },
      "source": [
        "# CB\n",
        "!pip install catboost\n",
        "import catboost\n",
        "from catboost import Pool\n",
        "from catboost import CatBoostClassifier"
      ],
      "execution_count": null,
      "outputs": [
        {
          "output_type": "stream",
          "text": [
            "Collecting catboost\n",
            "\u001b[?25l  Downloading https://files.pythonhosted.org/packages/47/80/8e9c57ec32dfed6ba2922bc5c96462cbf8596ce1a6f5de532ad1e43e53fe/catboost-0.25.1-cp37-none-manylinux1_x86_64.whl (67.3MB)\n",
            "\u001b[K     |████████████████████████████████| 67.3MB 77kB/s \n",
            "\u001b[?25hRequirement already satisfied: numpy>=1.16.0 in /usr/local/lib/python3.7/dist-packages (from catboost) (1.19.5)\n",
            "Requirement already satisfied: plotly in /usr/local/lib/python3.7/dist-packages (from catboost) (4.4.1)\n",
            "Requirement already satisfied: pandas>=0.24.0 in /usr/local/lib/python3.7/dist-packages (from catboost) (1.1.5)\n",
            "Requirement already satisfied: matplotlib in /usr/local/lib/python3.7/dist-packages (from catboost) (3.2.2)\n",
            "Requirement already satisfied: graphviz in /usr/local/lib/python3.7/dist-packages (from catboost) (0.10.1)\n",
            "Requirement already satisfied: scipy in /usr/local/lib/python3.7/dist-packages (from catboost) (1.4.1)\n",
            "Requirement already satisfied: six in /usr/local/lib/python3.7/dist-packages (from catboost) (1.15.0)\n",
            "Requirement already satisfied: retrying>=1.3.3 in /usr/local/lib/python3.7/dist-packages (from plotly->catboost) (1.3.3)\n",
            "Requirement already satisfied: pytz>=2017.2 in /usr/local/lib/python3.7/dist-packages (from pandas>=0.24.0->catboost) (2018.9)\n",
            "Requirement already satisfied: python-dateutil>=2.7.3 in /usr/local/lib/python3.7/dist-packages (from pandas>=0.24.0->catboost) (2.8.1)\n",
            "Requirement already satisfied: cycler>=0.10 in /usr/local/lib/python3.7/dist-packages (from matplotlib->catboost) (0.10.0)\n",
            "Requirement already satisfied: pyparsing!=2.0.4,!=2.1.2,!=2.1.6,>=2.0.1 in /usr/local/lib/python3.7/dist-packages (from matplotlib->catboost) (2.4.7)\n",
            "Requirement already satisfied: kiwisolver>=1.0.1 in /usr/local/lib/python3.7/dist-packages (from matplotlib->catboost) (1.3.1)\n",
            "Installing collected packages: catboost\n",
            "Successfully installed catboost-0.25.1\n"
          ],
          "name": "stdout"
        }
      ]
    },
    {
      "cell_type": "code",
      "metadata": {
        "colab": {
          "base_uri": "https://localhost:8080/",
          "height": 37
        },
        "id": "y4bVr1pg312L",
        "outputId": "1f32c6ad-aecf-4d4f-8f18-00fcd77db351"
      },
      "source": [
        "catboost.__version__"
      ],
      "execution_count": null,
      "outputs": [
        {
          "output_type": "execute_result",
          "data": {
            "application/vnd.google.colaboratory.intrinsic+json": {
              "type": "string"
            },
            "text/plain": [
              "'0.25.1'"
            ]
          },
          "metadata": {
            "tags": []
          },
          "execution_count": 2
        }
      ]
    },
    {
      "cell_type": "code",
      "metadata": {
        "colab": {
          "base_uri": "https://localhost:8080/"
        },
        "id": "VC4bFtymwSsN",
        "outputId": "0dbc4105-8e0d-436f-a327-969f0ad61a7c"
      },
      "source": [
        "# CB\n",
        "recall_cb = []\n",
        "precision_cb = []\n",
        "f1_cb = []\n",
        "auprc_cb = []\n",
        "\n",
        "\n",
        "#SMOTE\n",
        "model = CatBoostClassifier()\n",
        "grid_search = GridSearchCV(model, param_grid=param_grid_cb, cv = 3, \n",
        "                verbose=10, n_jobs=-1)\n",
        "\n",
        "grid_search.fit(X_train_smote, y_train_smote)\n",
        "\n",
        "cb_model = grid_search.best_estimator_\n",
        "\n",
        "y_pred_smote_cb = cb_model.predict(X_test.values)\n",
        "\n",
        "recall_cb.append(recall_score(y_test, y_pred_smote_cb))\n",
        "precision_cb.append(precision_score(y_test, y_pred_smote_cb))\n",
        "f1_cb.append(f1_score(y_test, y_pred_smote_cb))\n",
        "auprc_cb.append(average_precision_score(y_test, y_pred_smote_cb))"
      ],
      "execution_count": null,
      "outputs": [
        {
          "output_type": "stream",
          "text": [
            "Fitting 3 folds for each of 45 candidates, totalling 135 fits\n"
          ],
          "name": "stdout"
        },
        {
          "output_type": "stream",
          "text": [
            "[Parallel(n_jobs=-1)]: Using backend LokyBackend with 2 concurrent workers.\n",
            "[Parallel(n_jobs=-1)]: Done   1 tasks      | elapsed:   11.1s\n",
            "[Parallel(n_jobs=-1)]: Done   4 tasks      | elapsed:   27.7s\n",
            "[Parallel(n_jobs=-1)]: Done   9 tasks      | elapsed:   56.4s\n",
            "[Parallel(n_jobs=-1)]: Done  14 tasks      | elapsed:  1.5min\n",
            "[Parallel(n_jobs=-1)]: Done  21 tasks      | elapsed:  2.2min\n",
            "[Parallel(n_jobs=-1)]: Done  28 tasks      | elapsed:  3.0min\n",
            "[Parallel(n_jobs=-1)]: Done  37 tasks      | elapsed:  3.9min\n",
            "[Parallel(n_jobs=-1)]: Done  46 tasks      | elapsed:  5.0min\n",
            "[Parallel(n_jobs=-1)]: Done  57 tasks      | elapsed:  6.8min\n",
            "[Parallel(n_jobs=-1)]: Done  68 tasks      | elapsed:  8.8min\n",
            "[Parallel(n_jobs=-1)]: Done  81 tasks      | elapsed: 11.1min\n",
            "[Parallel(n_jobs=-1)]: Done  94 tasks      | elapsed: 17.5min\n",
            "/usr/local/lib/python3.7/dist-packages/joblib/externals/loky/process_executor.py:691: UserWarning: A worker stopped while some jobs were given to the executor. This can be caused by a too short worker timeout or by a memory leak.\n",
            "  \"timeout or by a memory leak.\", UserWarning\n",
            "[Parallel(n_jobs=-1)]: Done 109 tasks      | elapsed: 31.7min\n",
            "[Parallel(n_jobs=-1)]: Done 124 tasks      | elapsed: 46.7min\n",
            "[Parallel(n_jobs=-1)]: Done 135 out of 135 | elapsed: 56.2min finished\n"
          ],
          "name": "stderr"
        },
        {
          "output_type": "stream",
          "text": [
            "0:\tlearn: 0.6563022\ttotal: 99.3ms\tremaining: 1m 39s\n",
            "1:\tlearn: 0.6268920\ttotal: 179ms\tremaining: 1m 29s\n",
            "2:\tlearn: 0.5984005\ttotal: 259ms\tremaining: 1m 26s\n",
            "3:\tlearn: 0.5736598\ttotal: 347ms\tremaining: 1m 26s\n",
            "4:\tlearn: 0.5528102\ttotal: 426ms\tremaining: 1m 24s\n",
            "5:\tlearn: 0.5343734\ttotal: 506ms\tremaining: 1m 23s\n",
            "6:\tlearn: 0.5168624\ttotal: 604ms\tremaining: 1m 25s\n",
            "7:\tlearn: 0.5003111\ttotal: 684ms\tremaining: 1m 24s\n",
            "8:\tlearn: 0.4871996\ttotal: 768ms\tremaining: 1m 24s\n",
            "9:\tlearn: 0.4743154\ttotal: 849ms\tremaining: 1m 24s\n",
            "10:\tlearn: 0.4623459\ttotal: 930ms\tremaining: 1m 23s\n",
            "11:\tlearn: 0.4514543\ttotal: 1.01s\tremaining: 1m 23s\n",
            "12:\tlearn: 0.4423239\ttotal: 1.09s\tremaining: 1m 23s\n",
            "13:\tlearn: 0.4326542\ttotal: 1.17s\tremaining: 1m 22s\n",
            "14:\tlearn: 0.4251699\ttotal: 1.26s\tremaining: 1m 22s\n",
            "15:\tlearn: 0.4187722\ttotal: 1.34s\tremaining: 1m 22s\n",
            "16:\tlearn: 0.4118120\ttotal: 1.42s\tremaining: 1m 22s\n",
            "17:\tlearn: 0.4054812\ttotal: 1.5s\tremaining: 1m 21s\n",
            "18:\tlearn: 0.3996909\ttotal: 1.59s\tremaining: 1m 22s\n",
            "19:\tlearn: 0.3937801\ttotal: 1.68s\tremaining: 1m 22s\n",
            "20:\tlearn: 0.3890752\ttotal: 1.76s\tremaining: 1m 21s\n",
            "21:\tlearn: 0.3827643\ttotal: 1.84s\tremaining: 1m 21s\n",
            "22:\tlearn: 0.3757381\ttotal: 1.92s\tremaining: 1m 21s\n",
            "23:\tlearn: 0.3690626\ttotal: 2s\tremaining: 1m 21s\n",
            "24:\tlearn: 0.3651574\ttotal: 2.08s\tremaining: 1m 21s\n",
            "25:\tlearn: 0.3614990\ttotal: 2.17s\tremaining: 1m 21s\n",
            "26:\tlearn: 0.3564898\ttotal: 2.25s\tremaining: 1m 21s\n",
            "27:\tlearn: 0.3530700\ttotal: 2.33s\tremaining: 1m 21s\n",
            "28:\tlearn: 0.3493156\ttotal: 2.42s\tremaining: 1m 20s\n",
            "29:\tlearn: 0.3455772\ttotal: 2.49s\tremaining: 1m 20s\n",
            "30:\tlearn: 0.3421127\ttotal: 2.58s\tremaining: 1m 20s\n",
            "31:\tlearn: 0.3382272\ttotal: 2.67s\tremaining: 1m 20s\n",
            "32:\tlearn: 0.3350796\ttotal: 2.74s\tremaining: 1m 20s\n",
            "33:\tlearn: 0.3317084\ttotal: 2.83s\tremaining: 1m 20s\n",
            "34:\tlearn: 0.3288659\ttotal: 2.91s\tremaining: 1m 20s\n",
            "35:\tlearn: 0.3263136\ttotal: 2.99s\tremaining: 1m 20s\n",
            "36:\tlearn: 0.3242043\ttotal: 3.07s\tremaining: 1m 19s\n",
            "37:\tlearn: 0.3203293\ttotal: 3.15s\tremaining: 1m 19s\n",
            "38:\tlearn: 0.3183809\ttotal: 3.23s\tremaining: 1m 19s\n",
            "39:\tlearn: 0.3157702\ttotal: 3.32s\tremaining: 1m 19s\n",
            "40:\tlearn: 0.3126441\ttotal: 3.4s\tremaining: 1m 19s\n",
            "41:\tlearn: 0.3107101\ttotal: 3.48s\tremaining: 1m 19s\n",
            "42:\tlearn: 0.3083453\ttotal: 3.56s\tremaining: 1m 19s\n",
            "43:\tlearn: 0.3063753\ttotal: 3.65s\tremaining: 1m 19s\n",
            "44:\tlearn: 0.3044989\ttotal: 3.73s\tremaining: 1m 19s\n",
            "45:\tlearn: 0.3032267\ttotal: 3.82s\tremaining: 1m 19s\n",
            "46:\tlearn: 0.3010828\ttotal: 3.9s\tremaining: 1m 19s\n",
            "47:\tlearn: 0.2990225\ttotal: 3.98s\tremaining: 1m 18s\n",
            "48:\tlearn: 0.2976767\ttotal: 4.07s\tremaining: 1m 18s\n",
            "49:\tlearn: 0.2956719\ttotal: 4.15s\tremaining: 1m 18s\n",
            "50:\tlearn: 0.2935116\ttotal: 4.23s\tremaining: 1m 18s\n",
            "51:\tlearn: 0.2912493\ttotal: 4.31s\tremaining: 1m 18s\n",
            "52:\tlearn: 0.2883388\ttotal: 4.39s\tremaining: 1m 18s\n",
            "53:\tlearn: 0.2872020\ttotal: 4.47s\tremaining: 1m 18s\n",
            "54:\tlearn: 0.2856127\ttotal: 4.55s\tremaining: 1m 18s\n",
            "55:\tlearn: 0.2844944\ttotal: 4.64s\tremaining: 1m 18s\n",
            "56:\tlearn: 0.2820228\ttotal: 4.72s\tremaining: 1m 18s\n",
            "57:\tlearn: 0.2804288\ttotal: 4.8s\tremaining: 1m 17s\n",
            "58:\tlearn: 0.2776901\ttotal: 4.88s\tremaining: 1m 17s\n",
            "59:\tlearn: 0.2764703\ttotal: 4.96s\tremaining: 1m 17s\n",
            "60:\tlearn: 0.2749615\ttotal: 5.04s\tremaining: 1m 17s\n",
            "61:\tlearn: 0.2736908\ttotal: 5.13s\tremaining: 1m 17s\n",
            "62:\tlearn: 0.2725421\ttotal: 5.21s\tremaining: 1m 17s\n",
            "63:\tlearn: 0.2711978\ttotal: 5.29s\tremaining: 1m 17s\n",
            "64:\tlearn: 0.2699475\ttotal: 5.37s\tremaining: 1m 17s\n",
            "65:\tlearn: 0.2688397\ttotal: 5.45s\tremaining: 1m 17s\n",
            "66:\tlearn: 0.2673130\ttotal: 5.54s\tremaining: 1m 17s\n",
            "67:\tlearn: 0.2659504\ttotal: 5.62s\tremaining: 1m 17s\n",
            "68:\tlearn: 0.2644211\ttotal: 5.71s\tremaining: 1m 17s\n",
            "69:\tlearn: 0.2622369\ttotal: 5.79s\tremaining: 1m 16s\n",
            "70:\tlearn: 0.2605595\ttotal: 5.87s\tremaining: 1m 16s\n",
            "71:\tlearn: 0.2587831\ttotal: 5.96s\tremaining: 1m 16s\n",
            "72:\tlearn: 0.2576728\ttotal: 6.04s\tremaining: 1m 16s\n",
            "73:\tlearn: 0.2560624\ttotal: 6.12s\tremaining: 1m 16s\n",
            "74:\tlearn: 0.2551322\ttotal: 6.2s\tremaining: 1m 16s\n",
            "75:\tlearn: 0.2529956\ttotal: 6.28s\tremaining: 1m 16s\n",
            "76:\tlearn: 0.2508328\ttotal: 6.36s\tremaining: 1m 16s\n",
            "77:\tlearn: 0.2499191\ttotal: 6.44s\tremaining: 1m 16s\n",
            "78:\tlearn: 0.2490099\ttotal: 6.53s\tremaining: 1m 16s\n",
            "79:\tlearn: 0.2474468\ttotal: 6.6s\tremaining: 1m 15s\n",
            "80:\tlearn: 0.2462453\ttotal: 6.69s\tremaining: 1m 15s\n",
            "81:\tlearn: 0.2443901\ttotal: 6.78s\tremaining: 1m 15s\n",
            "82:\tlearn: 0.2426285\ttotal: 6.85s\tremaining: 1m 15s\n",
            "83:\tlearn: 0.2421594\ttotal: 6.93s\tremaining: 1m 15s\n",
            "84:\tlearn: 0.2402024\ttotal: 7.02s\tremaining: 1m 15s\n",
            "85:\tlearn: 0.2385547\ttotal: 7.1s\tremaining: 1m 15s\n",
            "86:\tlearn: 0.2372989\ttotal: 7.18s\tremaining: 1m 15s\n",
            "87:\tlearn: 0.2362190\ttotal: 7.26s\tremaining: 1m 15s\n",
            "88:\tlearn: 0.2351859\ttotal: 7.34s\tremaining: 1m 15s\n",
            "89:\tlearn: 0.2342124\ttotal: 7.43s\tremaining: 1m 15s\n",
            "90:\tlearn: 0.2325727\ttotal: 7.51s\tremaining: 1m 15s\n",
            "91:\tlearn: 0.2318492\ttotal: 7.59s\tremaining: 1m 14s\n",
            "92:\tlearn: 0.2305296\ttotal: 7.68s\tremaining: 1m 14s\n",
            "93:\tlearn: 0.2295088\ttotal: 7.76s\tremaining: 1m 14s\n",
            "94:\tlearn: 0.2279296\ttotal: 7.84s\tremaining: 1m 14s\n",
            "95:\tlearn: 0.2270279\ttotal: 7.92s\tremaining: 1m 14s\n",
            "96:\tlearn: 0.2256076\ttotal: 8.01s\tremaining: 1m 14s\n",
            "97:\tlearn: 0.2250333\ttotal: 8.09s\tremaining: 1m 14s\n",
            "98:\tlearn: 0.2239871\ttotal: 8.17s\tremaining: 1m 14s\n",
            "99:\tlearn: 0.2232347\ttotal: 8.25s\tremaining: 1m 14s\n",
            "100:\tlearn: 0.2222767\ttotal: 8.33s\tremaining: 1m 14s\n",
            "101:\tlearn: 0.2213785\ttotal: 8.41s\tremaining: 1m 14s\n",
            "102:\tlearn: 0.2204701\ttotal: 8.49s\tremaining: 1m 13s\n",
            "103:\tlearn: 0.2194577\ttotal: 8.57s\tremaining: 1m 13s\n",
            "104:\tlearn: 0.2184768\ttotal: 8.65s\tremaining: 1m 13s\n",
            "105:\tlearn: 0.2177692\ttotal: 8.74s\tremaining: 1m 13s\n",
            "106:\tlearn: 0.2163388\ttotal: 8.82s\tremaining: 1m 13s\n",
            "107:\tlearn: 0.2147979\ttotal: 8.9s\tremaining: 1m 13s\n",
            "108:\tlearn: 0.2141123\ttotal: 8.99s\tremaining: 1m 13s\n",
            "109:\tlearn: 0.2132265\ttotal: 9.07s\tremaining: 1m 13s\n",
            "110:\tlearn: 0.2121596\ttotal: 9.14s\tremaining: 1m 13s\n",
            "111:\tlearn: 0.2107841\ttotal: 9.23s\tremaining: 1m 13s\n",
            "112:\tlearn: 0.2102154\ttotal: 9.31s\tremaining: 1m 13s\n",
            "113:\tlearn: 0.2099428\ttotal: 9.39s\tremaining: 1m 12s\n",
            "114:\tlearn: 0.2091176\ttotal: 9.47s\tremaining: 1m 12s\n",
            "115:\tlearn: 0.2085341\ttotal: 9.56s\tremaining: 1m 12s\n",
            "116:\tlearn: 0.2079322\ttotal: 9.64s\tremaining: 1m 12s\n",
            "117:\tlearn: 0.2070090\ttotal: 9.73s\tremaining: 1m 12s\n",
            "118:\tlearn: 0.2065357\ttotal: 9.81s\tremaining: 1m 12s\n",
            "119:\tlearn: 0.2055470\ttotal: 9.89s\tremaining: 1m 12s\n",
            "120:\tlearn: 0.2048203\ttotal: 9.98s\tremaining: 1m 12s\n",
            "121:\tlearn: 0.2038264\ttotal: 10.1s\tremaining: 1m 12s\n",
            "122:\tlearn: 0.2028573\ttotal: 10.1s\tremaining: 1m 12s\n",
            "123:\tlearn: 0.2012441\ttotal: 10.2s\tremaining: 1m 12s\n",
            "124:\tlearn: 0.2000858\ttotal: 10.3s\tremaining: 1m 12s\n",
            "125:\tlearn: 0.1996001\ttotal: 10.4s\tremaining: 1m 12s\n",
            "126:\tlearn: 0.1989698\ttotal: 10.5s\tremaining: 1m 11s\n",
            "127:\tlearn: 0.1979076\ttotal: 10.5s\tremaining: 1m 11s\n",
            "128:\tlearn: 0.1967415\ttotal: 10.6s\tremaining: 1m 11s\n",
            "129:\tlearn: 0.1955535\ttotal: 10.7s\tremaining: 1m 11s\n",
            "130:\tlearn: 0.1951662\ttotal: 10.8s\tremaining: 1m 11s\n",
            "131:\tlearn: 0.1942913\ttotal: 10.9s\tremaining: 1m 11s\n",
            "132:\tlearn: 0.1936545\ttotal: 11s\tremaining: 1m 11s\n",
            "133:\tlearn: 0.1926914\ttotal: 11s\tremaining: 1m 11s\n",
            "134:\tlearn: 0.1923011\ttotal: 11.1s\tremaining: 1m 11s\n",
            "135:\tlearn: 0.1913881\ttotal: 11.2s\tremaining: 1m 11s\n",
            "136:\tlearn: 0.1909206\ttotal: 11.3s\tremaining: 1m 11s\n",
            "137:\tlearn: 0.1899510\ttotal: 11.4s\tremaining: 1m 10s\n",
            "138:\tlearn: 0.1895546\ttotal: 11.5s\tremaining: 1m 10s\n",
            "139:\tlearn: 0.1890361\ttotal: 11.5s\tremaining: 1m 10s\n",
            "140:\tlearn: 0.1884548\ttotal: 11.6s\tremaining: 1m 10s\n",
            "141:\tlearn: 0.1871768\ttotal: 11.7s\tremaining: 1m 10s\n",
            "142:\tlearn: 0.1864497\ttotal: 11.8s\tremaining: 1m 10s\n",
            "143:\tlearn: 0.1854456\ttotal: 11.9s\tremaining: 1m 10s\n",
            "144:\tlearn: 0.1848052\ttotal: 12s\tremaining: 1m 10s\n",
            "145:\tlearn: 0.1839657\ttotal: 12s\tremaining: 1m 10s\n",
            "146:\tlearn: 0.1827753\ttotal: 12.1s\tremaining: 1m 10s\n",
            "147:\tlearn: 0.1822311\ttotal: 12.2s\tremaining: 1m 10s\n",
            "148:\tlearn: 0.1815751\ttotal: 12.3s\tremaining: 1m 10s\n",
            "149:\tlearn: 0.1808237\ttotal: 12.4s\tremaining: 1m 10s\n",
            "150:\tlearn: 0.1802750\ttotal: 12.4s\tremaining: 1m 9s\n",
            "151:\tlearn: 0.1797056\ttotal: 12.5s\tremaining: 1m 9s\n",
            "152:\tlearn: 0.1791764\ttotal: 12.6s\tremaining: 1m 9s\n",
            "153:\tlearn: 0.1786040\ttotal: 12.7s\tremaining: 1m 9s\n",
            "154:\tlearn: 0.1782480\ttotal: 12.8s\tremaining: 1m 9s\n",
            "155:\tlearn: 0.1778743\ttotal: 12.9s\tremaining: 1m 9s\n",
            "156:\tlearn: 0.1775445\ttotal: 13s\tremaining: 1m 9s\n",
            "157:\tlearn: 0.1768978\ttotal: 13s\tremaining: 1m 9s\n",
            "158:\tlearn: 0.1765759\ttotal: 13.1s\tremaining: 1m 9s\n",
            "159:\tlearn: 0.1754742\ttotal: 13.2s\tremaining: 1m 9s\n",
            "160:\tlearn: 0.1750935\ttotal: 13.3s\tremaining: 1m 9s\n",
            "161:\tlearn: 0.1746293\ttotal: 13.4s\tremaining: 1m 9s\n",
            "162:\tlearn: 0.1738439\ttotal: 13.5s\tremaining: 1m 9s\n",
            "163:\tlearn: 0.1734458\ttotal: 13.5s\tremaining: 1m 9s\n",
            "164:\tlearn: 0.1728042\ttotal: 13.6s\tremaining: 1m 8s\n",
            "165:\tlearn: 0.1724317\ttotal: 13.7s\tremaining: 1m 8s\n",
            "166:\tlearn: 0.1716208\ttotal: 13.8s\tremaining: 1m 8s\n",
            "167:\tlearn: 0.1709135\ttotal: 13.9s\tremaining: 1m 8s\n",
            "168:\tlearn: 0.1705815\ttotal: 14s\tremaining: 1m 8s\n",
            "169:\tlearn: 0.1699655\ttotal: 14s\tremaining: 1m 8s\n",
            "170:\tlearn: 0.1694441\ttotal: 14.1s\tremaining: 1m 8s\n",
            "171:\tlearn: 0.1688416\ttotal: 14.2s\tremaining: 1m 8s\n",
            "172:\tlearn: 0.1683083\ttotal: 14.3s\tremaining: 1m 8s\n",
            "173:\tlearn: 0.1676365\ttotal: 14.4s\tremaining: 1m 8s\n",
            "174:\tlearn: 0.1671533\ttotal: 14.4s\tremaining: 1m 8s\n",
            "175:\tlearn: 0.1665734\ttotal: 14.5s\tremaining: 1m 8s\n",
            "176:\tlearn: 0.1661741\ttotal: 14.6s\tremaining: 1m 7s\n",
            "177:\tlearn: 0.1650998\ttotal: 14.7s\tremaining: 1m 7s\n",
            "178:\tlearn: 0.1645082\ttotal: 14.8s\tremaining: 1m 7s\n",
            "179:\tlearn: 0.1640447\ttotal: 14.9s\tremaining: 1m 7s\n",
            "180:\tlearn: 0.1634224\ttotal: 14.9s\tremaining: 1m 7s\n",
            "181:\tlearn: 0.1631351\ttotal: 15s\tremaining: 1m 7s\n",
            "182:\tlearn: 0.1622921\ttotal: 15.1s\tremaining: 1m 7s\n",
            "183:\tlearn: 0.1618290\ttotal: 15.2s\tremaining: 1m 7s\n",
            "184:\tlearn: 0.1613388\ttotal: 15.3s\tremaining: 1m 7s\n",
            "185:\tlearn: 0.1609442\ttotal: 15.4s\tremaining: 1m 7s\n",
            "186:\tlearn: 0.1605650\ttotal: 15.4s\tremaining: 1m 7s\n",
            "187:\tlearn: 0.1600774\ttotal: 15.5s\tremaining: 1m 7s\n",
            "188:\tlearn: 0.1595865\ttotal: 15.6s\tremaining: 1m 6s\n",
            "189:\tlearn: 0.1588852\ttotal: 15.7s\tremaining: 1m 6s\n",
            "190:\tlearn: 0.1583016\ttotal: 15.8s\tremaining: 1m 6s\n",
            "191:\tlearn: 0.1579202\ttotal: 15.8s\tremaining: 1m 6s\n",
            "192:\tlearn: 0.1576419\ttotal: 15.9s\tremaining: 1m 6s\n",
            "193:\tlearn: 0.1571731\ttotal: 16s\tremaining: 1m 6s\n",
            "194:\tlearn: 0.1567386\ttotal: 16.1s\tremaining: 1m 6s\n",
            "195:\tlearn: 0.1564208\ttotal: 16.2s\tremaining: 1m 6s\n",
            "196:\tlearn: 0.1558454\ttotal: 16.3s\tremaining: 1m 6s\n",
            "197:\tlearn: 0.1552962\ttotal: 16.3s\tremaining: 1m 6s\n",
            "198:\tlearn: 0.1547484\ttotal: 16.4s\tremaining: 1m 6s\n",
            "199:\tlearn: 0.1544650\ttotal: 16.5s\tremaining: 1m 6s\n",
            "200:\tlearn: 0.1541603\ttotal: 16.6s\tremaining: 1m 5s\n",
            "201:\tlearn: 0.1538522\ttotal: 16.7s\tremaining: 1m 5s\n",
            "202:\tlearn: 0.1536090\ttotal: 16.8s\tremaining: 1m 5s\n",
            "203:\tlearn: 0.1532301\ttotal: 16.8s\tremaining: 1m 5s\n",
            "204:\tlearn: 0.1528191\ttotal: 16.9s\tremaining: 1m 5s\n",
            "205:\tlearn: 0.1524299\ttotal: 17s\tremaining: 1m 5s\n",
            "206:\tlearn: 0.1520168\ttotal: 17.1s\tremaining: 1m 5s\n",
            "207:\tlearn: 0.1513531\ttotal: 17.2s\tremaining: 1m 5s\n",
            "208:\tlearn: 0.1509769\ttotal: 17.3s\tremaining: 1m 5s\n",
            "209:\tlearn: 0.1506369\ttotal: 17.4s\tremaining: 1m 5s\n",
            "210:\tlearn: 0.1504301\ttotal: 17.4s\tremaining: 1m 5s\n",
            "211:\tlearn: 0.1498367\ttotal: 17.5s\tremaining: 1m 5s\n",
            "212:\tlearn: 0.1495001\ttotal: 17.6s\tremaining: 1m 5s\n",
            "213:\tlearn: 0.1492440\ttotal: 17.7s\tremaining: 1m 4s\n",
            "214:\tlearn: 0.1488964\ttotal: 17.8s\tremaining: 1m 4s\n",
            "215:\tlearn: 0.1486140\ttotal: 17.9s\tremaining: 1m 4s\n",
            "216:\tlearn: 0.1481220\ttotal: 18s\tremaining: 1m 4s\n",
            "217:\tlearn: 0.1478124\ttotal: 18s\tremaining: 1m 4s\n",
            "218:\tlearn: 0.1474068\ttotal: 18.1s\tremaining: 1m 4s\n",
            "219:\tlearn: 0.1466581\ttotal: 18.2s\tremaining: 1m 4s\n",
            "220:\tlearn: 0.1464078\ttotal: 18.3s\tremaining: 1m 4s\n",
            "221:\tlearn: 0.1457831\ttotal: 18.4s\tremaining: 1m 4s\n",
            "222:\tlearn: 0.1454614\ttotal: 18.4s\tremaining: 1m 4s\n",
            "223:\tlearn: 0.1451612\ttotal: 18.5s\tremaining: 1m 4s\n",
            "224:\tlearn: 0.1447012\ttotal: 18.6s\tremaining: 1m 4s\n",
            "225:\tlearn: 0.1438888\ttotal: 18.7s\tremaining: 1m 3s\n",
            "226:\tlearn: 0.1434336\ttotal: 18.8s\tremaining: 1m 3s\n",
            "227:\tlearn: 0.1430419\ttotal: 18.8s\tremaining: 1m 3s\n",
            "228:\tlearn: 0.1427618\ttotal: 18.9s\tremaining: 1m 3s\n",
            "229:\tlearn: 0.1424448\ttotal: 19s\tremaining: 1m 3s\n",
            "230:\tlearn: 0.1418690\ttotal: 19.1s\tremaining: 1m 3s\n",
            "231:\tlearn: 0.1414974\ttotal: 19.2s\tremaining: 1m 3s\n",
            "232:\tlearn: 0.1411721\ttotal: 19.3s\tremaining: 1m 3s\n",
            "233:\tlearn: 0.1405833\ttotal: 19.3s\tremaining: 1m 3s\n",
            "234:\tlearn: 0.1403874\ttotal: 19.4s\tremaining: 1m 3s\n",
            "235:\tlearn: 0.1399586\ttotal: 19.5s\tremaining: 1m 3s\n",
            "236:\tlearn: 0.1393419\ttotal: 19.6s\tremaining: 1m 3s\n",
            "237:\tlearn: 0.1389407\ttotal: 19.7s\tremaining: 1m 2s\n",
            "238:\tlearn: 0.1384936\ttotal: 19.7s\tremaining: 1m 2s\n",
            "239:\tlearn: 0.1380207\ttotal: 19.8s\tremaining: 1m 2s\n",
            "240:\tlearn: 0.1377437\ttotal: 19.9s\tremaining: 1m 2s\n",
            "241:\tlearn: 0.1374263\ttotal: 20s\tremaining: 1m 2s\n",
            "242:\tlearn: 0.1371661\ttotal: 20.1s\tremaining: 1m 2s\n",
            "243:\tlearn: 0.1369666\ttotal: 20.2s\tremaining: 1m 2s\n",
            "244:\tlearn: 0.1367523\ttotal: 20.2s\tremaining: 1m 2s\n",
            "245:\tlearn: 0.1364751\ttotal: 20.3s\tremaining: 1m 2s\n",
            "246:\tlearn: 0.1361479\ttotal: 20.4s\tremaining: 1m 2s\n",
            "247:\tlearn: 0.1354959\ttotal: 20.5s\tremaining: 1m 2s\n",
            "248:\tlearn: 0.1348993\ttotal: 20.6s\tremaining: 1m 2s\n",
            "249:\tlearn: 0.1344818\ttotal: 20.6s\tremaining: 1m 1s\n",
            "250:\tlearn: 0.1341491\ttotal: 20.7s\tremaining: 1m 1s\n",
            "251:\tlearn: 0.1334595\ttotal: 20.8s\tremaining: 1m 1s\n",
            "252:\tlearn: 0.1327481\ttotal: 20.9s\tremaining: 1m 1s\n",
            "253:\tlearn: 0.1323629\ttotal: 21s\tremaining: 1m 1s\n",
            "254:\tlearn: 0.1320443\ttotal: 21.1s\tremaining: 1m 1s\n",
            "255:\tlearn: 0.1317025\ttotal: 21.1s\tremaining: 1m 1s\n",
            "256:\tlearn: 0.1314698\ttotal: 21.2s\tremaining: 1m 1s\n",
            "257:\tlearn: 0.1311774\ttotal: 21.3s\tremaining: 1m 1s\n",
            "258:\tlearn: 0.1308870\ttotal: 21.4s\tremaining: 1m 1s\n",
            "259:\tlearn: 0.1302411\ttotal: 21.5s\tremaining: 1m 1s\n",
            "260:\tlearn: 0.1300096\ttotal: 21.5s\tremaining: 1m 1s\n",
            "261:\tlearn: 0.1298670\ttotal: 21.6s\tremaining: 1m\n",
            "262:\tlearn: 0.1296638\ttotal: 21.7s\tremaining: 1m\n",
            "263:\tlearn: 0.1294400\ttotal: 21.8s\tremaining: 1m\n",
            "264:\tlearn: 0.1292610\ttotal: 21.9s\tremaining: 1m\n",
            "265:\tlearn: 0.1291436\ttotal: 22s\tremaining: 1m\n",
            "266:\tlearn: 0.1287644\ttotal: 22s\tremaining: 1m\n",
            "267:\tlearn: 0.1284983\ttotal: 22.1s\tremaining: 1m\n",
            "268:\tlearn: 0.1279021\ttotal: 22.2s\tremaining: 1m\n",
            "269:\tlearn: 0.1271871\ttotal: 22.3s\tremaining: 1m\n",
            "270:\tlearn: 0.1269560\ttotal: 22.4s\tremaining: 1m\n",
            "271:\tlearn: 0.1265582\ttotal: 22.4s\tremaining: 1m\n",
            "272:\tlearn: 0.1263580\ttotal: 22.5s\tremaining: 60s\n",
            "273:\tlearn: 0.1260402\ttotal: 22.6s\tremaining: 59.9s\n",
            "274:\tlearn: 0.1257471\ttotal: 22.7s\tremaining: 59.8s\n",
            "275:\tlearn: 0.1250708\ttotal: 22.8s\tremaining: 59.7s\n",
            "276:\tlearn: 0.1244638\ttotal: 22.9s\tremaining: 59.7s\n",
            "277:\tlearn: 0.1240309\ttotal: 22.9s\tremaining: 59.6s\n",
            "278:\tlearn: 0.1237770\ttotal: 23s\tremaining: 59.5s\n",
            "279:\tlearn: 0.1233784\ttotal: 23.1s\tremaining: 59.4s\n",
            "280:\tlearn: 0.1232499\ttotal: 23.2s\tremaining: 59.4s\n",
            "281:\tlearn: 0.1231158\ttotal: 23.3s\tremaining: 59.3s\n",
            "282:\tlearn: 0.1225633\ttotal: 23.4s\tremaining: 59.2s\n",
            "283:\tlearn: 0.1223677\ttotal: 23.4s\tremaining: 59.1s\n",
            "284:\tlearn: 0.1221733\ttotal: 23.5s\tremaining: 59s\n",
            "285:\tlearn: 0.1217407\ttotal: 23.6s\tremaining: 58.9s\n",
            "286:\tlearn: 0.1214542\ttotal: 23.7s\tremaining: 58.8s\n",
            "287:\tlearn: 0.1210604\ttotal: 23.8s\tremaining: 58.7s\n",
            "288:\tlearn: 0.1207367\ttotal: 23.8s\tremaining: 58.7s\n",
            "289:\tlearn: 0.1203361\ttotal: 23.9s\tremaining: 58.6s\n",
            "290:\tlearn: 0.1200644\ttotal: 24s\tremaining: 58.5s\n",
            "291:\tlearn: 0.1197468\ttotal: 24.1s\tremaining: 58.4s\n",
            "292:\tlearn: 0.1194500\ttotal: 24.2s\tremaining: 58.3s\n",
            "293:\tlearn: 0.1191236\ttotal: 24.3s\tremaining: 58.2s\n",
            "294:\tlearn: 0.1188771\ttotal: 24.3s\tremaining: 58.2s\n",
            "295:\tlearn: 0.1186664\ttotal: 24.4s\tremaining: 58.1s\n",
            "296:\tlearn: 0.1183102\ttotal: 24.5s\tremaining: 58s\n",
            "297:\tlearn: 0.1181373\ttotal: 24.6s\tremaining: 57.9s\n",
            "298:\tlearn: 0.1180048\ttotal: 24.7s\tremaining: 57.8s\n",
            "299:\tlearn: 0.1178874\ttotal: 24.7s\tremaining: 57.7s\n",
            "300:\tlearn: 0.1176489\ttotal: 24.8s\tremaining: 57.6s\n",
            "301:\tlearn: 0.1174993\ttotal: 24.9s\tremaining: 57.6s\n",
            "302:\tlearn: 0.1173749\ttotal: 25s\tremaining: 57.5s\n",
            "303:\tlearn: 0.1169508\ttotal: 25.1s\tremaining: 57.4s\n",
            "304:\tlearn: 0.1167654\ttotal: 25.1s\tremaining: 57.3s\n",
            "305:\tlearn: 0.1164890\ttotal: 25.2s\tremaining: 57.2s\n",
            "306:\tlearn: 0.1162485\ttotal: 25.3s\tremaining: 57.1s\n",
            "307:\tlearn: 0.1159197\ttotal: 25.4s\tremaining: 57.1s\n",
            "308:\tlearn: 0.1156524\ttotal: 25.5s\tremaining: 57s\n",
            "309:\tlearn: 0.1151538\ttotal: 25.6s\tremaining: 56.9s\n",
            "310:\tlearn: 0.1149857\ttotal: 25.6s\tremaining: 56.8s\n",
            "311:\tlearn: 0.1146289\ttotal: 25.7s\tremaining: 56.7s\n",
            "312:\tlearn: 0.1141552\ttotal: 25.8s\tremaining: 56.6s\n",
            "313:\tlearn: 0.1138303\ttotal: 25.9s\tremaining: 56.5s\n",
            "314:\tlearn: 0.1134706\ttotal: 26s\tremaining: 56.5s\n",
            "315:\tlearn: 0.1131744\ttotal: 26.1s\tremaining: 56.4s\n",
            "316:\tlearn: 0.1127622\ttotal: 26.1s\tremaining: 56.3s\n",
            "317:\tlearn: 0.1125728\ttotal: 26.2s\tremaining: 56.2s\n",
            "318:\tlearn: 0.1124032\ttotal: 26.3s\tremaining: 56.1s\n",
            "319:\tlearn: 0.1122475\ttotal: 26.4s\tremaining: 56.1s\n",
            "320:\tlearn: 0.1121076\ttotal: 26.5s\tremaining: 56s\n",
            "321:\tlearn: 0.1118647\ttotal: 26.5s\tremaining: 55.9s\n",
            "322:\tlearn: 0.1117292\ttotal: 26.6s\tremaining: 55.8s\n",
            "323:\tlearn: 0.1115587\ttotal: 26.7s\tremaining: 55.7s\n",
            "324:\tlearn: 0.1113503\ttotal: 26.8s\tremaining: 55.6s\n",
            "325:\tlearn: 0.1111773\ttotal: 26.9s\tremaining: 55.5s\n",
            "326:\tlearn: 0.1110256\ttotal: 27s\tremaining: 55.5s\n",
            "327:\tlearn: 0.1108263\ttotal: 27s\tremaining: 55.4s\n",
            "328:\tlearn: 0.1106985\ttotal: 27.1s\tremaining: 55.3s\n",
            "329:\tlearn: 0.1105465\ttotal: 27.2s\tremaining: 55.2s\n",
            "330:\tlearn: 0.1101372\ttotal: 27.3s\tremaining: 55.1s\n",
            "331:\tlearn: 0.1098641\ttotal: 27.4s\tremaining: 55s\n",
            "332:\tlearn: 0.1096678\ttotal: 27.4s\tremaining: 55s\n",
            "333:\tlearn: 0.1094337\ttotal: 27.5s\tremaining: 54.9s\n",
            "334:\tlearn: 0.1093070\ttotal: 27.6s\tremaining: 54.8s\n",
            "335:\tlearn: 0.1092115\ttotal: 27.7s\tremaining: 54.7s\n",
            "336:\tlearn: 0.1086522\ttotal: 27.8s\tremaining: 54.6s\n",
            "337:\tlearn: 0.1083319\ttotal: 27.9s\tremaining: 54.5s\n",
            "338:\tlearn: 0.1081635\ttotal: 27.9s\tremaining: 54.5s\n",
            "339:\tlearn: 0.1077982\ttotal: 28s\tremaining: 54.4s\n",
            "340:\tlearn: 0.1076238\ttotal: 28.1s\tremaining: 54.3s\n",
            "341:\tlearn: 0.1073967\ttotal: 28.2s\tremaining: 54.2s\n",
            "342:\tlearn: 0.1072311\ttotal: 28.3s\tremaining: 54.1s\n",
            "343:\tlearn: 0.1070892\ttotal: 28.3s\tremaining: 54.1s\n",
            "344:\tlearn: 0.1067217\ttotal: 28.4s\tremaining: 54s\n",
            "345:\tlearn: 0.1064085\ttotal: 28.5s\tremaining: 53.9s\n",
            "346:\tlearn: 0.1061046\ttotal: 28.6s\tremaining: 53.8s\n",
            "347:\tlearn: 0.1057404\ttotal: 28.7s\tremaining: 53.7s\n",
            "348:\tlearn: 0.1054712\ttotal: 28.7s\tremaining: 53.6s\n",
            "349:\tlearn: 0.1051312\ttotal: 28.8s\tremaining: 53.5s\n",
            "350:\tlearn: 0.1049251\ttotal: 28.9s\tremaining: 53.5s\n",
            "351:\tlearn: 0.1047273\ttotal: 29s\tremaining: 53.4s\n",
            "352:\tlearn: 0.1046077\ttotal: 29.1s\tremaining: 53.3s\n",
            "353:\tlearn: 0.1044619\ttotal: 29.2s\tremaining: 53.2s\n",
            "354:\tlearn: 0.1041760\ttotal: 29.3s\tremaining: 53.1s\n",
            "355:\tlearn: 0.1039581\ttotal: 29.3s\tremaining: 53.1s\n",
            "356:\tlearn: 0.1038325\ttotal: 29.4s\tremaining: 53s\n",
            "357:\tlearn: 0.1035252\ttotal: 29.5s\tremaining: 52.9s\n",
            "358:\tlearn: 0.1030355\ttotal: 29.6s\tremaining: 52.8s\n",
            "359:\tlearn: 0.1027486\ttotal: 29.6s\tremaining: 52.7s\n",
            "360:\tlearn: 0.1026301\ttotal: 29.7s\tremaining: 52.6s\n",
            "361:\tlearn: 0.1025296\ttotal: 29.8s\tremaining: 52.5s\n",
            "362:\tlearn: 0.1023185\ttotal: 29.9s\tremaining: 52.4s\n",
            "363:\tlearn: 0.1021390\ttotal: 30s\tremaining: 52.4s\n",
            "364:\tlearn: 0.1019069\ttotal: 30.1s\tremaining: 52.3s\n",
            "365:\tlearn: 0.1015729\ttotal: 30.1s\tremaining: 52.2s\n",
            "366:\tlearn: 0.1014575\ttotal: 30.2s\tremaining: 52.1s\n",
            "367:\tlearn: 0.1012836\ttotal: 30.3s\tremaining: 52s\n",
            "368:\tlearn: 0.1010616\ttotal: 30.4s\tremaining: 51.9s\n",
            "369:\tlearn: 0.1007856\ttotal: 30.5s\tremaining: 51.9s\n",
            "370:\tlearn: 0.1006829\ttotal: 30.5s\tremaining: 51.8s\n",
            "371:\tlearn: 0.1005783\ttotal: 30.6s\tremaining: 51.7s\n",
            "372:\tlearn: 0.1003972\ttotal: 30.7s\tremaining: 51.6s\n",
            "373:\tlearn: 0.1000304\ttotal: 30.8s\tremaining: 51.5s\n",
            "374:\tlearn: 0.0996858\ttotal: 30.9s\tremaining: 51.4s\n",
            "375:\tlearn: 0.0994212\ttotal: 30.9s\tremaining: 51.4s\n",
            "376:\tlearn: 0.0991832\ttotal: 31s\tremaining: 51.3s\n",
            "377:\tlearn: 0.0987200\ttotal: 31.1s\tremaining: 51.2s\n",
            "378:\tlearn: 0.0983554\ttotal: 31.2s\tremaining: 51.1s\n",
            "379:\tlearn: 0.0982577\ttotal: 31.3s\tremaining: 51s\n",
            "380:\tlearn: 0.0979147\ttotal: 31.4s\tremaining: 50.9s\n",
            "381:\tlearn: 0.0977597\ttotal: 31.4s\tremaining: 50.9s\n",
            "382:\tlearn: 0.0975874\ttotal: 31.5s\tremaining: 50.8s\n",
            "383:\tlearn: 0.0974376\ttotal: 31.6s\tremaining: 50.7s\n",
            "384:\tlearn: 0.0973432\ttotal: 31.7s\tremaining: 50.6s\n",
            "385:\tlearn: 0.0968330\ttotal: 31.8s\tremaining: 50.5s\n",
            "386:\tlearn: 0.0964883\ttotal: 31.8s\tremaining: 50.4s\n",
            "387:\tlearn: 0.0964192\ttotal: 31.9s\tremaining: 50.4s\n",
            "388:\tlearn: 0.0960578\ttotal: 32s\tremaining: 50.3s\n",
            "389:\tlearn: 0.0958193\ttotal: 32.1s\tremaining: 50.2s\n",
            "390:\tlearn: 0.0954972\ttotal: 32.2s\tremaining: 50.1s\n",
            "391:\tlearn: 0.0952873\ttotal: 32.3s\tremaining: 50s\n",
            "392:\tlearn: 0.0950395\ttotal: 32.3s\tremaining: 49.9s\n",
            "393:\tlearn: 0.0947145\ttotal: 32.4s\tremaining: 49.9s\n",
            "394:\tlearn: 0.0944729\ttotal: 32.5s\tremaining: 49.8s\n",
            "395:\tlearn: 0.0942143\ttotal: 32.6s\tremaining: 49.7s\n",
            "396:\tlearn: 0.0939928\ttotal: 32.7s\tremaining: 49.6s\n",
            "397:\tlearn: 0.0937284\ttotal: 32.7s\tremaining: 49.5s\n",
            "398:\tlearn: 0.0932707\ttotal: 32.8s\tremaining: 49.4s\n",
            "399:\tlearn: 0.0930264\ttotal: 32.9s\tremaining: 49.3s\n",
            "400:\tlearn: 0.0929338\ttotal: 33s\tremaining: 49.3s\n",
            "401:\tlearn: 0.0928418\ttotal: 33.1s\tremaining: 49.2s\n",
            "402:\tlearn: 0.0926699\ttotal: 33.2s\tremaining: 49.1s\n",
            "403:\tlearn: 0.0924916\ttotal: 33.2s\tremaining: 49s\n",
            "404:\tlearn: 0.0922948\ttotal: 33.3s\tremaining: 48.9s\n",
            "405:\tlearn: 0.0920746\ttotal: 33.4s\tremaining: 48.9s\n",
            "406:\tlearn: 0.0919998\ttotal: 33.5s\tremaining: 48.8s\n",
            "407:\tlearn: 0.0918105\ttotal: 33.5s\tremaining: 48.7s\n",
            "408:\tlearn: 0.0916947\ttotal: 33.6s\tremaining: 48.6s\n",
            "409:\tlearn: 0.0915694\ttotal: 33.7s\tremaining: 48.5s\n",
            "410:\tlearn: 0.0912790\ttotal: 33.8s\tremaining: 48.4s\n",
            "411:\tlearn: 0.0912072\ttotal: 33.9s\tremaining: 48.3s\n",
            "412:\tlearn: 0.0909892\ttotal: 34s\tremaining: 48.3s\n",
            "413:\tlearn: 0.0907350\ttotal: 34s\tremaining: 48.2s\n",
            "414:\tlearn: 0.0905395\ttotal: 34.1s\tremaining: 48.1s\n",
            "415:\tlearn: 0.0903241\ttotal: 34.2s\tremaining: 48s\n",
            "416:\tlearn: 0.0902231\ttotal: 34.3s\tremaining: 47.9s\n",
            "417:\tlearn: 0.0901167\ttotal: 34.4s\tremaining: 47.8s\n",
            "418:\tlearn: 0.0899905\ttotal: 34.4s\tremaining: 47.8s\n",
            "419:\tlearn: 0.0898599\ttotal: 34.5s\tremaining: 47.7s\n",
            "420:\tlearn: 0.0897915\ttotal: 34.6s\tremaining: 47.6s\n",
            "421:\tlearn: 0.0894107\ttotal: 34.7s\tremaining: 47.5s\n",
            "422:\tlearn: 0.0892317\ttotal: 34.8s\tremaining: 47.4s\n",
            "423:\tlearn: 0.0890479\ttotal: 34.8s\tremaining: 47.3s\n",
            "424:\tlearn: 0.0887505\ttotal: 34.9s\tremaining: 47.3s\n",
            "425:\tlearn: 0.0885408\ttotal: 35s\tremaining: 47.2s\n",
            "426:\tlearn: 0.0882640\ttotal: 35.1s\tremaining: 47.1s\n",
            "427:\tlearn: 0.0880130\ttotal: 35.2s\tremaining: 47s\n",
            "428:\tlearn: 0.0878315\ttotal: 35.3s\tremaining: 46.9s\n",
            "429:\tlearn: 0.0875308\ttotal: 35.3s\tremaining: 46.9s\n",
            "430:\tlearn: 0.0873028\ttotal: 35.4s\tremaining: 46.8s\n",
            "431:\tlearn: 0.0870603\ttotal: 35.5s\tremaining: 46.7s\n",
            "432:\tlearn: 0.0869935\ttotal: 35.6s\tremaining: 46.6s\n",
            "433:\tlearn: 0.0867830\ttotal: 35.7s\tremaining: 46.5s\n",
            "434:\tlearn: 0.0865740\ttotal: 35.8s\tremaining: 46.4s\n",
            "435:\tlearn: 0.0864590\ttotal: 35.8s\tremaining: 46.4s\n",
            "436:\tlearn: 0.0862423\ttotal: 35.9s\tremaining: 46.3s\n",
            "437:\tlearn: 0.0861047\ttotal: 36s\tremaining: 46.2s\n",
            "438:\tlearn: 0.0859501\ttotal: 36.1s\tremaining: 46.1s\n",
            "439:\tlearn: 0.0858911\ttotal: 36.2s\tremaining: 46s\n",
            "440:\tlearn: 0.0856510\ttotal: 36.3s\tremaining: 46s\n",
            "441:\tlearn: 0.0853504\ttotal: 36.3s\tremaining: 45.9s\n",
            "442:\tlearn: 0.0851169\ttotal: 36.4s\tremaining: 45.8s\n",
            "443:\tlearn: 0.0849366\ttotal: 36.5s\tremaining: 45.7s\n",
            "444:\tlearn: 0.0848549\ttotal: 36.6s\tremaining: 45.6s\n",
            "445:\tlearn: 0.0847552\ttotal: 36.7s\tremaining: 45.5s\n",
            "446:\tlearn: 0.0846111\ttotal: 36.7s\tremaining: 45.5s\n",
            "447:\tlearn: 0.0844853\ttotal: 36.8s\tremaining: 45.4s\n",
            "448:\tlearn: 0.0842495\ttotal: 36.9s\tremaining: 45.3s\n",
            "449:\tlearn: 0.0841646\ttotal: 37s\tremaining: 45.2s\n",
            "450:\tlearn: 0.0840083\ttotal: 37.1s\tremaining: 45.1s\n",
            "451:\tlearn: 0.0838867\ttotal: 37.2s\tremaining: 45s\n",
            "452:\tlearn: 0.0836360\ttotal: 37.2s\tremaining: 45s\n",
            "453:\tlearn: 0.0833016\ttotal: 37.3s\tremaining: 44.9s\n",
            "454:\tlearn: 0.0832083\ttotal: 37.4s\tremaining: 44.8s\n",
            "455:\tlearn: 0.0831144\ttotal: 37.5s\tremaining: 44.7s\n",
            "456:\tlearn: 0.0829393\ttotal: 37.6s\tremaining: 44.6s\n",
            "457:\tlearn: 0.0827965\ttotal: 37.6s\tremaining: 44.5s\n",
            "458:\tlearn: 0.0823441\ttotal: 37.7s\tremaining: 44.5s\n",
            "459:\tlearn: 0.0821128\ttotal: 37.8s\tremaining: 44.4s\n",
            "460:\tlearn: 0.0817188\ttotal: 37.9s\tremaining: 44.3s\n",
            "461:\tlearn: 0.0815882\ttotal: 38s\tremaining: 44.2s\n",
            "462:\tlearn: 0.0813154\ttotal: 38s\tremaining: 44.1s\n",
            "463:\tlearn: 0.0811455\ttotal: 38.1s\tremaining: 44.1s\n",
            "464:\tlearn: 0.0810491\ttotal: 38.2s\tremaining: 44s\n",
            "465:\tlearn: 0.0808534\ttotal: 38.3s\tremaining: 43.9s\n",
            "466:\tlearn: 0.0805580\ttotal: 38.4s\tremaining: 43.8s\n",
            "467:\tlearn: 0.0803469\ttotal: 38.5s\tremaining: 43.7s\n",
            "468:\tlearn: 0.0802181\ttotal: 38.5s\tremaining: 43.6s\n",
            "469:\tlearn: 0.0800957\ttotal: 38.6s\tremaining: 43.6s\n",
            "470:\tlearn: 0.0799664\ttotal: 38.7s\tremaining: 43.5s\n",
            "471:\tlearn: 0.0797861\ttotal: 38.8s\tremaining: 43.4s\n",
            "472:\tlearn: 0.0795285\ttotal: 38.9s\tremaining: 43.3s\n",
            "473:\tlearn: 0.0792740\ttotal: 38.9s\tremaining: 43.2s\n",
            "474:\tlearn: 0.0792067\ttotal: 39s\tremaining: 43.1s\n",
            "475:\tlearn: 0.0791277\ttotal: 39.1s\tremaining: 43.1s\n",
            "476:\tlearn: 0.0790418\ttotal: 39.2s\tremaining: 43s\n",
            "477:\tlearn: 0.0789795\ttotal: 39.3s\tremaining: 42.9s\n",
            "478:\tlearn: 0.0787966\ttotal: 39.4s\tremaining: 42.8s\n",
            "479:\tlearn: 0.0786258\ttotal: 39.4s\tremaining: 42.7s\n",
            "480:\tlearn: 0.0783905\ttotal: 39.5s\tremaining: 42.6s\n",
            "481:\tlearn: 0.0780461\ttotal: 39.6s\tremaining: 42.6s\n",
            "482:\tlearn: 0.0779479\ttotal: 39.7s\tremaining: 42.5s\n",
            "483:\tlearn: 0.0776870\ttotal: 39.8s\tremaining: 42.4s\n",
            "484:\tlearn: 0.0776099\ttotal: 39.9s\tremaining: 42.3s\n",
            "485:\tlearn: 0.0774722\ttotal: 39.9s\tremaining: 42.2s\n",
            "486:\tlearn: 0.0773347\ttotal: 40s\tremaining: 42.1s\n",
            "487:\tlearn: 0.0772718\ttotal: 40.1s\tremaining: 42.1s\n",
            "488:\tlearn: 0.0771211\ttotal: 40.2s\tremaining: 42s\n",
            "489:\tlearn: 0.0768545\ttotal: 40.3s\tremaining: 41.9s\n",
            "490:\tlearn: 0.0767578\ttotal: 40.3s\tremaining: 41.8s\n",
            "491:\tlearn: 0.0766188\ttotal: 40.4s\tremaining: 41.7s\n",
            "492:\tlearn: 0.0763601\ttotal: 40.5s\tremaining: 41.7s\n",
            "493:\tlearn: 0.0760780\ttotal: 40.6s\tremaining: 41.6s\n",
            "494:\tlearn: 0.0760239\ttotal: 40.7s\tremaining: 41.5s\n",
            "495:\tlearn: 0.0758318\ttotal: 40.7s\tremaining: 41.4s\n",
            "496:\tlearn: 0.0756270\ttotal: 40.8s\tremaining: 41.3s\n",
            "497:\tlearn: 0.0754673\ttotal: 40.9s\tremaining: 41.2s\n",
            "498:\tlearn: 0.0752751\ttotal: 41s\tremaining: 41.2s\n",
            "499:\tlearn: 0.0750758\ttotal: 41.1s\tremaining: 41.1s\n",
            "500:\tlearn: 0.0749323\ttotal: 41.2s\tremaining: 41s\n",
            "501:\tlearn: 0.0748021\ttotal: 41.2s\tremaining: 40.9s\n",
            "502:\tlearn: 0.0747505\ttotal: 41.3s\tremaining: 40.8s\n",
            "503:\tlearn: 0.0746443\ttotal: 41.4s\tremaining: 40.7s\n",
            "504:\tlearn: 0.0744772\ttotal: 41.5s\tremaining: 40.7s\n",
            "505:\tlearn: 0.0743607\ttotal: 41.6s\tremaining: 40.6s\n",
            "506:\tlearn: 0.0741967\ttotal: 41.6s\tremaining: 40.5s\n",
            "507:\tlearn: 0.0740746\ttotal: 41.7s\tremaining: 40.4s\n",
            "508:\tlearn: 0.0739099\ttotal: 41.8s\tremaining: 40.3s\n",
            "509:\tlearn: 0.0737331\ttotal: 41.9s\tremaining: 40.2s\n",
            "510:\tlearn: 0.0735857\ttotal: 42s\tremaining: 40.2s\n",
            "511:\tlearn: 0.0734296\ttotal: 42s\tremaining: 40.1s\n",
            "512:\tlearn: 0.0733637\ttotal: 42.1s\tremaining: 40s\n",
            "513:\tlearn: 0.0732572\ttotal: 42.2s\tremaining: 39.9s\n",
            "514:\tlearn: 0.0732073\ttotal: 42.3s\tremaining: 39.8s\n",
            "515:\tlearn: 0.0730592\ttotal: 42.4s\tremaining: 39.7s\n",
            "516:\tlearn: 0.0730199\ttotal: 42.5s\tremaining: 39.7s\n",
            "517:\tlearn: 0.0729506\ttotal: 42.5s\tremaining: 39.6s\n",
            "518:\tlearn: 0.0728074\ttotal: 42.6s\tremaining: 39.5s\n",
            "519:\tlearn: 0.0726872\ttotal: 42.7s\tremaining: 39.4s\n",
            "520:\tlearn: 0.0724439\ttotal: 42.8s\tremaining: 39.3s\n",
            "521:\tlearn: 0.0723490\ttotal: 42.9s\tremaining: 39.2s\n",
            "522:\tlearn: 0.0721765\ttotal: 42.9s\tremaining: 39.2s\n",
            "523:\tlearn: 0.0720303\ttotal: 43s\tremaining: 39.1s\n",
            "524:\tlearn: 0.0719503\ttotal: 43.1s\tremaining: 39s\n",
            "525:\tlearn: 0.0718168\ttotal: 43.2s\tremaining: 38.9s\n",
            "526:\tlearn: 0.0716161\ttotal: 43.3s\tremaining: 38.8s\n",
            "527:\tlearn: 0.0714664\ttotal: 43.4s\tremaining: 38.8s\n",
            "528:\tlearn: 0.0711878\ttotal: 43.4s\tremaining: 38.7s\n",
            "529:\tlearn: 0.0711162\ttotal: 43.5s\tremaining: 38.6s\n",
            "530:\tlearn: 0.0709410\ttotal: 43.6s\tremaining: 38.5s\n",
            "531:\tlearn: 0.0708215\ttotal: 43.7s\tremaining: 38.4s\n",
            "532:\tlearn: 0.0707684\ttotal: 43.8s\tremaining: 38.3s\n",
            "533:\tlearn: 0.0706867\ttotal: 43.8s\tremaining: 38.3s\n",
            "534:\tlearn: 0.0705829\ttotal: 43.9s\tremaining: 38.2s\n",
            "535:\tlearn: 0.0705471\ttotal: 44s\tremaining: 38.1s\n",
            "536:\tlearn: 0.0703777\ttotal: 44.1s\tremaining: 38s\n",
            "537:\tlearn: 0.0703004\ttotal: 44.2s\tremaining: 37.9s\n",
            "538:\tlearn: 0.0701751\ttotal: 44.3s\tremaining: 37.8s\n",
            "539:\tlearn: 0.0700137\ttotal: 44.3s\tremaining: 37.8s\n",
            "540:\tlearn: 0.0698389\ttotal: 44.4s\tremaining: 37.7s\n",
            "541:\tlearn: 0.0697535\ttotal: 44.5s\tremaining: 37.6s\n",
            "542:\tlearn: 0.0696446\ttotal: 44.6s\tremaining: 37.5s\n",
            "543:\tlearn: 0.0695011\ttotal: 44.7s\tremaining: 37.4s\n",
            "544:\tlearn: 0.0694143\ttotal: 44.7s\tremaining: 37.3s\n",
            "545:\tlearn: 0.0692991\ttotal: 44.8s\tremaining: 37.3s\n",
            "546:\tlearn: 0.0691721\ttotal: 44.9s\tremaining: 37.2s\n",
            "547:\tlearn: 0.0689996\ttotal: 45s\tremaining: 37.1s\n",
            "548:\tlearn: 0.0689142\ttotal: 45.1s\tremaining: 37s\n",
            "549:\tlearn: 0.0687671\ttotal: 45.1s\tremaining: 36.9s\n",
            "550:\tlearn: 0.0686506\ttotal: 45.2s\tremaining: 36.9s\n",
            "551:\tlearn: 0.0685041\ttotal: 45.3s\tremaining: 36.8s\n",
            "552:\tlearn: 0.0682743\ttotal: 45.4s\tremaining: 36.7s\n",
            "553:\tlearn: 0.0682140\ttotal: 45.5s\tremaining: 36.6s\n",
            "554:\tlearn: 0.0681001\ttotal: 45.5s\tremaining: 36.5s\n",
            "555:\tlearn: 0.0680235\ttotal: 45.6s\tremaining: 36.4s\n",
            "556:\tlearn: 0.0679998\ttotal: 45.6s\tremaining: 36.3s\n",
            "557:\tlearn: 0.0677499\ttotal: 45.7s\tremaining: 36.2s\n",
            "558:\tlearn: 0.0675621\ttotal: 45.8s\tremaining: 36.1s\n",
            "559:\tlearn: 0.0674588\ttotal: 45.9s\tremaining: 36.1s\n",
            "560:\tlearn: 0.0672884\ttotal: 46s\tremaining: 36s\n",
            "561:\tlearn: 0.0672220\ttotal: 46.1s\tremaining: 35.9s\n",
            "562:\tlearn: 0.0670414\ttotal: 46.1s\tremaining: 35.8s\n",
            "563:\tlearn: 0.0668092\ttotal: 46.2s\tremaining: 35.7s\n",
            "564:\tlearn: 0.0667749\ttotal: 46.3s\tremaining: 35.7s\n",
            "565:\tlearn: 0.0667267\ttotal: 46.4s\tremaining: 35.6s\n",
            "566:\tlearn: 0.0666360\ttotal: 46.5s\tremaining: 35.5s\n",
            "567:\tlearn: 0.0663783\ttotal: 46.5s\tremaining: 35.4s\n",
            "568:\tlearn: 0.0662643\ttotal: 46.6s\tremaining: 35.3s\n",
            "569:\tlearn: 0.0661019\ttotal: 46.7s\tremaining: 35.2s\n",
            "570:\tlearn: 0.0659922\ttotal: 46.8s\tremaining: 35.2s\n",
            "571:\tlearn: 0.0658597\ttotal: 46.9s\tremaining: 35.1s\n",
            "572:\tlearn: 0.0657596\ttotal: 47s\tremaining: 35s\n",
            "573:\tlearn: 0.0655397\ttotal: 47s\tremaining: 34.9s\n",
            "574:\tlearn: 0.0655074\ttotal: 47.1s\tremaining: 34.8s\n",
            "575:\tlearn: 0.0653597\ttotal: 47.2s\tremaining: 34.7s\n",
            "576:\tlearn: 0.0651871\ttotal: 47.3s\tremaining: 34.7s\n",
            "577:\tlearn: 0.0650444\ttotal: 47.4s\tremaining: 34.6s\n",
            "578:\tlearn: 0.0648819\ttotal: 47.4s\tremaining: 34.5s\n",
            "579:\tlearn: 0.0648445\ttotal: 47.5s\tremaining: 34.4s\n",
            "580:\tlearn: 0.0647219\ttotal: 47.6s\tremaining: 34.3s\n",
            "581:\tlearn: 0.0645560\ttotal: 47.7s\tremaining: 34.3s\n",
            "582:\tlearn: 0.0644168\ttotal: 47.8s\tremaining: 34.2s\n",
            "583:\tlearn: 0.0642707\ttotal: 47.9s\tremaining: 34.1s\n",
            "584:\tlearn: 0.0641920\ttotal: 48s\tremaining: 34s\n",
            "585:\tlearn: 0.0640969\ttotal: 48s\tremaining: 33.9s\n",
            "586:\tlearn: 0.0639602\ttotal: 48.1s\tremaining: 33.9s\n",
            "587:\tlearn: 0.0639065\ttotal: 48.2s\tremaining: 33.8s\n",
            "588:\tlearn: 0.0638012\ttotal: 48.3s\tremaining: 33.7s\n",
            "589:\tlearn: 0.0636530\ttotal: 48.4s\tremaining: 33.6s\n",
            "590:\tlearn: 0.0634419\ttotal: 48.4s\tremaining: 33.5s\n",
            "591:\tlearn: 0.0632871\ttotal: 48.5s\tremaining: 33.4s\n",
            "592:\tlearn: 0.0631717\ttotal: 48.6s\tremaining: 33.4s\n",
            "593:\tlearn: 0.0630610\ttotal: 48.7s\tremaining: 33.3s\n",
            "594:\tlearn: 0.0629327\ttotal: 48.8s\tremaining: 33.2s\n",
            "595:\tlearn: 0.0628589\ttotal: 48.8s\tremaining: 33.1s\n",
            "596:\tlearn: 0.0627387\ttotal: 48.9s\tremaining: 33s\n",
            "597:\tlearn: 0.0625492\ttotal: 49s\tremaining: 32.9s\n",
            "598:\tlearn: 0.0624121\ttotal: 49.1s\tremaining: 32.9s\n",
            "599:\tlearn: 0.0623437\ttotal: 49.2s\tremaining: 32.8s\n",
            "600:\tlearn: 0.0622428\ttotal: 49.2s\tremaining: 32.7s\n",
            "601:\tlearn: 0.0621194\ttotal: 49.3s\tremaining: 32.6s\n",
            "602:\tlearn: 0.0619060\ttotal: 49.4s\tremaining: 32.5s\n",
            "603:\tlearn: 0.0618418\ttotal: 49.5s\tremaining: 32.4s\n",
            "604:\tlearn: 0.0617387\ttotal: 49.6s\tremaining: 32.4s\n",
            "605:\tlearn: 0.0616237\ttotal: 49.7s\tremaining: 32.3s\n",
            "606:\tlearn: 0.0615131\ttotal: 49.7s\tremaining: 32.2s\n",
            "607:\tlearn: 0.0614128\ttotal: 49.8s\tremaining: 32.1s\n",
            "608:\tlearn: 0.0612838\ttotal: 49.9s\tremaining: 32s\n",
            "609:\tlearn: 0.0611303\ttotal: 50s\tremaining: 32s\n",
            "610:\tlearn: 0.0610939\ttotal: 50.1s\tremaining: 31.9s\n",
            "611:\tlearn: 0.0610409\ttotal: 50.1s\tremaining: 31.8s\n",
            "612:\tlearn: 0.0609973\ttotal: 50.2s\tremaining: 31.7s\n",
            "613:\tlearn: 0.0608672\ttotal: 50.3s\tremaining: 31.6s\n",
            "614:\tlearn: 0.0607589\ttotal: 50.4s\tremaining: 31.6s\n",
            "615:\tlearn: 0.0605541\ttotal: 50.5s\tremaining: 31.5s\n",
            "616:\tlearn: 0.0604586\ttotal: 50.6s\tremaining: 31.4s\n",
            "617:\tlearn: 0.0603152\ttotal: 50.6s\tremaining: 31.3s\n",
            "618:\tlearn: 0.0601814\ttotal: 50.7s\tremaining: 31.2s\n",
            "619:\tlearn: 0.0601455\ttotal: 50.8s\tremaining: 31.1s\n",
            "620:\tlearn: 0.0600948\ttotal: 50.9s\tremaining: 31.1s\n",
            "621:\tlearn: 0.0599910\ttotal: 51s\tremaining: 31s\n",
            "622:\tlearn: 0.0598816\ttotal: 51.1s\tremaining: 30.9s\n",
            "623:\tlearn: 0.0597375\ttotal: 51.1s\tremaining: 30.8s\n",
            "624:\tlearn: 0.0596354\ttotal: 51.2s\tremaining: 30.7s\n",
            "625:\tlearn: 0.0594011\ttotal: 51.3s\tremaining: 30.7s\n",
            "626:\tlearn: 0.0593322\ttotal: 51.4s\tremaining: 30.6s\n",
            "627:\tlearn: 0.0592189\ttotal: 51.5s\tremaining: 30.5s\n",
            "628:\tlearn: 0.0591382\ttotal: 51.6s\tremaining: 30.4s\n",
            "629:\tlearn: 0.0590629\ttotal: 51.6s\tremaining: 30.3s\n",
            "630:\tlearn: 0.0589147\ttotal: 51.7s\tremaining: 30.2s\n",
            "631:\tlearn: 0.0588029\ttotal: 51.8s\tremaining: 30.2s\n",
            "632:\tlearn: 0.0586445\ttotal: 51.9s\tremaining: 30.1s\n",
            "633:\tlearn: 0.0585784\ttotal: 52s\tremaining: 30s\n",
            "634:\tlearn: 0.0585098\ttotal: 52.1s\tremaining: 29.9s\n",
            "635:\tlearn: 0.0584215\ttotal: 52.1s\tremaining: 29.8s\n",
            "636:\tlearn: 0.0583222\ttotal: 52.2s\tremaining: 29.8s\n",
            "637:\tlearn: 0.0582804\ttotal: 52.3s\tremaining: 29.7s\n",
            "638:\tlearn: 0.0582051\ttotal: 52.4s\tremaining: 29.6s\n",
            "639:\tlearn: 0.0581394\ttotal: 52.5s\tremaining: 29.5s\n",
            "640:\tlearn: 0.0579454\ttotal: 52.5s\tremaining: 29.4s\n",
            "641:\tlearn: 0.0577977\ttotal: 52.6s\tremaining: 29.3s\n",
            "642:\tlearn: 0.0577622\ttotal: 52.7s\tremaining: 29.3s\n",
            "643:\tlearn: 0.0576128\ttotal: 52.8s\tremaining: 29.2s\n",
            "644:\tlearn: 0.0575193\ttotal: 52.9s\tremaining: 29.1s\n",
            "645:\tlearn: 0.0574287\ttotal: 52.9s\tremaining: 29s\n",
            "646:\tlearn: 0.0573265\ttotal: 53s\tremaining: 28.9s\n",
            "647:\tlearn: 0.0572210\ttotal: 53.1s\tremaining: 28.9s\n",
            "648:\tlearn: 0.0571560\ttotal: 53.2s\tremaining: 28.8s\n",
            "649:\tlearn: 0.0570667\ttotal: 53.3s\tremaining: 28.7s\n",
            "650:\tlearn: 0.0569435\ttotal: 53.4s\tremaining: 28.6s\n",
            "651:\tlearn: 0.0568963\ttotal: 53.4s\tremaining: 28.5s\n",
            "652:\tlearn: 0.0567947\ttotal: 53.5s\tremaining: 28.4s\n",
            "653:\tlearn: 0.0566687\ttotal: 53.6s\tremaining: 28.4s\n",
            "654:\tlearn: 0.0565677\ttotal: 53.7s\tremaining: 28.3s\n",
            "655:\tlearn: 0.0564498\ttotal: 53.8s\tremaining: 28.2s\n",
            "656:\tlearn: 0.0563289\ttotal: 53.9s\tremaining: 28.1s\n",
            "657:\tlearn: 0.0562531\ttotal: 53.9s\tremaining: 28s\n",
            "658:\tlearn: 0.0561864\ttotal: 54s\tremaining: 27.9s\n",
            "659:\tlearn: 0.0561259\ttotal: 54.1s\tremaining: 27.9s\n",
            "660:\tlearn: 0.0560324\ttotal: 54.2s\tremaining: 27.8s\n",
            "661:\tlearn: 0.0559254\ttotal: 54.3s\tremaining: 27.7s\n",
            "662:\tlearn: 0.0557243\ttotal: 54.3s\tremaining: 27.6s\n",
            "663:\tlearn: 0.0556030\ttotal: 54.4s\tremaining: 27.5s\n",
            "664:\tlearn: 0.0555092\ttotal: 54.5s\tremaining: 27.5s\n",
            "665:\tlearn: 0.0554776\ttotal: 54.6s\tremaining: 27.4s\n",
            "666:\tlearn: 0.0553944\ttotal: 54.7s\tremaining: 27.3s\n",
            "667:\tlearn: 0.0553676\ttotal: 54.7s\tremaining: 27.2s\n",
            "668:\tlearn: 0.0552512\ttotal: 54.8s\tremaining: 27.1s\n",
            "669:\tlearn: 0.0550895\ttotal: 54.9s\tremaining: 27s\n",
            "670:\tlearn: 0.0549373\ttotal: 55s\tremaining: 27s\n",
            "671:\tlearn: 0.0548821\ttotal: 55.1s\tremaining: 26.9s\n",
            "672:\tlearn: 0.0547727\ttotal: 55.2s\tremaining: 26.8s\n",
            "673:\tlearn: 0.0546956\ttotal: 55.2s\tremaining: 26.7s\n",
            "674:\tlearn: 0.0545891\ttotal: 55.3s\tremaining: 26.6s\n",
            "675:\tlearn: 0.0545066\ttotal: 55.4s\tremaining: 26.6s\n",
            "676:\tlearn: 0.0544223\ttotal: 55.5s\tremaining: 26.5s\n",
            "677:\tlearn: 0.0542990\ttotal: 55.6s\tremaining: 26.4s\n",
            "678:\tlearn: 0.0542203\ttotal: 55.6s\tremaining: 26.3s\n",
            "679:\tlearn: 0.0541592\ttotal: 55.7s\tremaining: 26.2s\n",
            "680:\tlearn: 0.0540459\ttotal: 55.8s\tremaining: 26.1s\n",
            "681:\tlearn: 0.0539675\ttotal: 55.9s\tremaining: 26.1s\n",
            "682:\tlearn: 0.0538777\ttotal: 56s\tremaining: 26s\n",
            "683:\tlearn: 0.0537802\ttotal: 56.1s\tremaining: 25.9s\n",
            "684:\tlearn: 0.0536095\ttotal: 56.1s\tremaining: 25.8s\n",
            "685:\tlearn: 0.0535157\ttotal: 56.2s\tremaining: 25.7s\n",
            "686:\tlearn: 0.0534568\ttotal: 56.3s\tremaining: 25.6s\n",
            "687:\tlearn: 0.0533627\ttotal: 56.4s\tremaining: 25.6s\n",
            "688:\tlearn: 0.0532616\ttotal: 56.5s\tremaining: 25.5s\n",
            "689:\tlearn: 0.0530957\ttotal: 56.5s\tremaining: 25.4s\n",
            "690:\tlearn: 0.0529989\ttotal: 56.6s\tremaining: 25.3s\n",
            "691:\tlearn: 0.0529782\ttotal: 56.7s\tremaining: 25.2s\n",
            "692:\tlearn: 0.0529054\ttotal: 56.8s\tremaining: 25.2s\n",
            "693:\tlearn: 0.0527652\ttotal: 56.9s\tremaining: 25.1s\n",
            "694:\tlearn: 0.0526246\ttotal: 57s\tremaining: 25s\n",
            "695:\tlearn: 0.0525523\ttotal: 57s\tremaining: 24.9s\n",
            "696:\tlearn: 0.0524956\ttotal: 57.1s\tremaining: 24.8s\n",
            "697:\tlearn: 0.0524403\ttotal: 57.2s\tremaining: 24.7s\n",
            "698:\tlearn: 0.0523254\ttotal: 57.3s\tremaining: 24.7s\n",
            "699:\tlearn: 0.0522111\ttotal: 57.4s\tremaining: 24.6s\n",
            "700:\tlearn: 0.0521811\ttotal: 57.5s\tremaining: 24.5s\n",
            "701:\tlearn: 0.0521053\ttotal: 57.5s\tremaining: 24.4s\n",
            "702:\tlearn: 0.0520301\ttotal: 57.6s\tremaining: 24.3s\n",
            "703:\tlearn: 0.0519632\ttotal: 57.7s\tremaining: 24.3s\n",
            "704:\tlearn: 0.0518057\ttotal: 57.8s\tremaining: 24.2s\n",
            "705:\tlearn: 0.0517269\ttotal: 57.9s\tremaining: 24.1s\n",
            "706:\tlearn: 0.0516413\ttotal: 57.9s\tremaining: 24s\n",
            "707:\tlearn: 0.0515744\ttotal: 58s\tremaining: 23.9s\n",
            "708:\tlearn: 0.0514531\ttotal: 58.1s\tremaining: 23.8s\n",
            "709:\tlearn: 0.0512638\ttotal: 58.2s\tremaining: 23.8s\n",
            "710:\tlearn: 0.0511666\ttotal: 58.3s\tremaining: 23.7s\n",
            "711:\tlearn: 0.0511046\ttotal: 58.4s\tremaining: 23.6s\n",
            "712:\tlearn: 0.0510478\ttotal: 58.4s\tremaining: 23.5s\n",
            "713:\tlearn: 0.0509424\ttotal: 58.5s\tremaining: 23.4s\n",
            "714:\tlearn: 0.0507979\ttotal: 58.6s\tremaining: 23.4s\n",
            "715:\tlearn: 0.0507193\ttotal: 58.7s\tremaining: 23.3s\n",
            "716:\tlearn: 0.0506594\ttotal: 58.8s\tremaining: 23.2s\n",
            "717:\tlearn: 0.0505461\ttotal: 58.8s\tremaining: 23.1s\n",
            "718:\tlearn: 0.0504737\ttotal: 58.9s\tremaining: 23s\n",
            "719:\tlearn: 0.0503664\ttotal: 59s\tremaining: 22.9s\n",
            "720:\tlearn: 0.0503020\ttotal: 59.1s\tremaining: 22.9s\n",
            "721:\tlearn: 0.0502610\ttotal: 59.2s\tremaining: 22.8s\n",
            "722:\tlearn: 0.0501811\ttotal: 59.3s\tremaining: 22.7s\n",
            "723:\tlearn: 0.0500942\ttotal: 59.3s\tremaining: 22.6s\n",
            "724:\tlearn: 0.0500582\ttotal: 59.4s\tremaining: 22.5s\n",
            "725:\tlearn: 0.0499099\ttotal: 59.5s\tremaining: 22.5s\n",
            "726:\tlearn: 0.0498251\ttotal: 59.6s\tremaining: 22.4s\n",
            "727:\tlearn: 0.0496883\ttotal: 59.7s\tremaining: 22.3s\n",
            "728:\tlearn: 0.0496445\ttotal: 59.7s\tremaining: 22.2s\n",
            "729:\tlearn: 0.0495638\ttotal: 59.8s\tremaining: 22.1s\n",
            "730:\tlearn: 0.0494782\ttotal: 59.9s\tremaining: 22s\n",
            "731:\tlearn: 0.0493953\ttotal: 60s\tremaining: 22s\n",
            "732:\tlearn: 0.0493189\ttotal: 1m\tremaining: 21.9s\n",
            "733:\tlearn: 0.0492433\ttotal: 1m\tremaining: 21.8s\n",
            "734:\tlearn: 0.0492100\ttotal: 1m\tremaining: 21.7s\n",
            "735:\tlearn: 0.0491164\ttotal: 1m\tremaining: 21.6s\n",
            "736:\tlearn: 0.0490693\ttotal: 1m\tremaining: 21.6s\n",
            "737:\tlearn: 0.0490104\ttotal: 1m\tremaining: 21.5s\n",
            "738:\tlearn: 0.0489695\ttotal: 1m\tremaining: 21.4s\n",
            "739:\tlearn: 0.0489328\ttotal: 1m\tremaining: 21.3s\n",
            "740:\tlearn: 0.0489034\ttotal: 1m\tremaining: 21.2s\n",
            "741:\tlearn: 0.0488762\ttotal: 1m\tremaining: 21.1s\n",
            "742:\tlearn: 0.0487739\ttotal: 1m\tremaining: 21.1s\n",
            "743:\tlearn: 0.0487213\ttotal: 1m\tremaining: 21s\n",
            "744:\tlearn: 0.0486320\ttotal: 1m 1s\tremaining: 20.9s\n",
            "745:\tlearn: 0.0485032\ttotal: 1m 1s\tremaining: 20.8s\n",
            "746:\tlearn: 0.0484272\ttotal: 1m 1s\tremaining: 20.7s\n",
            "747:\tlearn: 0.0483179\ttotal: 1m 1s\tremaining: 20.6s\n",
            "748:\tlearn: 0.0482606\ttotal: 1m 1s\tremaining: 20.6s\n",
            "749:\tlearn: 0.0481916\ttotal: 1m 1s\tremaining: 20.5s\n",
            "750:\tlearn: 0.0481333\ttotal: 1m 1s\tremaining: 20.4s\n",
            "751:\tlearn: 0.0480631\ttotal: 1m 1s\tremaining: 20.3s\n",
            "752:\tlearn: 0.0479957\ttotal: 1m 1s\tremaining: 20.2s\n",
            "753:\tlearn: 0.0478695\ttotal: 1m 1s\tremaining: 20.2s\n",
            "754:\tlearn: 0.0477787\ttotal: 1m 1s\tremaining: 20.1s\n",
            "755:\tlearn: 0.0477046\ttotal: 1m 1s\tremaining: 20s\n",
            "756:\tlearn: 0.0475894\ttotal: 1m 2s\tremaining: 19.9s\n",
            "757:\tlearn: 0.0475441\ttotal: 1m 2s\tremaining: 19.8s\n",
            "758:\tlearn: 0.0473862\ttotal: 1m 2s\tremaining: 19.7s\n",
            "759:\tlearn: 0.0473395\ttotal: 1m 2s\tremaining: 19.7s\n",
            "760:\tlearn: 0.0471906\ttotal: 1m 2s\tremaining: 19.6s\n",
            "761:\tlearn: 0.0471204\ttotal: 1m 2s\tremaining: 19.5s\n",
            "762:\tlearn: 0.0470423\ttotal: 1m 2s\tremaining: 19.4s\n",
            "763:\tlearn: 0.0469807\ttotal: 1m 2s\tremaining: 19.3s\n",
            "764:\tlearn: 0.0468975\ttotal: 1m 2s\tremaining: 19.3s\n",
            "765:\tlearn: 0.0467820\ttotal: 1m 2s\tremaining: 19.2s\n",
            "766:\tlearn: 0.0467332\ttotal: 1m 2s\tremaining: 19.1s\n",
            "767:\tlearn: 0.0466977\ttotal: 1m 2s\tremaining: 19s\n",
            "768:\tlearn: 0.0466435\ttotal: 1m 3s\tremaining: 18.9s\n",
            "769:\tlearn: 0.0466127\ttotal: 1m 3s\tremaining: 18.8s\n",
            "770:\tlearn: 0.0465150\ttotal: 1m 3s\tremaining: 18.8s\n",
            "771:\tlearn: 0.0464540\ttotal: 1m 3s\tremaining: 18.7s\n",
            "772:\tlearn: 0.0463692\ttotal: 1m 3s\tremaining: 18.6s\n",
            "773:\tlearn: 0.0463327\ttotal: 1m 3s\tremaining: 18.5s\n",
            "774:\tlearn: 0.0462936\ttotal: 1m 3s\tremaining: 18.4s\n",
            "775:\tlearn: 0.0462222\ttotal: 1m 3s\tremaining: 18.4s\n",
            "776:\tlearn: 0.0461524\ttotal: 1m 3s\tremaining: 18.3s\n",
            "777:\tlearn: 0.0460859\ttotal: 1m 3s\tremaining: 18.2s\n",
            "778:\tlearn: 0.0460343\ttotal: 1m 3s\tremaining: 18.1s\n",
            "779:\tlearn: 0.0459218\ttotal: 1m 3s\tremaining: 18s\n",
            "780:\tlearn: 0.0458253\ttotal: 1m 3s\tremaining: 17.9s\n",
            "781:\tlearn: 0.0457471\ttotal: 1m 4s\tremaining: 17.9s\n",
            "782:\tlearn: 0.0456849\ttotal: 1m 4s\tremaining: 17.8s\n",
            "783:\tlearn: 0.0456049\ttotal: 1m 4s\tremaining: 17.7s\n",
            "784:\tlearn: 0.0455009\ttotal: 1m 4s\tremaining: 17.6s\n",
            "785:\tlearn: 0.0454435\ttotal: 1m 4s\tremaining: 17.5s\n",
            "786:\tlearn: 0.0453856\ttotal: 1m 4s\tremaining: 17.5s\n",
            "787:\tlearn: 0.0453171\ttotal: 1m 4s\tremaining: 17.4s\n",
            "788:\tlearn: 0.0452304\ttotal: 1m 4s\tremaining: 17.3s\n",
            "789:\tlearn: 0.0451730\ttotal: 1m 4s\tremaining: 17.2s\n",
            "790:\tlearn: 0.0451178\ttotal: 1m 4s\tremaining: 17.1s\n",
            "791:\tlearn: 0.0450586\ttotal: 1m 4s\tremaining: 17s\n",
            "792:\tlearn: 0.0449306\ttotal: 1m 4s\tremaining: 17s\n",
            "793:\tlearn: 0.0448735\ttotal: 1m 5s\tremaining: 16.9s\n",
            "794:\tlearn: 0.0448408\ttotal: 1m 5s\tremaining: 16.8s\n",
            "795:\tlearn: 0.0447464\ttotal: 1m 5s\tremaining: 16.7s\n",
            "796:\tlearn: 0.0447284\ttotal: 1m 5s\tremaining: 16.6s\n",
            "797:\tlearn: 0.0446798\ttotal: 1m 5s\tremaining: 16.5s\n",
            "798:\tlearn: 0.0445896\ttotal: 1m 5s\tremaining: 16.5s\n",
            "799:\tlearn: 0.0445314\ttotal: 1m 5s\tremaining: 16.4s\n",
            "800:\tlearn: 0.0444693\ttotal: 1m 5s\tremaining: 16.3s\n",
            "801:\tlearn: 0.0443873\ttotal: 1m 5s\tremaining: 16.2s\n",
            "802:\tlearn: 0.0443395\ttotal: 1m 5s\tremaining: 16.1s\n",
            "803:\tlearn: 0.0443057\ttotal: 1m 5s\tremaining: 16.1s\n",
            "804:\tlearn: 0.0442762\ttotal: 1m 5s\tremaining: 16s\n",
            "805:\tlearn: 0.0442546\ttotal: 1m 6s\tremaining: 15.9s\n",
            "806:\tlearn: 0.0442033\ttotal: 1m 6s\tremaining: 15.8s\n",
            "807:\tlearn: 0.0441459\ttotal: 1m 6s\tremaining: 15.7s\n",
            "808:\tlearn: 0.0440194\ttotal: 1m 6s\tremaining: 15.6s\n",
            "809:\tlearn: 0.0439498\ttotal: 1m 6s\tremaining: 15.6s\n",
            "810:\tlearn: 0.0439126\ttotal: 1m 6s\tremaining: 15.5s\n",
            "811:\tlearn: 0.0438038\ttotal: 1m 6s\tremaining: 15.4s\n",
            "812:\tlearn: 0.0437764\ttotal: 1m 6s\tremaining: 15.3s\n",
            "813:\tlearn: 0.0437075\ttotal: 1m 6s\tremaining: 15.2s\n",
            "814:\tlearn: 0.0436458\ttotal: 1m 6s\tremaining: 15.2s\n",
            "815:\tlearn: 0.0436273\ttotal: 1m 6s\tremaining: 15.1s\n",
            "816:\tlearn: 0.0435465\ttotal: 1m 6s\tremaining: 15s\n",
            "817:\tlearn: 0.0434501\ttotal: 1m 7s\tremaining: 14.9s\n",
            "818:\tlearn: 0.0433834\ttotal: 1m 7s\tremaining: 14.8s\n",
            "819:\tlearn: 0.0433295\ttotal: 1m 7s\tremaining: 14.7s\n",
            "820:\tlearn: 0.0433020\ttotal: 1m 7s\tremaining: 14.7s\n",
            "821:\tlearn: 0.0432161\ttotal: 1m 7s\tremaining: 14.6s\n",
            "822:\tlearn: 0.0431361\ttotal: 1m 7s\tremaining: 14.5s\n",
            "823:\tlearn: 0.0430754\ttotal: 1m 7s\tremaining: 14.4s\n",
            "824:\tlearn: 0.0429882\ttotal: 1m 7s\tremaining: 14.3s\n",
            "825:\tlearn: 0.0429489\ttotal: 1m 7s\tremaining: 14.3s\n",
            "826:\tlearn: 0.0429062\ttotal: 1m 7s\tremaining: 14.2s\n",
            "827:\tlearn: 0.0428812\ttotal: 1m 7s\tremaining: 14.1s\n",
            "828:\tlearn: 0.0428204\ttotal: 1m 7s\tremaining: 14s\n",
            "829:\tlearn: 0.0427785\ttotal: 1m 7s\tremaining: 13.9s\n",
            "830:\tlearn: 0.0427063\ttotal: 1m 8s\tremaining: 13.8s\n",
            "831:\tlearn: 0.0426418\ttotal: 1m 8s\tremaining: 13.8s\n",
            "832:\tlearn: 0.0425822\ttotal: 1m 8s\tremaining: 13.7s\n",
            "833:\tlearn: 0.0425389\ttotal: 1m 8s\tremaining: 13.6s\n",
            "834:\tlearn: 0.0424689\ttotal: 1m 8s\tremaining: 13.5s\n",
            "835:\tlearn: 0.0423995\ttotal: 1m 8s\tremaining: 13.4s\n",
            "836:\tlearn: 0.0423389\ttotal: 1m 8s\tremaining: 13.4s\n",
            "837:\tlearn: 0.0422974\ttotal: 1m 8s\tremaining: 13.3s\n",
            "838:\tlearn: 0.0422698\ttotal: 1m 8s\tremaining: 13.2s\n",
            "839:\tlearn: 0.0422399\ttotal: 1m 8s\tremaining: 13.1s\n",
            "840:\tlearn: 0.0421889\ttotal: 1m 8s\tremaining: 13s\n",
            "841:\tlearn: 0.0421217\ttotal: 1m 8s\tremaining: 12.9s\n",
            "842:\tlearn: 0.0420140\ttotal: 1m 9s\tremaining: 12.9s\n",
            "843:\tlearn: 0.0419387\ttotal: 1m 9s\tremaining: 12.8s\n",
            "844:\tlearn: 0.0418561\ttotal: 1m 9s\tremaining: 12.7s\n",
            "845:\tlearn: 0.0417825\ttotal: 1m 9s\tremaining: 12.6s\n",
            "846:\tlearn: 0.0417174\ttotal: 1m 9s\tremaining: 12.5s\n",
            "847:\tlearn: 0.0416859\ttotal: 1m 9s\tremaining: 12.5s\n",
            "848:\tlearn: 0.0416671\ttotal: 1m 9s\tremaining: 12.4s\n",
            "849:\tlearn: 0.0416296\ttotal: 1m 9s\tremaining: 12.3s\n",
            "850:\tlearn: 0.0416024\ttotal: 1m 9s\tremaining: 12.2s\n",
            "851:\tlearn: 0.0415713\ttotal: 1m 9s\tremaining: 12.1s\n",
            "852:\tlearn: 0.0415082\ttotal: 1m 9s\tremaining: 12s\n",
            "853:\tlearn: 0.0414339\ttotal: 1m 9s\tremaining: 12s\n",
            "854:\tlearn: 0.0413765\ttotal: 1m 10s\tremaining: 11.9s\n",
            "855:\tlearn: 0.0413516\ttotal: 1m 10s\tremaining: 11.8s\n",
            "856:\tlearn: 0.0413207\ttotal: 1m 10s\tremaining: 11.7s\n",
            "857:\tlearn: 0.0412957\ttotal: 1m 10s\tremaining: 11.6s\n",
            "858:\tlearn: 0.0412398\ttotal: 1m 10s\tremaining: 11.6s\n",
            "859:\tlearn: 0.0411250\ttotal: 1m 10s\tremaining: 11.5s\n",
            "860:\tlearn: 0.0411005\ttotal: 1m 10s\tremaining: 11.4s\n",
            "861:\tlearn: 0.0410614\ttotal: 1m 10s\tremaining: 11.3s\n",
            "862:\tlearn: 0.0410391\ttotal: 1m 10s\tremaining: 11.2s\n",
            "863:\tlearn: 0.0410254\ttotal: 1m 10s\tremaining: 11.1s\n",
            "864:\tlearn: 0.0409909\ttotal: 1m 10s\tremaining: 11.1s\n",
            "865:\tlearn: 0.0409453\ttotal: 1m 10s\tremaining: 11s\n",
            "866:\tlearn: 0.0408421\ttotal: 1m 11s\tremaining: 10.9s\n",
            "867:\tlearn: 0.0407892\ttotal: 1m 11s\tremaining: 10.8s\n",
            "868:\tlearn: 0.0407506\ttotal: 1m 11s\tremaining: 10.7s\n",
            "869:\tlearn: 0.0407260\ttotal: 1m 11s\tremaining: 10.7s\n",
            "870:\tlearn: 0.0407033\ttotal: 1m 11s\tremaining: 10.6s\n",
            "871:\tlearn: 0.0406354\ttotal: 1m 11s\tremaining: 10.5s\n",
            "872:\tlearn: 0.0405741\ttotal: 1m 11s\tremaining: 10.4s\n",
            "873:\tlearn: 0.0405342\ttotal: 1m 11s\tremaining: 10.3s\n",
            "874:\tlearn: 0.0404666\ttotal: 1m 11s\tremaining: 10.2s\n",
            "875:\tlearn: 0.0404094\ttotal: 1m 11s\tremaining: 10.2s\n",
            "876:\tlearn: 0.0403441\ttotal: 1m 11s\tremaining: 10.1s\n",
            "877:\tlearn: 0.0402353\ttotal: 1m 11s\tremaining: 10s\n",
            "878:\tlearn: 0.0401981\ttotal: 1m 12s\tremaining: 9.92s\n",
            "879:\tlearn: 0.0401174\ttotal: 1m 12s\tremaining: 9.83s\n",
            "880:\tlearn: 0.0400725\ttotal: 1m 12s\tremaining: 9.75s\n",
            "881:\tlearn: 0.0399790\ttotal: 1m 12s\tremaining: 9.67s\n",
            "882:\tlearn: 0.0399014\ttotal: 1m 12s\tremaining: 9.59s\n",
            "883:\tlearn: 0.0398064\ttotal: 1m 12s\tremaining: 9.51s\n",
            "884:\tlearn: 0.0397578\ttotal: 1m 12s\tremaining: 9.43s\n",
            "885:\tlearn: 0.0396999\ttotal: 1m 12s\tremaining: 9.34s\n",
            "886:\tlearn: 0.0396054\ttotal: 1m 12s\tremaining: 9.26s\n",
            "887:\tlearn: 0.0395605\ttotal: 1m 12s\tremaining: 9.18s\n",
            "888:\tlearn: 0.0394637\ttotal: 1m 12s\tremaining: 9.1s\n",
            "889:\tlearn: 0.0393791\ttotal: 1m 12s\tremaining: 9.02s\n",
            "890:\tlearn: 0.0393243\ttotal: 1m 13s\tremaining: 8.93s\n",
            "891:\tlearn: 0.0392687\ttotal: 1m 13s\tremaining: 8.85s\n",
            "892:\tlearn: 0.0392449\ttotal: 1m 13s\tremaining: 8.77s\n",
            "893:\tlearn: 0.0392261\ttotal: 1m 13s\tremaining: 8.69s\n",
            "894:\tlearn: 0.0391973\ttotal: 1m 13s\tremaining: 8.61s\n",
            "895:\tlearn: 0.0391485\ttotal: 1m 13s\tremaining: 8.53s\n",
            "896:\tlearn: 0.0390930\ttotal: 1m 13s\tremaining: 8.44s\n",
            "897:\tlearn: 0.0390274\ttotal: 1m 13s\tremaining: 8.36s\n",
            "898:\tlearn: 0.0389822\ttotal: 1m 13s\tremaining: 8.28s\n",
            "899:\tlearn: 0.0389225\ttotal: 1m 13s\tremaining: 8.2s\n",
            "900:\tlearn: 0.0388528\ttotal: 1m 13s\tremaining: 8.12s\n",
            "901:\tlearn: 0.0388316\ttotal: 1m 13s\tremaining: 8.03s\n",
            "902:\tlearn: 0.0387433\ttotal: 1m 14s\tremaining: 7.95s\n",
            "903:\tlearn: 0.0387227\ttotal: 1m 14s\tremaining: 7.87s\n",
            "904:\tlearn: 0.0386742\ttotal: 1m 14s\tremaining: 7.79s\n",
            "905:\tlearn: 0.0386204\ttotal: 1m 14s\tremaining: 7.71s\n",
            "906:\tlearn: 0.0385614\ttotal: 1m 14s\tremaining: 7.62s\n",
            "907:\tlearn: 0.0385143\ttotal: 1m 14s\tremaining: 7.54s\n",
            "908:\tlearn: 0.0384290\ttotal: 1m 14s\tremaining: 7.46s\n",
            "909:\tlearn: 0.0383454\ttotal: 1m 14s\tremaining: 7.38s\n",
            "910:\tlearn: 0.0382703\ttotal: 1m 14s\tremaining: 7.3s\n",
            "911:\tlearn: 0.0382242\ttotal: 1m 14s\tremaining: 7.21s\n",
            "912:\tlearn: 0.0381761\ttotal: 1m 14s\tremaining: 7.13s\n",
            "913:\tlearn: 0.0381488\ttotal: 1m 14s\tremaining: 7.05s\n",
            "914:\tlearn: 0.0381169\ttotal: 1m 15s\tremaining: 6.97s\n",
            "915:\tlearn: 0.0380573\ttotal: 1m 15s\tremaining: 6.89s\n",
            "916:\tlearn: 0.0380021\ttotal: 1m 15s\tremaining: 6.8s\n",
            "917:\tlearn: 0.0379623\ttotal: 1m 15s\tremaining: 6.72s\n",
            "918:\tlearn: 0.0379408\ttotal: 1m 15s\tremaining: 6.64s\n",
            "919:\tlearn: 0.0379054\ttotal: 1m 15s\tremaining: 6.56s\n",
            "920:\tlearn: 0.0378189\ttotal: 1m 15s\tremaining: 6.48s\n",
            "921:\tlearn: 0.0377548\ttotal: 1m 15s\tremaining: 6.39s\n",
            "922:\tlearn: 0.0377025\ttotal: 1m 15s\tremaining: 6.31s\n",
            "923:\tlearn: 0.0376503\ttotal: 1m 15s\tremaining: 6.23s\n",
            "924:\tlearn: 0.0376040\ttotal: 1m 15s\tremaining: 6.15s\n",
            "925:\tlearn: 0.0375624\ttotal: 1m 15s\tremaining: 6.07s\n",
            "926:\tlearn: 0.0375306\ttotal: 1m 16s\tremaining: 5.99s\n",
            "927:\tlearn: 0.0374705\ttotal: 1m 16s\tremaining: 5.9s\n",
            "928:\tlearn: 0.0374556\ttotal: 1m 16s\tremaining: 5.82s\n",
            "929:\tlearn: 0.0373851\ttotal: 1m 16s\tremaining: 5.74s\n",
            "930:\tlearn: 0.0373506\ttotal: 1m 16s\tremaining: 5.66s\n",
            "931:\tlearn: 0.0373118\ttotal: 1m 16s\tremaining: 5.58s\n",
            "932:\tlearn: 0.0372741\ttotal: 1m 16s\tremaining: 5.49s\n",
            "933:\tlearn: 0.0372230\ttotal: 1m 16s\tremaining: 5.41s\n",
            "934:\tlearn: 0.0371386\ttotal: 1m 16s\tremaining: 5.33s\n",
            "935:\tlearn: 0.0370674\ttotal: 1m 16s\tremaining: 5.25s\n",
            "936:\tlearn: 0.0370035\ttotal: 1m 16s\tremaining: 5.17s\n",
            "937:\tlearn: 0.0369547\ttotal: 1m 16s\tremaining: 5.08s\n",
            "938:\tlearn: 0.0369110\ttotal: 1m 16s\tremaining: 5s\n",
            "939:\tlearn: 0.0368768\ttotal: 1m 17s\tremaining: 4.92s\n",
            "940:\tlearn: 0.0368310\ttotal: 1m 17s\tremaining: 4.84s\n",
            "941:\tlearn: 0.0367696\ttotal: 1m 17s\tremaining: 4.75s\n",
            "942:\tlearn: 0.0366857\ttotal: 1m 17s\tremaining: 4.67s\n",
            "943:\tlearn: 0.0366081\ttotal: 1m 17s\tremaining: 4.59s\n",
            "944:\tlearn: 0.0365500\ttotal: 1m 17s\tremaining: 4.51s\n",
            "945:\tlearn: 0.0365345\ttotal: 1m 17s\tremaining: 4.43s\n",
            "946:\tlearn: 0.0364884\ttotal: 1m 17s\tremaining: 4.35s\n",
            "947:\tlearn: 0.0363987\ttotal: 1m 17s\tremaining: 4.26s\n",
            "948:\tlearn: 0.0363459\ttotal: 1m 17s\tremaining: 4.18s\n",
            "949:\tlearn: 0.0362565\ttotal: 1m 17s\tremaining: 4.1s\n",
            "950:\tlearn: 0.0362202\ttotal: 1m 18s\tremaining: 4.02s\n",
            "951:\tlearn: 0.0361681\ttotal: 1m 18s\tremaining: 3.94s\n",
            "952:\tlearn: 0.0361214\ttotal: 1m 18s\tremaining: 3.85s\n",
            "953:\tlearn: 0.0360545\ttotal: 1m 18s\tremaining: 3.77s\n",
            "954:\tlearn: 0.0359822\ttotal: 1m 18s\tremaining: 3.69s\n",
            "955:\tlearn: 0.0359324\ttotal: 1m 18s\tremaining: 3.61s\n",
            "956:\tlearn: 0.0359044\ttotal: 1m 18s\tremaining: 3.53s\n",
            "957:\tlearn: 0.0358502\ttotal: 1m 18s\tremaining: 3.44s\n",
            "958:\tlearn: 0.0357776\ttotal: 1m 18s\tremaining: 3.36s\n",
            "959:\tlearn: 0.0357514\ttotal: 1m 18s\tremaining: 3.28s\n",
            "960:\tlearn: 0.0356891\ttotal: 1m 18s\tremaining: 3.2s\n",
            "961:\tlearn: 0.0356619\ttotal: 1m 18s\tremaining: 3.12s\n",
            "962:\tlearn: 0.0356088\ttotal: 1m 18s\tremaining: 3.03s\n",
            "963:\tlearn: 0.0355727\ttotal: 1m 19s\tremaining: 2.95s\n",
            "964:\tlearn: 0.0355386\ttotal: 1m 19s\tremaining: 2.87s\n",
            "965:\tlearn: 0.0355053\ttotal: 1m 19s\tremaining: 2.79s\n",
            "966:\tlearn: 0.0354929\ttotal: 1m 19s\tremaining: 2.71s\n",
            "967:\tlearn: 0.0354740\ttotal: 1m 19s\tremaining: 2.62s\n",
            "968:\tlearn: 0.0354513\ttotal: 1m 19s\tremaining: 2.54s\n",
            "969:\tlearn: 0.0354043\ttotal: 1m 19s\tremaining: 2.46s\n",
            "970:\tlearn: 0.0353631\ttotal: 1m 19s\tremaining: 2.38s\n",
            "971:\tlearn: 0.0353300\ttotal: 1m 19s\tremaining: 2.3s\n",
            "972:\tlearn: 0.0353044\ttotal: 1m 19s\tremaining: 2.21s\n",
            "973:\tlearn: 0.0352494\ttotal: 1m 19s\tremaining: 2.13s\n",
            "974:\tlearn: 0.0351803\ttotal: 1m 19s\tremaining: 2.05s\n",
            "975:\tlearn: 0.0351616\ttotal: 1m 20s\tremaining: 1.97s\n",
            "976:\tlearn: 0.0351108\ttotal: 1m 20s\tremaining: 1.89s\n",
            "977:\tlearn: 0.0350668\ttotal: 1m 20s\tremaining: 1.8s\n",
            "978:\tlearn: 0.0350181\ttotal: 1m 20s\tremaining: 1.72s\n",
            "979:\tlearn: 0.0349882\ttotal: 1m 20s\tremaining: 1.64s\n",
            "980:\tlearn: 0.0349518\ttotal: 1m 20s\tremaining: 1.56s\n",
            "981:\tlearn: 0.0348728\ttotal: 1m 20s\tremaining: 1.48s\n",
            "982:\tlearn: 0.0348233\ttotal: 1m 20s\tremaining: 1.39s\n",
            "983:\tlearn: 0.0347929\ttotal: 1m 20s\tremaining: 1.31s\n",
            "984:\tlearn: 0.0347403\ttotal: 1m 20s\tremaining: 1.23s\n",
            "985:\tlearn: 0.0347237\ttotal: 1m 20s\tremaining: 1.15s\n",
            "986:\tlearn: 0.0346961\ttotal: 1m 20s\tremaining: 1.07s\n",
            "987:\tlearn: 0.0346721\ttotal: 1m 21s\tremaining: 984ms\n",
            "988:\tlearn: 0.0346252\ttotal: 1m 21s\tremaining: 902ms\n",
            "989:\tlearn: 0.0346083\ttotal: 1m 21s\tremaining: 820ms\n",
            "990:\tlearn: 0.0345590\ttotal: 1m 21s\tremaining: 738ms\n",
            "991:\tlearn: 0.0345423\ttotal: 1m 21s\tremaining: 656ms\n",
            "992:\tlearn: 0.0345235\ttotal: 1m 21s\tremaining: 574ms\n",
            "993:\tlearn: 0.0344900\ttotal: 1m 21s\tremaining: 492ms\n",
            "994:\tlearn: 0.0344030\ttotal: 1m 21s\tremaining: 410ms\n",
            "995:\tlearn: 0.0343651\ttotal: 1m 21s\tremaining: 328ms\n",
            "996:\tlearn: 0.0343052\ttotal: 1m 21s\tremaining: 246ms\n",
            "997:\tlearn: 0.0342422\ttotal: 1m 21s\tremaining: 164ms\n",
            "998:\tlearn: 0.0342277\ttotal: 1m 21s\tremaining: 82ms\n",
            "999:\tlearn: 0.0341701\ttotal: 1m 22s\tremaining: 0us\n"
          ],
          "name": "stdout"
        }
      ]
    },
    {
      "cell_type": "code",
      "metadata": {
        "colab": {
          "base_uri": "https://localhost:8080/"
        },
        "id": "wxijsr4NyROC",
        "outputId": "c04fe8d1-0306-44f7-a22e-8296b31646dc"
      },
      "source": [
        "print(recall_cb)\n",
        "print(precision_cb)\n",
        "print(f1_cb)\n",
        "print(auprc_cb)"
      ],
      "execution_count": null,
      "outputs": [
        {
          "output_type": "stream",
          "text": [
            "[0.5185873605947955]\n",
            "[0.5873684210526315]\n",
            "[0.5508390918065152]\n",
            "[0.4273506543362935]\n"
          ],
          "name": "stdout"
        }
      ]
    },
    {
      "cell_type": "code",
      "metadata": {
        "colab": {
          "base_uri": "https://localhost:8080/",
          "height": 130
        },
        "id": "PyPf39TawUNY",
        "outputId": "b2621907-37a0-4d27-a82a-f41d46af91ee"
      },
      "source": [
        "# CB\n",
        "\n",
        "#ADASYN\n",
        "model = CatBoostClassifier()\n",
        "grid_search = GridSearchCV(model, param_grid=param_grid_cb, cv = 3, \n",
        "                verbose=10, n_jobs=-1)\n",
        "\n",
        "grid_search.fit(X_train_adasyn, y_train_adasyn) y_train\n",
        "\n",
        "cb_model = grid_search.best_estimator_\n",
        "\n",
        "y_pred_adasyn_cb = cb_model.predict(X_test.values)\n",
        "\n",
        "recall_cb.append(recall_score(y_test, y_pred_adasyn_cb))\n",
        "precision_cb.append(precision_score(y_test, y_pred_adasyn_cb))\n",
        "f1_cb.append(f1_score(y_test, y_pred_adasyn_cb))\n",
        "auprc_cb.append(average_precision_score(y_test, y_pred_adasyn_cb))\n",
        "\n",
        "#ROS\n",
        "model = CatBoostClassifier()\n",
        "grid_search = GridSearchCV(model, param_grid=param_grid_cb, cv = 3, \n",
        "                verbose=10, n_jobs=-1)\n",
        "\n",
        "grid_search.fit(X_train_ros, y_train_ros)\n",
        "\n",
        "cb_model = grid_search.best_estimator_\n",
        "\n",
        "y_pred_ros_cb = cb_model.predict(X_test.values)\n",
        "\n",
        "recall_cb.append(recall_score(y_test, y_pred_ros_cb))\n",
        "precision_cb.append(precision_score(y_test, y_pred_ros_cb))\n",
        "f1_cb.append(f1_score(y_test, y_pred_ros_cb))\n",
        "auprc_cb.append(average_precision_score(y_test, y_pred_ros_cb))\n",
        "\n",
        "#RUS\n",
        "model = CatBoostClassifier()\n",
        "grid_search = GridSearchCV(model, param_grid=param_grid_cb, cv = 3, \n",
        "                verbose=10, n_jobs=-1)\n",
        "\n",
        "grid_search.fit(X_train_rus, y_train_rus)\n",
        "\n",
        "cb_model = grid_search.best_estimator_\n",
        "\n",
        "y_pred_rus_cb = cb_model.predict(X_test.values)\n",
        "\n",
        "recall_cb.append(recall_score(y_test, y_pred_rus_cb))\n",
        "precision_cb.append(precision_score(y_test, y_pred_rus_cb))\n",
        "f1_cb.append(f1_score(y_test, y_pred_rus_cb))\n",
        "auprc_cb.append(average_precision_score(y_test, y_pred_rus_cb))"
      ],
      "execution_count": null,
      "outputs": [
        {
          "output_type": "error",
          "ename": "SyntaxError",
          "evalue": "ignored",
          "traceback": [
            "\u001b[0;36m  File \u001b[0;32m\"<ipython-input-67-dd2a646b6dbe>\"\u001b[0;36m, line \u001b[0;32m8\u001b[0m\n\u001b[0;31m    grid_search.fit(X_train_adasyn, y_train_adasyn) y_train\u001b[0m\n\u001b[0m                                                          ^\u001b[0m\n\u001b[0;31mSyntaxError\u001b[0m\u001b[0;31m:\u001b[0m invalid syntax\n"
          ]
        }
      ]
    },
    {
      "cell_type": "code",
      "metadata": {
        "id": "oQ4ggrnP1gUw"
      },
      "source": [
        "print(recall_cb)\n",
        "print(precision_cb)\n",
        "print(f1_cb)\n",
        "print(auprc_cb)"
      ],
      "execution_count": null,
      "outputs": []
    },
    {
      "cell_type": "code",
      "metadata": {
        "id": "9tssYHawzzZ7"
      },
      "source": [
        "# CB\n",
        "\n",
        "#SMOTE BL\n",
        "model = CatBoostClassifier()\n",
        "grid_search = GridSearchCV(model, param_grid=param_grid_cb, cv = 3, \n",
        "                verbose=10, n_jobs=-1)\n",
        "\n",
        "grid_search.fit(X_train_smote_bl, y_train_smote_bl)\n",
        "\n",
        "cb_model = grid_search.best_estimator_\n",
        "\n",
        "y_pred_smotebl_cb = cb_model.predict(X_test.values)\n",
        "\n",
        "recall_cb.append(recall_score(y_test, y_pred_smotebl_cb))\n",
        "precision_cb.append(precision_score(y_test, y_pred_smotebl_cb))\n",
        "f1_cb.append(f1_score(y_test, y_pred_smotebl_cb))\n",
        "auprc_cb.append(average_precision_score(y_test, y_pred_smotebl_cb))\n",
        "\n",
        "#SMOTE ENN\n",
        "model = CatBoostClassifier()\n",
        "grid_search = GridSearchCV(model, param_grid=param_grid_cb, cv = 3, \n",
        "                verbose=10, n_jobs=-1)\n",
        "\n",
        "grid_search.fit(X_train_smote_enn, y_train_smote_enn)\n",
        "\n",
        "cb_model = grid_search.best_estimator_\n",
        "\n",
        "y_pred_smote_enn_cb = cb_model.predict(X_test.values)\n",
        "\n",
        "recall_cb.append(recall_score(y_test, y_pred_smote_enn_cb))\n",
        "precision_cb.append(precision_score(y_test, y_pred_smote_enn_cb))\n",
        "f1_cb.append(f1_score(y_test, y_pred_smote_enn_cb))\n",
        "auprc_cb.append(average_precision_score(y_test, y_pred_smote_enn_cb))\n",
        "\n",
        "#SMOTE Tomek\n",
        "model = CatBoostClassifier()\n",
        "grid_search = GridSearchCV(model, param_grid=param_grid_cb, cv = 3, \n",
        "                verbose=10, n_jobs=-1)\n",
        "\n",
        "grid_search.fit(X_train_smote_tomek, y_train_smote_tomek)\n",
        "\n",
        "cb_model = grid_search.best_estimator_\n",
        "\n",
        "y_pred_smote_tomek_cb = cb_model.predict(X_test.values)\n",
        "\n",
        "recall_cb.append(recall_score(y_test, y_pred_smote_tomek_cb))\n",
        "precision_cb.append(precision_score(y_test, y_pred_smote_tomek_cb))\n",
        "f1_cb.append(f1_score(y_test, y_pred_smote_tomek_cb))\n",
        "auprc_cb.append(average_precision_score(y_test, y_pred_smote_tomek_cb))"
      ],
      "execution_count": null,
      "outputs": []
    },
    {
      "cell_type": "code",
      "metadata": {
        "id": "JA3EFsnD1h24"
      },
      "source": [
        "print(recall_cb)\n",
        "print(precision_cb)\n",
        "print(f1_cb)\n",
        "print(auprc_cb)"
      ],
      "execution_count": null,
      "outputs": []
    },
    {
      "cell_type": "code",
      "metadata": {
        "id": "t7ESFv3CX1De"
      },
      "source": [
        "# LGBM\n",
        "import lightgbm as lgb\n",
        "from lightgbm import LGBMClassifier\n",
        "\n",
        "import warnings\n",
        "warnings.filterwarnings(action='ignore')"
      ],
      "execution_count": null,
      "outputs": []
    },
    {
      "cell_type": "code",
      "metadata": {
        "id": "bSPSVB4ZFf0I"
      },
      "source": [
        "# LGBM\n",
        "gridParams_lgbm = {\n",
        "    'learning_rate': [0.005, 0.01, 0.05, 0.1, 0.5],\n",
        "    'n_estimators': [10, 20, 40, 60, 80],\n",
        "    'num_leaves': [6,8,12,16]\n",
        "    }"
      ],
      "execution_count": null,
      "outputs": []
    },
    {
      "cell_type": "code",
      "metadata": {
        "colab": {
          "base_uri": "https://localhost:8080/"
        },
        "id": "DtUeZ7BAFgFv",
        "outputId": "079b9c82-4d31-4acb-9dea-ea1edaff31d7"
      },
      "source": [
        "# LGBM\n",
        "\n",
        "recall_lgbm = []\n",
        "precision_lgbm = []\n",
        "f1_lgbm = []\n",
        "auprc_lgbm = []\n",
        "\n",
        "# SMOTE\n",
        "model = LGBMClassifier()\n",
        "grid_search = GridSearchCV(model, param_grid=gridParams_lgbm, cv = 3, \n",
        "                verbose=10, n_jobs=-1)\n",
        "\n",
        "grid_search.fit(X_train_smote, y_train_smote)\n",
        "\n",
        "lgbm_model = grid_search.best_estimator_\n",
        "\n",
        "y_pred_smote_lgbm = lgbm_model.predict(X_test.values)\n",
        "\n",
        "recall_lgbm.append(recall_score(y_test, y_pred_smote_lgbm))\n",
        "precision_lgbm.append(precision_score(y_test, y_pred_smote_lgbm))\n",
        "f1_lgbm.append(f1_score(y_test, y_pred_smote_lgbm))\n",
        "auprc_lgbm.append(average_precision_score(y_test, y_pred_smote_lgbm))"
      ],
      "execution_count": null,
      "outputs": [
        {
          "output_type": "stream",
          "text": [
            "Fitting 3 folds for each of 100 candidates, totalling 300 fits\n"
          ],
          "name": "stdout"
        },
        {
          "output_type": "stream",
          "text": [
            "[Parallel(n_jobs=-1)]: Using backend LokyBackend with 2 concurrent workers.\n",
            "[Parallel(n_jobs=-1)]: Done   1 tasks      | elapsed:    1.1s\n",
            "[Parallel(n_jobs=-1)]: Done   4 tasks      | elapsed:    1.3s\n",
            "[Parallel(n_jobs=-1)]: Done   9 tasks      | elapsed:    1.4s\n",
            "[Parallel(n_jobs=-1)]: Done  14 tasks      | elapsed:    1.6s\n",
            "[Parallel(n_jobs=-1)]: Batch computation too fast (0.1985s.) Setting batch_size=2.\n",
            "[Parallel(n_jobs=-1)]: Done  21 tasks      | elapsed:    2.0s\n",
            "[Parallel(n_jobs=-1)]: Done  34 tasks      | elapsed:    2.9s\n",
            "[Parallel(n_jobs=-1)]: Done  52 tasks      | elapsed:    4.9s\n",
            "[Parallel(n_jobs=-1)]: Done  70 tasks      | elapsed:    6.3s\n",
            "[Parallel(n_jobs=-1)]: Done  92 tasks      | elapsed:    7.5s\n",
            "[Parallel(n_jobs=-1)]: Done 114 tasks      | elapsed:    9.8s\n",
            "[Parallel(n_jobs=-1)]: Done 140 tasks      | elapsed:   11.4s\n",
            "[Parallel(n_jobs=-1)]: Done 166 tasks      | elapsed:   13.7s\n",
            "[Parallel(n_jobs=-1)]: Done 196 tasks      | elapsed:   16.1s\n",
            "[Parallel(n_jobs=-1)]: Done 226 tasks      | elapsed:   18.5s\n",
            "[Parallel(n_jobs=-1)]: Done 260 tasks      | elapsed:   21.0s\n",
            "[Parallel(n_jobs=-1)]: Done 294 tasks      | elapsed:   23.6s\n",
            "[Parallel(n_jobs=-1)]: Done 300 out of 300 | elapsed:   24.4s finished\n"
          ],
          "name": "stderr"
        }
      ]
    },
    {
      "cell_type": "code",
      "metadata": {
        "colab": {
          "base_uri": "https://localhost:8080/"
        },
        "id": "wiQIQBMPI2Vb",
        "outputId": "d380ec54-b223-4184-d5e5-9243a8a4f49d"
      },
      "source": [
        "print(recall_lgbm)\n",
        "print(precision_lgbm)\n",
        "print(f1_lgbm)\n",
        "print(auprc_lgbm)"
      ],
      "execution_count": null,
      "outputs": [
        {
          "output_type": "stream",
          "text": [
            "[0.6464285714285715]\n",
            "[0.565625]\n",
            "[0.6033333333333334]\n",
            "[0.4594750232735275]\n"
          ],
          "name": "stdout"
        }
      ]
    },
    {
      "cell_type": "code",
      "metadata": {
        "colab": {
          "base_uri": "https://localhost:8080/"
        },
        "id": "0hbgmolWJHPd",
        "outputId": "beebca47-0980-4f58-87c5-46d7a9a84403"
      },
      "source": [
        "# LGBM\n",
        "# ADASYN\n",
        "model = LGBMClassifier()\n",
        "grid_search = GridSearchCV(model, param_grid=gridParams_lgbm, cv = 3, \n",
        "                verbose=10, n_jobs=-1)\n",
        "\n",
        "grid_search.fit(X_train_adasyn, y_train_adasyn)\n",
        "\n",
        "lgbm_model = grid_search.best_estimator_\n",
        "\n",
        "y_pred_adasyn_lgbm = lgbm_model.predict(X_test.values)\n",
        "\n",
        "recall_lgbm.append(recall_score(y_test, y_pred_adasyn_lgbm))\n",
        "precision_lgbm.append(precision_score(y_test, y_pred_adasyn_lgbm))\n",
        "f1_lgbm.append(f1_score(y_test, y_pred_adasyn_lgbm))\n",
        "auprc_lgbm.append(average_precision_score(y_test, y_pred_adasyn_lgbm))\n",
        "\n",
        "# ROS\n",
        "model = LGBMClassifier()\n",
        "grid_search = GridSearchCV(model, param_grid=gridParams_lgbm, cv = 3, \n",
        "                verbose=10, n_jobs=-1)\n",
        "\n",
        "grid_search.fit(X_train_ros, y_train_ros)\n",
        "\n",
        "lgbm_model = grid_search.best_estimator_\n",
        "\n",
        "y_pred_ros_lgbm = lgbm_model.predict(X_test.values)\n",
        "\n",
        "recall_lgbm.append(recall_score(y_test, y_pred_ros_lgbm))\n",
        "precision_lgbm.append(precision_score(y_test, y_pred_ros_lgbm))\n",
        "f1_lgbm.append(f1_score(y_test, y_pred_ros_lgbm))\n",
        "auprc_lgbm.append(average_precision_score(y_test, y_pred_ros_lgbm))\n",
        "\n",
        "# RUS\n",
        "model = LGBMClassifier()\n",
        "grid_search = GridSearchCV(model, param_grid=gridParams_lgbm, cv = 3, \n",
        "                verbose=10, n_jobs=-1)\n",
        "\n",
        "grid_search.fit(X_train_rus, y_train_rus)\n",
        "\n",
        "lgbm_model = grid_search.best_estimator_\n",
        "\n",
        "y_pred_rus_lgbm = lgbm_model.predict(X_test.values)\n",
        "\n",
        "recall_lgbm.append(recall_score(y_test, y_pred_rus_lgbm))\n",
        "precision_lgbm.append(precision_score(y_test, y_pred_rus_lgbm))\n",
        "f1_lgbm.append(f1_score(y_test, y_pred_rus_lgbm))\n",
        "auprc_lgbm.append(average_precision_score(y_test, y_pred_rus_lgbm))"
      ],
      "execution_count": null,
      "outputs": [
        {
          "output_type": "stream",
          "text": [
            "Fitting 3 folds for each of 100 candidates, totalling 300 fits\n"
          ],
          "name": "stdout"
        },
        {
          "output_type": "stream",
          "text": [
            "[Parallel(n_jobs=-1)]: Using backend LokyBackend with 2 concurrent workers.\n",
            "[Parallel(n_jobs=-1)]: Done   1 tasks      | elapsed:    1.2s\n",
            "[Parallel(n_jobs=-1)]: Done   4 tasks      | elapsed:    1.3s\n",
            "[Parallel(n_jobs=-1)]: Done   9 tasks      | elapsed:    1.5s\n",
            "[Parallel(n_jobs=-1)]: Done  14 tasks      | elapsed:    1.7s\n",
            "[Parallel(n_jobs=-1)]: Done  21 tasks      | elapsed:    2.0s\n",
            "[Parallel(n_jobs=-1)]: Done  28 tasks      | elapsed:    2.5s\n",
            "[Parallel(n_jobs=-1)]: Done  37 tasks      | elapsed:    3.3s\n",
            "[Parallel(n_jobs=-1)]: Done  46 tasks      | elapsed:    4.6s\n",
            "[Parallel(n_jobs=-1)]: Done  57 tasks      | elapsed:    6.1s\n",
            "[Parallel(n_jobs=-1)]: Done  68 tasks      | elapsed:    6.9s\n",
            "[Parallel(n_jobs=-1)]: Batch computation too fast (0.1949s.) Setting batch_size=2.\n",
            "[Parallel(n_jobs=-1)]: Done  84 tasks      | elapsed:    7.7s\n",
            "[Parallel(n_jobs=-1)]: Done 110 tasks      | elapsed:   10.4s\n",
            "[Parallel(n_jobs=-1)]: Done 140 tasks      | elapsed:   12.8s\n",
            "[Parallel(n_jobs=-1)]: Done 170 tasks      | elapsed:   15.7s\n",
            "[Parallel(n_jobs=-1)]: Done 204 tasks      | elapsed:   18.3s\n",
            "[Parallel(n_jobs=-1)]: Done 238 tasks      | elapsed:   22.4s\n",
            "[Parallel(n_jobs=-1)]: Done 276 tasks      | elapsed:   24.5s\n",
            "[Parallel(n_jobs=-1)]: Done 300 out of 300 | elapsed:   27.2s finished\n"
          ],
          "name": "stderr"
        },
        {
          "output_type": "stream",
          "text": [
            "Fitting 3 folds for each of 100 candidates, totalling 300 fits\n"
          ],
          "name": "stdout"
        },
        {
          "output_type": "stream",
          "text": [
            "[Parallel(n_jobs=-1)]: Using backend LokyBackend with 2 concurrent workers.\n",
            "[Parallel(n_jobs=-1)]: Done   1 tasks      | elapsed:    0.0s\n",
            "[Parallel(n_jobs=-1)]: Batch computation too fast (0.0422s.) Setting batch_size=2.\n",
            "[Parallel(n_jobs=-1)]: Done   4 tasks      | elapsed:    0.1s\n",
            "[Parallel(n_jobs=-1)]: Batch computation too fast (0.1441s.) Setting batch_size=4.\n",
            "[Parallel(n_jobs=-1)]: Done  16 tasks      | elapsed:    0.5s\n",
            "[Parallel(n_jobs=-1)]: Done  36 tasks      | elapsed:    1.3s\n",
            "[Parallel(n_jobs=-1)]: Done  64 tasks      | elapsed:    3.3s\n",
            "[Parallel(n_jobs=-1)]: Done  92 tasks      | elapsed:    4.2s\n",
            "[Parallel(n_jobs=-1)]: Done 128 tasks      | elapsed:    6.4s\n",
            "[Parallel(n_jobs=-1)]: Done 164 tasks      | elapsed:    8.1s\n",
            "[Parallel(n_jobs=-1)]: Done 208 tasks      | elapsed:   10.2s\n",
            "[Parallel(n_jobs=-1)]: Done 252 tasks      | elapsed:   12.5s\n",
            "[Parallel(n_jobs=-1)]: Done 300 out of 300 | elapsed:   14.9s finished\n"
          ],
          "name": "stderr"
        },
        {
          "output_type": "stream",
          "text": [
            "Fitting 3 folds for each of 100 candidates, totalling 300 fits\n"
          ],
          "name": "stdout"
        },
        {
          "output_type": "stream",
          "text": [
            "[Parallel(n_jobs=-1)]: Using backend LokyBackend with 2 concurrent workers.\n",
            "[Parallel(n_jobs=-1)]: Done   1 tasks      | elapsed:    0.0s\n",
            "[Parallel(n_jobs=-1)]: Batch computation too fast (0.0287s.) Setting batch_size=2.\n",
            "[Parallel(n_jobs=-1)]: Done   4 tasks      | elapsed:    0.1s\n",
            "[Parallel(n_jobs=-1)]: Batch computation too fast (0.0695s.) Setting batch_size=4.\n",
            "[Parallel(n_jobs=-1)]: Done  16 tasks      | elapsed:    0.3s\n",
            "[Parallel(n_jobs=-1)]: Batch computation too fast (0.1724s.) Setting batch_size=8.\n",
            "[Parallel(n_jobs=-1)]: Done  44 tasks      | elapsed:    1.0s\n",
            "[Parallel(n_jobs=-1)]: Done 100 tasks      | elapsed:    2.6s\n",
            "[Parallel(n_jobs=-1)]: Done 156 tasks      | elapsed:    4.1s\n",
            "[Parallel(n_jobs=-1)]: Done 228 tasks      | elapsed:    6.0s\n",
            "[Parallel(n_jobs=-1)]: Done 300 out of 300 | elapsed:    7.9s finished\n"
          ],
          "name": "stderr"
        }
      ]
    },
    {
      "cell_type": "code",
      "metadata": {
        "colab": {
          "base_uri": "https://localhost:8080/"
        },
        "id": "6SfxMB3cJHnQ",
        "outputId": "b9aa6f44-8e72-4de1-835f-d8a6e62d20e9"
      },
      "source": [
        "# LGBM\n",
        "# SMOTE BL\n",
        "model = LGBMClassifier()\n",
        "grid_search = GridSearchCV(model, param_grid=gridParams_lgbm, cv = 3, \n",
        "                verbose=10, n_jobs=-1)\n",
        "\n",
        "grid_search.fit(X_train_smote_bl, y_train_smote_bl)\n",
        "\n",
        "lgbm_model = grid_search.best_estimator_\n",
        "\n",
        "y_pred_smote_bl_lgbm = lgbm_model.predict(X_test.values)\n",
        "\n",
        "recall_lgbm.append(recall_score(y_test, y_pred_smote_bl_lgbm))\n",
        "precision_lgbm.append(precision_score(y_test, y_pred_smote_bl_lgbm))\n",
        "f1_lgbm.append(f1_score(y_test, y_pred_smote_bl_lgbm))\n",
        "auprc_lgbm.append(average_precision_score(y_test, y_pred_smote_bl_lgbm))\n",
        "\n",
        "# SMOTE ENN\n",
        "model = LGBMClassifier()\n",
        "grid_search = GridSearchCV(model, param_grid=gridParams_lgbm, cv = 3, \n",
        "                verbose=10, n_jobs=-1)\n",
        "\n",
        "grid_search.fit(X_train_smote_enn, y_train_smote_enn)\n",
        "\n",
        "lgbm_model = grid_search.best_estimator_\n",
        "\n",
        "y_pred_smote_enn_lgbm = lgbm_model.predict(X_test.values)\n",
        "\n",
        "recall_lgbm.append(recall_score(y_test, y_pred_smote_enn_lgbm))\n",
        "precision_lgbm.append(precision_score(y_test, y_pred_smote_enn_lgbm))\n",
        "f1_lgbm.append(f1_score(y_test, y_pred_smote_enn_lgbm))\n",
        "auprc_lgbm.append(average_precision_score(y_test, y_pred_smote_enn_lgbm))\n",
        "\n",
        "# SMOTE Tomek\n",
        "model = LGBMClassifier()\n",
        "grid_search = GridSearchCV(model, param_grid=gridParams_lgbm, cv = 3, \n",
        "                verbose=10, n_jobs=-1)\n",
        "\n",
        "grid_search.fit(X_train_smote_tomek, y_train_smote_tomek)\n",
        "\n",
        "lgbm_model = grid_search.best_estimator_\n",
        "\n",
        "y_pred_smote_tomek_lgbm = lgbm_model.predict(X_test.values)\n",
        "\n",
        "recall_lgbm.append(recall_score(y_test, y_pred_smote_tomek_lgbm))\n",
        "precision_lgbm.append(precision_score(y_test, y_pred_smote_tomek_lgbm))\n",
        "f1_lgbm.append(f1_score(y_test, y_pred_smote_tomek_lgbm))\n",
        "auprc_lgbm.append(average_precision_score(y_test, y_pred_smote_tomek_lgbm))"
      ],
      "execution_count": null,
      "outputs": [
        {
          "output_type": "stream",
          "text": [
            "[Parallel(n_jobs=-1)]: Using backend LokyBackend with 2 concurrent workers.\n",
            "[Parallel(n_jobs=-1)]: Done   1 tasks      | elapsed:    0.1s\n",
            "[Parallel(n_jobs=-1)]: Batch computation too fast (0.0664s.) Setting batch_size=2.\n"
          ],
          "name": "stderr"
        },
        {
          "output_type": "stream",
          "text": [
            "Fitting 3 folds for each of 100 candidates, totalling 300 fits\n"
          ],
          "name": "stdout"
        },
        {
          "output_type": "stream",
          "text": [
            "[Parallel(n_jobs=-1)]: Done   4 tasks      | elapsed:    0.2s\n",
            "[Parallel(n_jobs=-1)]: Batch computation too fast (0.1609s.) Setting batch_size=4.\n",
            "[Parallel(n_jobs=-1)]: Done  16 tasks      | elapsed:    0.7s\n",
            "[Parallel(n_jobs=-1)]: Done  36 tasks      | elapsed:    2.2s\n",
            "[Parallel(n_jobs=-1)]: Done  64 tasks      | elapsed:    5.4s\n",
            "[Parallel(n_jobs=-1)]: Done  92 tasks      | elapsed:    7.0s\n",
            "[Parallel(n_jobs=-1)]: Done 128 tasks      | elapsed:   10.8s\n",
            "[Parallel(n_jobs=-1)]: Done 164 tasks      | elapsed:   13.5s\n",
            "[Parallel(n_jobs=-1)]: Done 208 tasks      | elapsed:   17.0s\n",
            "[Parallel(n_jobs=-1)]: Done 252 tasks      | elapsed:   21.0s\n",
            "[Parallel(n_jobs=-1)]: Done 300 out of 300 | elapsed:   25.2s finished\n"
          ],
          "name": "stderr"
        },
        {
          "output_type": "stream",
          "text": [
            "Fitting 3 folds for each of 100 candidates, totalling 300 fits\n"
          ],
          "name": "stdout"
        },
        {
          "output_type": "stream",
          "text": [
            "[Parallel(n_jobs=-1)]: Using backend LokyBackend with 2 concurrent workers.\n",
            "[Parallel(n_jobs=-1)]: Done   1 tasks      | elapsed:    0.0s\n",
            "[Parallel(n_jobs=-1)]: Batch computation too fast (0.0403s.) Setting batch_size=2.\n",
            "[Parallel(n_jobs=-1)]: Done   4 tasks      | elapsed:    0.1s\n",
            "[Parallel(n_jobs=-1)]: Batch computation too fast (0.1067s.) Setting batch_size=4.\n",
            "[Parallel(n_jobs=-1)]: Done  16 tasks      | elapsed:    0.4s\n",
            "[Parallel(n_jobs=-1)]: Done  36 tasks      | elapsed:    1.3s\n",
            "[Parallel(n_jobs=-1)]: Done  64 tasks      | elapsed:    3.2s\n",
            "[Parallel(n_jobs=-1)]: Done  92 tasks      | elapsed:    4.2s\n",
            "[Parallel(n_jobs=-1)]: Done 128 tasks      | elapsed:    6.4s\n",
            "[Parallel(n_jobs=-1)]: Done 164 tasks      | elapsed:    8.0s\n",
            "[Parallel(n_jobs=-1)]: Done 208 tasks      | elapsed:   10.3s\n",
            "[Parallel(n_jobs=-1)]: Done 252 tasks      | elapsed:   12.9s\n",
            "[Parallel(n_jobs=-1)]: Done 300 out of 300 | elapsed:   15.8s finished\n"
          ],
          "name": "stderr"
        },
        {
          "output_type": "stream",
          "text": [
            "Fitting 3 folds for each of 100 candidates, totalling 300 fits\n"
          ],
          "name": "stdout"
        },
        {
          "output_type": "stream",
          "text": [
            "[Parallel(n_jobs=-1)]: Using backend LokyBackend with 2 concurrent workers.\n",
            "[Parallel(n_jobs=-1)]: Done   1 tasks      | elapsed:    0.1s\n",
            "[Parallel(n_jobs=-1)]: Batch computation too fast (0.0586s.) Setting batch_size=2.\n",
            "[Parallel(n_jobs=-1)]: Done   4 tasks      | elapsed:    0.1s\n",
            "[Parallel(n_jobs=-1)]: Batch computation too fast (0.1509s.) Setting batch_size=4.\n",
            "[Parallel(n_jobs=-1)]: Done  16 tasks      | elapsed:    0.6s\n",
            "[Parallel(n_jobs=-1)]: Done  36 tasks      | elapsed:    2.0s\n",
            "[Parallel(n_jobs=-1)]: Done  64 tasks      | elapsed:    4.8s\n",
            "[Parallel(n_jobs=-1)]: Done  92 tasks      | elapsed:    6.3s\n",
            "[Parallel(n_jobs=-1)]: Done 128 tasks      | elapsed:    9.6s\n",
            "[Parallel(n_jobs=-1)]: Done 164 tasks      | elapsed:   12.1s\n",
            "[Parallel(n_jobs=-1)]: Done 208 tasks      | elapsed:   15.2s\n",
            "[Parallel(n_jobs=-1)]: Done 252 tasks      | elapsed:   19.0s\n",
            "[Parallel(n_jobs=-1)]: Done 300 out of 300 | elapsed:   22.8s finished\n"
          ],
          "name": "stderr"
        }
      ]
    },
    {
      "cell_type": "code",
      "metadata": {
        "colab": {
          "base_uri": "https://localhost:8080/"
        },
        "id": "mQj4t84HJIIt",
        "outputId": "1b827dc4-b8bd-4330-f0de-66a1fc084b8d"
      },
      "source": [
        "# LGBM\n",
        "print(recall_lgbm)\n",
        "print(precision_lgbm)\n",
        "print(f1_lgbm)\n",
        "print(auprc_lgbm)"
      ],
      "execution_count": null,
      "outputs": [
        {
          "output_type": "stream",
          "text": [
            "[0.6464285714285715, 0.6375, 0.6285714285714286, 0.8071428571428572, 0.6946428571428571, 0.7732142857142857, 0.625]\n",
            "[0.565625, 0.5748792270531401, 0.5325264750378215, 0.5078651685393258, 0.5525568181818182, 0.48926553672316386, 0.5862646566164154]\n",
            "[0.6033333333333334, 0.6045723962743437, 0.5765765765765766, 0.623448275862069, 0.615506329113924, 0.5993079584775086, 0.6050129645635264]\n",
            "[0.4594750232735275, 0.462694038052064, 0.43330912621876333, 0.46110457730139287, 0.46487230094402043, 0.4384966759617334, 0.46594147673597053]\n"
          ],
          "name": "stdout"
        }
      ]
    },
    {
      "cell_type": "code",
      "metadata": {
        "id": "cppcNrelyVe5"
      },
      "source": [
        "# Running logistic regression model\n",
        "from sklearn.linear_model import LogisticRegression\n",
        "model = LogisticRegression()\n",
        "result = model.fit(X_train, y_train)"
      ],
      "execution_count": null,
      "outputs": []
    },
    {
      "cell_type": "code",
      "metadata": {
        "colab": {
          "base_uri": "https://localhost:8080/"
        },
        "id": "FqfLzVYbyVjt",
        "outputId": "2f7fcd2b-f068-4f78-f383-8b8cb57b46c5"
      },
      "source": [
        "from sklearn import metrics\n",
        "prediction_test = model.predict(X_test)\n",
        "# Print the prediction accuracy\n",
        "print(metrics.accuracy_score(y_test, prediction_test))"
      ],
      "execution_count": null,
      "outputs": [
        {
          "output_type": "stream",
          "text": [
            "0.7374407582938388\n"
          ],
          "name": "stdout"
        }
      ]
    },
    {
      "cell_type": "code",
      "metadata": {
        "id": "Z7ducXq8C5gX",
        "colab": {
          "base_uri": "https://localhost:8080/"
        },
        "outputId": "f09a1be0-e959-4985-8b46-532e1594df67"
      },
      "source": [
        "from sklearn.metrics import classification_report\n",
        "print(classification_report(y_test, prediction_test))"
      ],
      "execution_count": null,
      "outputs": [
        {
          "output_type": "stream",
          "text": [
            "              precision    recall  f1-score   support\n",
            "\n",
            "           0       0.92      0.70      0.80      1537\n",
            "           1       0.51      0.83      0.63       573\n",
            "\n",
            "    accuracy                           0.74      2110\n",
            "   macro avg       0.71      0.77      0.71      2110\n",
            "weighted avg       0.81      0.74      0.75      2110\n",
            "\n"
          ],
          "name": "stdout"
        }
      ]
    },
    {
      "cell_type": "code",
      "metadata": {
        "id": "lrK7byU_9RvZ"
      },
      "source": [
        "from imblearn.over_sampling import ADASYN"
      ],
      "execution_count": null,
      "outputs": []
    },
    {
      "cell_type": "code",
      "metadata": {
        "colab": {
          "base_uri": "https://localhost:8080/"
        },
        "id": "1VwvysBC9R1i",
        "outputId": "bf426e56-87c8-4149-d111-11524a97a48d"
      },
      "source": [
        "# transform the dataset\n",
        "oversample = ADASYN()\n",
        "X, y = oversample.fit_resample(X, y)"
      ],
      "execution_count": null,
      "outputs": [
        {
          "output_type": "stream",
          "text": [
            "/usr/local/lib/python3.7/dist-packages/sklearn/utils/deprecation.py:87: FutureWarning: Function safe_indexing is deprecated; safe_indexing is deprecated in version 0.22 and will be removed in version 0.24.\n",
            "  warnings.warn(msg, category=FutureWarning)\n"
          ],
          "name": "stderr"
        }
      ]
    },
    {
      "cell_type": "code",
      "metadata": {
        "id": "FnrgW3de9SCq"
      },
      "source": [
        "# Running logistic regression model\n",
        "from sklearn.linear_model import LogisticRegression\n",
        "model = LogisticRegression()\n",
        "result = model.fit(X_train, y_train)"
      ],
      "execution_count": null,
      "outputs": []
    },
    {
      "cell_type": "code",
      "metadata": {
        "colab": {
          "base_uri": "https://localhost:8080/"
        },
        "id": "z4_nar6a9SJg",
        "outputId": "8899644a-55cb-4795-b9d2-f10a3a30f2de"
      },
      "source": [
        "from sklearn import metrics\n",
        "prediction_test = model.predict(X_test)\n",
        "# Print the prediction accuracy\n",
        "print(metrics.accuracy_score(y_test, prediction_test))"
      ],
      "execution_count": null,
      "outputs": [
        {
          "output_type": "stream",
          "text": [
            "0.7241706161137441\n"
          ],
          "name": "stdout"
        }
      ]
    },
    {
      "cell_type": "code",
      "metadata": {
        "colab": {
          "base_uri": "https://localhost:8080/"
        },
        "id": "cYFnZvI59yRT",
        "outputId": "9fb0f6cf-1da2-4709-950c-69c4d40b3675"
      },
      "source": [
        "from sklearn.metrics import classification_report\n",
        "print(classification_report(y_test, prediction_test))"
      ],
      "execution_count": null,
      "outputs": [
        {
          "output_type": "stream",
          "text": [
            "              precision    recall  f1-score   support\n",
            "\n",
            "           0       0.93      0.69      0.79      1591\n",
            "           1       0.47      0.83      0.60       519\n",
            "\n",
            "    accuracy                           0.72      2110\n",
            "   macro avg       0.70      0.76      0.69      2110\n",
            "weighted avg       0.81      0.72      0.74      2110\n",
            "\n"
          ],
          "name": "stdout"
        }
      ]
    },
    {
      "cell_type": "code",
      "metadata": {
        "colab": {
          "base_uri": "https://localhost:8080/"
        },
        "id": "uL9xzDWA31b_",
        "outputId": "b5cc87ed-ea84-4b18-eeac-fb87e10ff7aa"
      },
      "source": [
        "from sklearn.metrics import precision_recall_curve\n",
        "from sklearn.metrics import auc\n",
        "\n",
        "precision, recall, _ = precision_recall_curve(y_test, prediction_test)\n",
        "auc_score = auc(recall, precision)\n",
        "print('No Skill PR AUC: %.3f' % auc_score)"
      ],
      "execution_count": null,
      "outputs": [
        {
          "output_type": "stream",
          "text": [
            "No Skill PR AUC: 0.695\n"
          ],
          "name": "stdout"
        }
      ]
    },
    {
      "cell_type": "code",
      "metadata": {
        "colab": {
          "base_uri": "https://localhost:8080/"
        },
        "id": "5OIcjwKC31iJ",
        "outputId": "734562db-235e-42b6-b201-10627ae6bc65"
      },
      "source": [
        "type(X_train), type(X_test)"
      ],
      "execution_count": null,
      "outputs": [
        {
          "output_type": "execute_result",
          "data": {
            "text/plain": [
              "(numpy.ndarray, pandas.core.frame.DataFrame)"
            ]
          },
          "metadata": {
            "tags": []
          },
          "execution_count": 26
        }
      ]
    },
    {
      "cell_type": "code",
      "metadata": {
        "colab": {
          "base_uri": "https://localhost:8080/"
        },
        "id": "Ps3k4bC031pV",
        "outputId": "81d32d39-2bc4-480f-e6f5-81f4461fee96"
      },
      "source": [
        "#XGB IMB\n",
        "from xgboost import XGBClassifier\n",
        "model = XGBClassifier()\n",
        "model.fit(X_train, y_train)\n",
        "preds = model.predict(X_test.values)\n",
        "metrics.accuracy_score(y_test, preds)"
      ],
      "execution_count": null,
      "outputs": [
        {
          "output_type": "execute_result",
          "data": {
            "text/plain": [
              "0.771090047393365"
            ]
          },
          "metadata": {
            "tags": []
          },
          "execution_count": 39
        }
      ]
    },
    {
      "cell_type": "code",
      "metadata": {
        "colab": {
          "base_uri": "https://localhost:8080/"
        },
        "id": "DhLk4vnH31vv",
        "outputId": "64b7a1c5-4b5a-412a-bede-a2e2c98455f4"
      },
      "source": [
        "from sklearn.metrics import classification_report\n",
        "print(classification_report(y_test, preds))"
      ],
      "execution_count": null,
      "outputs": [
        {
          "output_type": "stream",
          "text": [
            "              precision    recall  f1-score   support\n",
            "\n",
            "           0       0.87      0.80      0.84      1537\n",
            "           1       0.56      0.69      0.62       573\n",
            "\n",
            "    accuracy                           0.77      2110\n",
            "   macro avg       0.72      0.75      0.73      2110\n",
            "weighted avg       0.79      0.77      0.78      2110\n",
            "\n"
          ],
          "name": "stdout"
        }
      ]
    },
    {
      "cell_type": "code",
      "metadata": {
        "colab": {
          "base_uri": "https://localhost:8080/"
        },
        "id": "j-ZucZ2HVlLH",
        "outputId": "b98fbb8c-bf3d-490d-a1f9-3cb6f3e9dd1b"
      },
      "source": [
        "precision, recall, _ = precision_recall_curve(y_test, preds)\n",
        "auc_score = auc(recall, precision)\n",
        "print('No Tuned XGB PR AUC: %.3f' % auc_score)"
      ],
      "execution_count": null,
      "outputs": [
        {
          "output_type": "stream",
          "text": [
            "No Tuned XGB PR AUC: 0.670\n"
          ],
          "name": "stdout"
        }
      ]
    },
    {
      "cell_type": "code",
      "metadata": {
        "colab": {
          "base_uri": "https://localhost:8080/"
        },
        "id": "2yRe7bI7jJMX",
        "outputId": "d00b24f6-50e3-49d0-e01e-ac4fb23ae501"
      },
      "source": [
        "y_test.shape, preds.shape"
      ],
      "execution_count": null,
      "outputs": [
        {
          "output_type": "execute_result",
          "data": {
            "text/plain": [
              "((2110,), (2110,))"
            ]
          },
          "metadata": {
            "tags": []
          },
          "execution_count": 42
        }
      ]
    },
    {
      "cell_type": "code",
      "metadata": {
        "id": "x5Iv_rEHdXLt"
      },
      "source": [
        "#top 100 recall\n",
        "from sklearn.calibration import CalibratedClassifierCV"
      ],
      "execution_count": null,
      "outputs": []
    },
    {
      "cell_type": "code",
      "metadata": {
        "id": "gbHGxCs3dssq"
      },
      "source": [
        "calibrator = CalibratedClassifierCV(model, cv=3, method='isotonic')\n",
        "calibrator.fit(X_train, y_train)\n",
        "yhat = calibrator.predict_proba(X_test)[:,1]\n",
        "\n",
        "roc_auc = roc_auc_score(y_test, yhat)"
      ],
      "execution_count": null,
      "outputs": []
    },
    {
      "cell_type": "code",
      "metadata": {
        "colab": {
          "base_uri": "https://localhost:8080/"
        },
        "id": "ghPedQ9ods91",
        "outputId": "4e53e2c8-86c1-4d3f-80db-41a3aad3f180"
      },
      "source": [
        "print(roc_auc)"
      ],
      "execution_count": null,
      "outputs": [
        {
          "output_type": "stream",
          "text": [
            "0.8375691636548612\n"
          ],
          "name": "stdout"
        }
      ]
    },
    {
      "cell_type": "code",
      "metadata": {
        "colab": {
          "base_uri": "https://localhost:8080/",
          "height": 324
        },
        "id": "mtB382cUdtH1",
        "outputId": "8733e97c-d7eb-45f0-8007-2cf21ec93490"
      },
      "source": [
        "from sklearn.metrics import classification_report\n",
        "print(classification_report(y_test, yhat))"
      ],
      "execution_count": null,
      "outputs": [
        {
          "output_type": "error",
          "ename": "ValueError",
          "evalue": "ignored",
          "traceback": [
            "\u001b[0;31m---------------------------------------------------------------------------\u001b[0m",
            "\u001b[0;31mValueError\u001b[0m                                Traceback (most recent call last)",
            "\u001b[0;32m<ipython-input-37-966f1d4dce31>\u001b[0m in \u001b[0;36m<module>\u001b[0;34m()\u001b[0m\n\u001b[1;32m      1\u001b[0m \u001b[0;32mfrom\u001b[0m \u001b[0msklearn\u001b[0m\u001b[0;34m.\u001b[0m\u001b[0mmetrics\u001b[0m \u001b[0;32mimport\u001b[0m \u001b[0mclassification_report\u001b[0m\u001b[0;34m\u001b[0m\u001b[0;34m\u001b[0m\u001b[0m\n\u001b[0;32m----> 2\u001b[0;31m \u001b[0mprint\u001b[0m\u001b[0;34m(\u001b[0m\u001b[0mclassification_report\u001b[0m\u001b[0;34m(\u001b[0m\u001b[0my_test\u001b[0m\u001b[0;34m,\u001b[0m \u001b[0myhat\u001b[0m\u001b[0;34m)\u001b[0m\u001b[0;34m)\u001b[0m\u001b[0;34m\u001b[0m\u001b[0;34m\u001b[0m\u001b[0m\n\u001b[0m",
            "\u001b[0;32m/usr/local/lib/python3.7/dist-packages/sklearn/metrics/_classification.py\u001b[0m in \u001b[0;36mclassification_report\u001b[0;34m(y_true, y_pred, labels, target_names, sample_weight, digits, output_dict, zero_division)\u001b[0m\n\u001b[1;32m   1969\u001b[0m     \"\"\"\n\u001b[1;32m   1970\u001b[0m \u001b[0;34m\u001b[0m\u001b[0m\n\u001b[0;32m-> 1971\u001b[0;31m     \u001b[0my_type\u001b[0m\u001b[0;34m,\u001b[0m \u001b[0my_true\u001b[0m\u001b[0;34m,\u001b[0m \u001b[0my_pred\u001b[0m \u001b[0;34m=\u001b[0m \u001b[0m_check_targets\u001b[0m\u001b[0;34m(\u001b[0m\u001b[0my_true\u001b[0m\u001b[0;34m,\u001b[0m \u001b[0my_pred\u001b[0m\u001b[0;34m)\u001b[0m\u001b[0;34m\u001b[0m\u001b[0;34m\u001b[0m\u001b[0m\n\u001b[0m\u001b[1;32m   1972\u001b[0m \u001b[0;34m\u001b[0m\u001b[0m\n\u001b[1;32m   1973\u001b[0m     \u001b[0mlabels_given\u001b[0m \u001b[0;34m=\u001b[0m \u001b[0;32mTrue\u001b[0m\u001b[0;34m\u001b[0m\u001b[0;34m\u001b[0m\u001b[0m\n",
            "\u001b[0;32m/usr/local/lib/python3.7/dist-packages/sklearn/metrics/_classification.py\u001b[0m in \u001b[0;36m_check_targets\u001b[0;34m(y_true, y_pred)\u001b[0m\n\u001b[1;32m     88\u001b[0m     \u001b[0;32mif\u001b[0m \u001b[0mlen\u001b[0m\u001b[0;34m(\u001b[0m\u001b[0my_type\u001b[0m\u001b[0;34m)\u001b[0m \u001b[0;34m>\u001b[0m \u001b[0;36m1\u001b[0m\u001b[0;34m:\u001b[0m\u001b[0;34m\u001b[0m\u001b[0;34m\u001b[0m\u001b[0m\n\u001b[1;32m     89\u001b[0m         raise ValueError(\"Classification metrics can't handle a mix of {0} \"\n\u001b[0;32m---> 90\u001b[0;31m                          \"and {1} targets\".format(type_true, type_pred))\n\u001b[0m\u001b[1;32m     91\u001b[0m \u001b[0;34m\u001b[0m\u001b[0m\n\u001b[1;32m     92\u001b[0m     \u001b[0;31m# We can't have more than one value on y_type => The set is no more needed\u001b[0m\u001b[0;34m\u001b[0m\u001b[0;34m\u001b[0m\u001b[0;34m\u001b[0m\u001b[0m\n",
            "\u001b[0;31mValueError\u001b[0m: Classification metrics can't handle a mix of binary and continuous targets"
          ]
        }
      ]
    },
    {
      "cell_type": "code",
      "metadata": {
        "colab": {
          "base_uri": "https://localhost:8080/"
        },
        "id": "OAq2EHIidtSH",
        "outputId": "68f6f3b3-e96b-4902-f23b-31ad4e985a82"
      },
      "source": [
        "precision, recall, _ = precision_recall_curve(y_test, yhat)\n",
        "auc_score = auc(recall, precision)\n",
        "print('No Tuned XGB PR AUC: %.3f' % auc_score)"
      ],
      "execution_count": null,
      "outputs": [
        {
          "output_type": "stream",
          "text": [
            "No Tuned XGB PR AUC: 0.604\n"
          ],
          "name": "stdout"
        }
      ]
    },
    {
      "cell_type": "code",
      "metadata": {
        "colab": {
          "base_uri": "https://localhost:8080/",
          "height": 885
        },
        "id": "kZILYl9O312Q",
        "outputId": "575daccc-e80b-4acc-adb5-fafa25a3b5b5"
      },
      "source": [
        " #Parameter Tuning\n",
        "from sklearn.model_selection import GridSearchCV\n",
        "\n",
        "model = XGBClassifier()\n",
        "\n",
        "param_dist = {'learning_rate':[0.05,0.1,0.15,0.2,0.25,0.3],\n",
        "    'max_depth'    :[1,2,3,4,5,6,7,8,9,10],\n",
        "    'min_child_weight':[1,3,5,7],\n",
        "    'colsample_bytree':[0.3,0.4,0.5,0.6,0.7],\n",
        "    'gamma':[0.0,0.1,0.2,0.3,0.4,0.5]\n",
        "}\n",
        "\n",
        "grid_search = GridSearchCV(model, param_grid=param_dist, cv = 3, \n",
        "                verbose=10, n_jobs=-1)\n",
        "\n",
        "grid_search.fit(X_train, y_train)\n",
        "\n",
        "xgb_model = grid_search.best_estimator_"
      ],
      "execution_count": null,
      "outputs": [
        {
          "output_type": "stream",
          "text": [
            "Fitting 3 folds for each of 7200 candidates, totalling 21600 fits\n"
          ],
          "name": "stdout"
        },
        {
          "output_type": "stream",
          "text": [
            "[Parallel(n_jobs=-1)]: Using backend LokyBackend with 2 concurrent workers.\n",
            "[Parallel(n_jobs=-1)]: Done   1 tasks      | elapsed:    1.5s\n",
            "[Parallel(n_jobs=-1)]: Done   4 tasks      | elapsed:    2.0s\n",
            "[Parallel(n_jobs=-1)]: Done   9 tasks      | elapsed:    3.0s\n",
            "[Parallel(n_jobs=-1)]: Done  14 tasks      | elapsed:    3.9s\n",
            "[Parallel(n_jobs=-1)]: Done  21 tasks      | elapsed:    5.6s\n",
            "[Parallel(n_jobs=-1)]: Done  28 tasks      | elapsed:    7.3s\n",
            "[Parallel(n_jobs=-1)]: Done  37 tasks      | elapsed:   10.2s\n",
            "[Parallel(n_jobs=-1)]: Done  46 tasks      | elapsed:   13.0s\n",
            "[Parallel(n_jobs=-1)]: Done  57 tasks      | elapsed:   17.8s\n",
            "[Parallel(n_jobs=-1)]: Done  68 tasks      | elapsed:   22.6s\n",
            "[Parallel(n_jobs=-1)]: Done  81 tasks      | elapsed:   30.1s\n",
            "[Parallel(n_jobs=-1)]: Done  94 tasks      | elapsed:   37.9s\n",
            "[Parallel(n_jobs=-1)]: Done 109 tasks      | elapsed:   49.3s\n",
            "[Parallel(n_jobs=-1)]: Done 124 tasks      | elapsed:   57.8s\n",
            "[Parallel(n_jobs=-1)]: Done 141 tasks      | elapsed:  1.0min\n",
            "[Parallel(n_jobs=-1)]: Done 158 tasks      | elapsed:  1.1min\n",
            "[Parallel(n_jobs=-1)]: Done 177 tasks      | elapsed:  1.2min\n",
            "[Parallel(n_jobs=-1)]: Done 196 tasks      | elapsed:  1.4min\n",
            "[Parallel(n_jobs=-1)]: Done 217 tasks      | elapsed:  1.6min\n",
            "[Parallel(n_jobs=-1)]: Done 238 tasks      | elapsed:  1.8min\n",
            "[Parallel(n_jobs=-1)]: Done 261 tasks      | elapsed:  1.9min\n",
            "[Parallel(n_jobs=-1)]: Done 284 tasks      | elapsed:  2.0min\n",
            "[Parallel(n_jobs=-1)]: Done 309 tasks      | elapsed:  2.2min\n",
            "[Parallel(n_jobs=-1)]: Done 334 tasks      | elapsed:  2.4min\n",
            "[Parallel(n_jobs=-1)]: Done 361 tasks      | elapsed:  2.7min\n",
            "[Parallel(n_jobs=-1)]: Done 388 tasks      | elapsed:  2.8min\n",
            "[Parallel(n_jobs=-1)]: Done 417 tasks      | elapsed:  3.0min\n",
            "[Parallel(n_jobs=-1)]: Done 446 tasks      | elapsed:  3.2min\n"
          ],
          "name": "stderr"
        },
        {
          "output_type": "error",
          "ename": "KeyboardInterrupt",
          "evalue": "ignored",
          "traceback": [
            "\u001b[0;31m---------------------------------------------------------------------------\u001b[0m",
            "\u001b[0;31mKeyboardInterrupt\u001b[0m                         Traceback (most recent call last)",
            "\u001b[0;32m<ipython-input-38-0ed02a018a60>\u001b[0m in \u001b[0;36m<module>\u001b[0;34m()\u001b[0m\n\u001b[1;32m     14\u001b[0m                verbose=10, n_jobs=-1)\n\u001b[1;32m     15\u001b[0m \u001b[0;34m\u001b[0m\u001b[0m\n\u001b[0;32m---> 16\u001b[0;31m \u001b[0mgrid_search\u001b[0m\u001b[0;34m.\u001b[0m\u001b[0mfit\u001b[0m\u001b[0;34m(\u001b[0m\u001b[0mX_train\u001b[0m\u001b[0;34m,\u001b[0m \u001b[0my_train\u001b[0m\u001b[0;34m)\u001b[0m\u001b[0;34m\u001b[0m\u001b[0;34m\u001b[0m\u001b[0m\n\u001b[0m\u001b[1;32m     17\u001b[0m \u001b[0;34m\u001b[0m\u001b[0m\n\u001b[1;32m     18\u001b[0m \u001b[0mxgb_model\u001b[0m \u001b[0;34m=\u001b[0m \u001b[0mgrid_search\u001b[0m\u001b[0;34m.\u001b[0m\u001b[0mbest_estimator_\u001b[0m\u001b[0;34m\u001b[0m\u001b[0;34m\u001b[0m\u001b[0m\n",
            "\u001b[0;32m/usr/local/lib/python3.7/dist-packages/sklearn/model_selection/_search.py\u001b[0m in \u001b[0;36mfit\u001b[0;34m(self, X, y, groups, **fit_params)\u001b[0m\n\u001b[1;32m    708\u001b[0m                 \u001b[0;32mreturn\u001b[0m \u001b[0mresults\u001b[0m\u001b[0;34m\u001b[0m\u001b[0;34m\u001b[0m\u001b[0m\n\u001b[1;32m    709\u001b[0m \u001b[0;34m\u001b[0m\u001b[0m\n\u001b[0;32m--> 710\u001b[0;31m             \u001b[0mself\u001b[0m\u001b[0;34m.\u001b[0m\u001b[0m_run_search\u001b[0m\u001b[0;34m(\u001b[0m\u001b[0mevaluate_candidates\u001b[0m\u001b[0;34m)\u001b[0m\u001b[0;34m\u001b[0m\u001b[0;34m\u001b[0m\u001b[0m\n\u001b[0m\u001b[1;32m    711\u001b[0m \u001b[0;34m\u001b[0m\u001b[0m\n\u001b[1;32m    712\u001b[0m         \u001b[0;31m# For multi-metric evaluation, store the best_index_, best_params_ and\u001b[0m\u001b[0;34m\u001b[0m\u001b[0;34m\u001b[0m\u001b[0;34m\u001b[0m\u001b[0m\n",
            "\u001b[0;32m/usr/local/lib/python3.7/dist-packages/sklearn/model_selection/_search.py\u001b[0m in \u001b[0;36m_run_search\u001b[0;34m(self, evaluate_candidates)\u001b[0m\n\u001b[1;32m   1149\u001b[0m     \u001b[0;32mdef\u001b[0m \u001b[0m_run_search\u001b[0m\u001b[0;34m(\u001b[0m\u001b[0mself\u001b[0m\u001b[0;34m,\u001b[0m \u001b[0mevaluate_candidates\u001b[0m\u001b[0;34m)\u001b[0m\u001b[0;34m:\u001b[0m\u001b[0;34m\u001b[0m\u001b[0;34m\u001b[0m\u001b[0m\n\u001b[1;32m   1150\u001b[0m         \u001b[0;34m\"\"\"Search all candidates in param_grid\"\"\"\u001b[0m\u001b[0;34m\u001b[0m\u001b[0;34m\u001b[0m\u001b[0m\n\u001b[0;32m-> 1151\u001b[0;31m         \u001b[0mevaluate_candidates\u001b[0m\u001b[0;34m(\u001b[0m\u001b[0mParameterGrid\u001b[0m\u001b[0;34m(\u001b[0m\u001b[0mself\u001b[0m\u001b[0;34m.\u001b[0m\u001b[0mparam_grid\u001b[0m\u001b[0;34m)\u001b[0m\u001b[0;34m)\u001b[0m\u001b[0;34m\u001b[0m\u001b[0;34m\u001b[0m\u001b[0m\n\u001b[0m\u001b[1;32m   1152\u001b[0m \u001b[0;34m\u001b[0m\u001b[0m\n\u001b[1;32m   1153\u001b[0m \u001b[0;34m\u001b[0m\u001b[0m\n",
            "\u001b[0;32m/usr/local/lib/python3.7/dist-packages/sklearn/model_selection/_search.py\u001b[0m in \u001b[0;36mevaluate_candidates\u001b[0;34m(candidate_params)\u001b[0m\n\u001b[1;32m    687\u001b[0m                                \u001b[0;32mfor\u001b[0m \u001b[0mparameters\u001b[0m\u001b[0;34m,\u001b[0m \u001b[0;34m(\u001b[0m\u001b[0mtrain\u001b[0m\u001b[0;34m,\u001b[0m \u001b[0mtest\u001b[0m\u001b[0;34m)\u001b[0m\u001b[0;34m\u001b[0m\u001b[0;34m\u001b[0m\u001b[0m\n\u001b[1;32m    688\u001b[0m                                in product(candidate_params,\n\u001b[0;32m--> 689\u001b[0;31m                                           cv.split(X, y, groups)))\n\u001b[0m\u001b[1;32m    690\u001b[0m \u001b[0;34m\u001b[0m\u001b[0m\n\u001b[1;32m    691\u001b[0m                 \u001b[0;32mif\u001b[0m \u001b[0mlen\u001b[0m\u001b[0;34m(\u001b[0m\u001b[0mout\u001b[0m\u001b[0;34m)\u001b[0m \u001b[0;34m<\u001b[0m \u001b[0;36m1\u001b[0m\u001b[0;34m:\u001b[0m\u001b[0;34m\u001b[0m\u001b[0;34m\u001b[0m\u001b[0m\n",
            "\u001b[0;32m/usr/local/lib/python3.7/dist-packages/joblib/parallel.py\u001b[0m in \u001b[0;36m__call__\u001b[0;34m(self, iterable)\u001b[0m\n\u001b[1;32m   1052\u001b[0m \u001b[0;34m\u001b[0m\u001b[0m\n\u001b[1;32m   1053\u001b[0m             \u001b[0;32mwith\u001b[0m \u001b[0mself\u001b[0m\u001b[0;34m.\u001b[0m\u001b[0m_backend\u001b[0m\u001b[0;34m.\u001b[0m\u001b[0mretrieval_context\u001b[0m\u001b[0;34m(\u001b[0m\u001b[0;34m)\u001b[0m\u001b[0;34m:\u001b[0m\u001b[0;34m\u001b[0m\u001b[0;34m\u001b[0m\u001b[0m\n\u001b[0;32m-> 1054\u001b[0;31m                 \u001b[0mself\u001b[0m\u001b[0;34m.\u001b[0m\u001b[0mretrieve\u001b[0m\u001b[0;34m(\u001b[0m\u001b[0;34m)\u001b[0m\u001b[0;34m\u001b[0m\u001b[0;34m\u001b[0m\u001b[0m\n\u001b[0m\u001b[1;32m   1055\u001b[0m             \u001b[0;31m# Make sure that we get a last message telling us we are done\u001b[0m\u001b[0;34m\u001b[0m\u001b[0;34m\u001b[0m\u001b[0;34m\u001b[0m\u001b[0m\n\u001b[1;32m   1056\u001b[0m             \u001b[0melapsed_time\u001b[0m \u001b[0;34m=\u001b[0m \u001b[0mtime\u001b[0m\u001b[0;34m.\u001b[0m\u001b[0mtime\u001b[0m\u001b[0;34m(\u001b[0m\u001b[0;34m)\u001b[0m \u001b[0;34m-\u001b[0m \u001b[0mself\u001b[0m\u001b[0;34m.\u001b[0m\u001b[0m_start_time\u001b[0m\u001b[0;34m\u001b[0m\u001b[0;34m\u001b[0m\u001b[0m\n",
            "\u001b[0;32m/usr/local/lib/python3.7/dist-packages/joblib/parallel.py\u001b[0m in \u001b[0;36mretrieve\u001b[0;34m(self)\u001b[0m\n\u001b[1;32m    931\u001b[0m             \u001b[0;32mtry\u001b[0m\u001b[0;34m:\u001b[0m\u001b[0;34m\u001b[0m\u001b[0;34m\u001b[0m\u001b[0m\n\u001b[1;32m    932\u001b[0m                 \u001b[0;32mif\u001b[0m \u001b[0mgetattr\u001b[0m\u001b[0;34m(\u001b[0m\u001b[0mself\u001b[0m\u001b[0;34m.\u001b[0m\u001b[0m_backend\u001b[0m\u001b[0;34m,\u001b[0m \u001b[0;34m'supports_timeout'\u001b[0m\u001b[0;34m,\u001b[0m \u001b[0;32mFalse\u001b[0m\u001b[0;34m)\u001b[0m\u001b[0;34m:\u001b[0m\u001b[0;34m\u001b[0m\u001b[0;34m\u001b[0m\u001b[0m\n\u001b[0;32m--> 933\u001b[0;31m                     \u001b[0mself\u001b[0m\u001b[0;34m.\u001b[0m\u001b[0m_output\u001b[0m\u001b[0;34m.\u001b[0m\u001b[0mextend\u001b[0m\u001b[0;34m(\u001b[0m\u001b[0mjob\u001b[0m\u001b[0;34m.\u001b[0m\u001b[0mget\u001b[0m\u001b[0;34m(\u001b[0m\u001b[0mtimeout\u001b[0m\u001b[0;34m=\u001b[0m\u001b[0mself\u001b[0m\u001b[0;34m.\u001b[0m\u001b[0mtimeout\u001b[0m\u001b[0;34m)\u001b[0m\u001b[0;34m)\u001b[0m\u001b[0;34m\u001b[0m\u001b[0;34m\u001b[0m\u001b[0m\n\u001b[0m\u001b[1;32m    934\u001b[0m                 \u001b[0;32melse\u001b[0m\u001b[0;34m:\u001b[0m\u001b[0;34m\u001b[0m\u001b[0;34m\u001b[0m\u001b[0m\n\u001b[1;32m    935\u001b[0m                     \u001b[0mself\u001b[0m\u001b[0;34m.\u001b[0m\u001b[0m_output\u001b[0m\u001b[0;34m.\u001b[0m\u001b[0mextend\u001b[0m\u001b[0;34m(\u001b[0m\u001b[0mjob\u001b[0m\u001b[0;34m.\u001b[0m\u001b[0mget\u001b[0m\u001b[0;34m(\u001b[0m\u001b[0;34m)\u001b[0m\u001b[0;34m)\u001b[0m\u001b[0;34m\u001b[0m\u001b[0;34m\u001b[0m\u001b[0m\n",
            "\u001b[0;32m/usr/local/lib/python3.7/dist-packages/joblib/_parallel_backends.py\u001b[0m in \u001b[0;36mwrap_future_result\u001b[0;34m(future, timeout)\u001b[0m\n\u001b[1;32m    540\u001b[0m         AsyncResults.get from multiprocessing.\"\"\"\n\u001b[1;32m    541\u001b[0m         \u001b[0;32mtry\u001b[0m\u001b[0;34m:\u001b[0m\u001b[0;34m\u001b[0m\u001b[0;34m\u001b[0m\u001b[0m\n\u001b[0;32m--> 542\u001b[0;31m             \u001b[0;32mreturn\u001b[0m \u001b[0mfuture\u001b[0m\u001b[0;34m.\u001b[0m\u001b[0mresult\u001b[0m\u001b[0;34m(\u001b[0m\u001b[0mtimeout\u001b[0m\u001b[0;34m=\u001b[0m\u001b[0mtimeout\u001b[0m\u001b[0;34m)\u001b[0m\u001b[0;34m\u001b[0m\u001b[0;34m\u001b[0m\u001b[0m\n\u001b[0m\u001b[1;32m    543\u001b[0m         \u001b[0;32mexcept\u001b[0m \u001b[0mCfTimeoutError\u001b[0m \u001b[0;32mas\u001b[0m \u001b[0me\u001b[0m\u001b[0;34m:\u001b[0m\u001b[0;34m\u001b[0m\u001b[0;34m\u001b[0m\u001b[0m\n\u001b[1;32m    544\u001b[0m             \u001b[0;32mraise\u001b[0m \u001b[0mTimeoutError\u001b[0m \u001b[0;32mfrom\u001b[0m \u001b[0me\u001b[0m\u001b[0;34m\u001b[0m\u001b[0;34m\u001b[0m\u001b[0m\n",
            "\u001b[0;32m/usr/lib/python3.7/concurrent/futures/_base.py\u001b[0m in \u001b[0;36mresult\u001b[0;34m(self, timeout)\u001b[0m\n\u001b[1;32m    428\u001b[0m                 \u001b[0;32mreturn\u001b[0m \u001b[0mself\u001b[0m\u001b[0;34m.\u001b[0m\u001b[0m__get_result\u001b[0m\u001b[0;34m(\u001b[0m\u001b[0;34m)\u001b[0m\u001b[0;34m\u001b[0m\u001b[0;34m\u001b[0m\u001b[0m\n\u001b[1;32m    429\u001b[0m \u001b[0;34m\u001b[0m\u001b[0m\n\u001b[0;32m--> 430\u001b[0;31m             \u001b[0mself\u001b[0m\u001b[0;34m.\u001b[0m\u001b[0m_condition\u001b[0m\u001b[0;34m.\u001b[0m\u001b[0mwait\u001b[0m\u001b[0;34m(\u001b[0m\u001b[0mtimeout\u001b[0m\u001b[0;34m)\u001b[0m\u001b[0;34m\u001b[0m\u001b[0;34m\u001b[0m\u001b[0m\n\u001b[0m\u001b[1;32m    431\u001b[0m \u001b[0;34m\u001b[0m\u001b[0m\n\u001b[1;32m    432\u001b[0m             \u001b[0;32mif\u001b[0m \u001b[0mself\u001b[0m\u001b[0;34m.\u001b[0m\u001b[0m_state\u001b[0m \u001b[0;32min\u001b[0m \u001b[0;34m[\u001b[0m\u001b[0mCANCELLED\u001b[0m\u001b[0;34m,\u001b[0m \u001b[0mCANCELLED_AND_NOTIFIED\u001b[0m\u001b[0;34m]\u001b[0m\u001b[0;34m:\u001b[0m\u001b[0;34m\u001b[0m\u001b[0;34m\u001b[0m\u001b[0m\n",
            "\u001b[0;32m/usr/lib/python3.7/threading.py\u001b[0m in \u001b[0;36mwait\u001b[0;34m(self, timeout)\u001b[0m\n\u001b[1;32m    294\u001b[0m         \u001b[0;32mtry\u001b[0m\u001b[0;34m:\u001b[0m    \u001b[0;31m# restore state no matter what (e.g., KeyboardInterrupt)\u001b[0m\u001b[0;34m\u001b[0m\u001b[0;34m\u001b[0m\u001b[0m\n\u001b[1;32m    295\u001b[0m             \u001b[0;32mif\u001b[0m \u001b[0mtimeout\u001b[0m \u001b[0;32mis\u001b[0m \u001b[0;32mNone\u001b[0m\u001b[0;34m:\u001b[0m\u001b[0;34m\u001b[0m\u001b[0;34m\u001b[0m\u001b[0m\n\u001b[0;32m--> 296\u001b[0;31m                 \u001b[0mwaiter\u001b[0m\u001b[0;34m.\u001b[0m\u001b[0macquire\u001b[0m\u001b[0;34m(\u001b[0m\u001b[0;34m)\u001b[0m\u001b[0;34m\u001b[0m\u001b[0;34m\u001b[0m\u001b[0m\n\u001b[0m\u001b[1;32m    297\u001b[0m                 \u001b[0mgotit\u001b[0m \u001b[0;34m=\u001b[0m \u001b[0;32mTrue\u001b[0m\u001b[0;34m\u001b[0m\u001b[0;34m\u001b[0m\u001b[0m\n\u001b[1;32m    298\u001b[0m             \u001b[0;32melse\u001b[0m\u001b[0;34m:\u001b[0m\u001b[0;34m\u001b[0m\u001b[0;34m\u001b[0m\u001b[0m\n",
            "\u001b[0;31mKeyboardInterrupt\u001b[0m: "
          ]
        }
      ]
    },
    {
      "cell_type": "code",
      "metadata": {
        "id": "XfZcFrcUIsUe"
      },
      "source": [
        "preds = xgb_model.predict(X_test.values)\n",
        "\n",
        "metrics.accuracy_score(y_test, preds)\n",
        "\n",
        "print(classification_report(y_test, preds))"
      ],
      "execution_count": null,
      "outputs": []
    },
    {
      "cell_type": "code",
      "metadata": {
        "colab": {
          "base_uri": "https://localhost:8080/"
        },
        "id": "dU3hyT9LKxvM",
        "outputId": "7a32d789-e1d0-4636-c04a-ad93b60c7c29"
      },
      "source": [
        "precision, recall, _ = precision_recall_curve(y_test, preds)\n",
        "auc_score = auc(recall, precision)\n",
        "print('No Tuned XGB PR AUC: %.3f' % auc_score)"
      ],
      "execution_count": null,
      "outputs": [
        {
          "output_type": "stream",
          "text": [
            "No Tuned XGB PR AUC: 0.618\n"
          ],
          "name": "stdout"
        }
      ]
    },
    {
      "cell_type": "code",
      "metadata": {
        "id": "vblSLTcoKx5A"
      },
      "source": [
        "#ANN\n",
        "#CNN\n",
        "#LSTM\n",
        "#XGB\n",
        "#CB\n",
        "#LGBM"
      ],
      "execution_count": null,
      "outputs": []
    },
    {
      "cell_type": "code",
      "metadata": {
        "id": "OsS-CQ1DCH-z"
      },
      "source": [
        "from tensorflow.keras.models import Sequential\n",
        "from tensorflow.keras import Input, Model\n",
        "from tensorflow.keras.layers import Dense, Dropout, Activation\n",
        "from sklearn.model_selection import train_test_split\n",
        "\n",
        "import numpy as np"
      ],
      "execution_count": null,
      "outputs": []
    },
    {
      "cell_type": "code",
      "metadata": {
        "colab": {
          "base_uri": "https://localhost:8080/"
        },
        "id": "fO5Aah9wwxUx",
        "outputId": "274e05bc-98b0-46ca-e309-2ab79e337513"
      },
      "source": [
        "X_train.shape, X_test.shape, y_train.shape, y_test.shape"
      ],
      "execution_count": null,
      "outputs": [
        {
          "output_type": "execute_result",
          "data": {
            "text/plain": [
              "((7152, 45), (2110, 45), (7152,), (2110,))"
            ]
          },
          "metadata": {
            "tags": []
          },
          "execution_count": 40
        }
      ]
    },
    {
      "cell_type": "code",
      "metadata": {
        "id": "T-OV3qLtCMS8"
      },
      "source": [
        "X_train = np.array(X_train)\n",
        "y_train = np.array(y_train)\n",
        "\n",
        "X_test = np.array(X_test)\n",
        "y_test = np.array(y_test)\n",
        "\n",
        "input_shape = X_train.shape[1]"
      ],
      "execution_count": null,
      "outputs": []
    },
    {
      "cell_type": "code",
      "metadata": {
        "colab": {
          "base_uri": "https://localhost:8080/"
        },
        "id": "99NFQu6vzVTt",
        "outputId": "b67d785e-1d6d-4462-9a75-aa61124ac3ab"
      },
      "source": [
        "model = Sequential()\n",
        "model.add(Dense(32, input_dim=input_shape, kernel_initializer='uniform', activation='relu'))\n",
        "model.add(Dropout(0.2))\n",
        "model.add(Dense(64, activation='relu'))\n",
        "model.add(Dropout(0.5))\n",
        "model.add(Dense(128, activation='relu'))\n",
        "model.add(Dropout(0.7))\n",
        "model.add(Dense(1, activation='sigmoid'))\n",
        "\n",
        "\n",
        "\n",
        "model.compile(loss='binary_crossentropy',\n",
        "              optimizer='adam',\n",
        "              metrics=['accuracy'])\n",
        "\n",
        "\n",
        "model.fit(X_train, y_train,\n",
        "              epochs=25,\n",
        "          batch_size=24, class_weight={0:0.4, 1:0.6})"
      ],
      "execution_count": null,
      "outputs": [
        {
          "output_type": "stream",
          "text": [
            "Epoch 1/25\n",
            "298/298 [==============================] - 1s 2ms/step - loss: 0.3092 - accuracy: 0.6271\n",
            "Epoch 2/25\n",
            "298/298 [==============================] - 1s 2ms/step - loss: 0.2642 - accuracy: 0.7270\n",
            "Epoch 3/25\n",
            "298/298 [==============================] - 1s 2ms/step - loss: 0.2582 - accuracy: 0.7148\n",
            "Epoch 4/25\n",
            "298/298 [==============================] - 1s 2ms/step - loss: 0.2547 - accuracy: 0.7319\n",
            "Epoch 5/25\n",
            "298/298 [==============================] - 1s 2ms/step - loss: 0.2462 - accuracy: 0.7412\n",
            "Epoch 6/25\n",
            "298/298 [==============================] - 1s 2ms/step - loss: 0.2464 - accuracy: 0.7493\n",
            "Epoch 7/25\n",
            "298/298 [==============================] - 1s 2ms/step - loss: 0.2450 - accuracy: 0.7458\n",
            "Epoch 8/25\n",
            "298/298 [==============================] - 1s 2ms/step - loss: 0.2401 - accuracy: 0.7484\n",
            "Epoch 9/25\n",
            "298/298 [==============================] - 1s 2ms/step - loss: 0.2356 - accuracy: 0.7574\n",
            "Epoch 10/25\n",
            "298/298 [==============================] - 1s 2ms/step - loss: 0.2309 - accuracy: 0.7539\n",
            "Epoch 11/25\n",
            "298/298 [==============================] - 1s 2ms/step - loss: 0.2334 - accuracy: 0.7606\n",
            "Epoch 12/25\n",
            "298/298 [==============================] - 1s 2ms/step - loss: 0.2244 - accuracy: 0.7770\n",
            "Epoch 13/25\n",
            "298/298 [==============================] - 1s 2ms/step - loss: 0.2277 - accuracy: 0.7691\n",
            "Epoch 14/25\n",
            "298/298 [==============================] - 1s 2ms/step - loss: 0.2259 - accuracy: 0.7717\n",
            "Epoch 15/25\n",
            "298/298 [==============================] - 1s 2ms/step - loss: 0.2203 - accuracy: 0.7785\n",
            "Epoch 16/25\n",
            "298/298 [==============================] - 1s 2ms/step - loss: 0.2250 - accuracy: 0.7724\n",
            "Epoch 17/25\n",
            "298/298 [==============================] - 1s 2ms/step - loss: 0.2254 - accuracy: 0.7787\n",
            "Epoch 18/25\n",
            "298/298 [==============================] - 1s 2ms/step - loss: 0.2195 - accuracy: 0.7795\n",
            "Epoch 19/25\n",
            "298/298 [==============================] - 1s 2ms/step - loss: 0.2176 - accuracy: 0.7801\n",
            "Epoch 20/25\n",
            "298/298 [==============================] - 1s 2ms/step - loss: 0.2148 - accuracy: 0.7870\n",
            "Epoch 21/25\n",
            "298/298 [==============================] - 1s 2ms/step - loss: 0.2119 - accuracy: 0.7919\n",
            "Epoch 22/25\n",
            "298/298 [==============================] - 1s 2ms/step - loss: 0.2156 - accuracy: 0.7894\n",
            "Epoch 23/25\n",
            "298/298 [==============================] - 1s 2ms/step - loss: 0.2131 - accuracy: 0.7880\n",
            "Epoch 24/25\n",
            "298/298 [==============================] - 1s 2ms/step - loss: 0.2100 - accuracy: 0.7938\n",
            "Epoch 25/25\n",
            "298/298 [==============================] - 1s 2ms/step - loss: 0.2121 - accuracy: 0.7903\n"
          ],
          "name": "stdout"
        },
        {
          "output_type": "execute_result",
          "data": {
            "text/plain": [
              "<tensorflow.python.keras.callbacks.History at 0x7fb29de09750>"
            ]
          },
          "metadata": {
            "tags": []
          },
          "execution_count": 49
        }
      ]
    },
    {
      "cell_type": "code",
      "metadata": {
        "colab": {
          "base_uri": "https://localhost:8080/"
        },
        "id": "ClkMtmmozVhD",
        "outputId": "1322ae23-55cf-4468-e4ae-a6e726dd2aaa"
      },
      "source": [
        "score = model.evaluate(X_test, y_test, batch_size=20)"
      ],
      "execution_count": null,
      "outputs": [
        {
          "output_type": "stream",
          "text": [
            "106/106 [==============================] - 0s 1ms/step - loss: 0.5798 - accuracy: 0.6919\n"
          ],
          "name": "stdout"
        }
      ]
    },
    {
      "cell_type": "code",
      "metadata": {
        "colab": {
          "base_uri": "https://localhost:8080/"
        },
        "id": "OXpDQ4xGzVoN",
        "outputId": "4b5b1963-80b7-45b1-fb6e-fc38a97fa178"
      },
      "source": [
        "print(score)\n",
        "print (\"Accuracy : %s\" % \"{0:.3%}\".format(score[1]))"
      ],
      "execution_count": null,
      "outputs": [
        {
          "output_type": "stream",
          "text": [
            "[0.5797812938690186, 0.6919431090354919]\n",
            "Accuracy : 69.194%\n"
          ],
          "name": "stdout"
        }
      ]
    },
    {
      "cell_type": "code",
      "metadata": {
        "colab": {
          "base_uri": "https://localhost:8080/"
        },
        "id": "Tl0-yNvuC--I",
        "outputId": "1bf7cb7b-879e-4a9b-c703-8cfd9975ef0d"
      },
      "source": [
        "train_pred_dl=model.predict_classes(X_train)\n",
        "test_pred_dl=model.predict_classes(X_test)"
      ],
      "execution_count": null,
      "outputs": [
        {
          "output_type": "stream",
          "text": [
            "/usr/local/lib/python3.7/dist-packages/tensorflow/python/keras/engine/sequential.py:450: UserWarning: `model.predict_classes()` is deprecated and will be removed after 2021-01-01. Please use instead:* `np.argmax(model.predict(x), axis=-1)`,   if your model does multi-class classification   (e.g. if it uses a `softmax` last-layer activation).* `(model.predict(x) > 0.5).astype(\"int32\")`,   if your model does binary classification   (e.g. if it uses a `sigmoid` last-layer activation).\n",
            "  warnings.warn('`model.predict_classes()` is deprecated and '\n"
          ],
          "name": "stderr"
        }
      ]
    },
    {
      "cell_type": "code",
      "metadata": {
        "colab": {
          "base_uri": "https://localhost:8080/"
        },
        "id": "SN1PGZB9zVvU",
        "outputId": "4b40e30d-17c6-43a3-eaf9-4f01eea5e4c3"
      },
      "source": [
        "from sklearn import metrics\n",
        "mlp_conf_matrix = metrics.confusion_matrix(y_test, test_pred_dl)\n",
        "print (mlp_conf_matrix)"
      ],
      "execution_count": null,
      "outputs": [
        {
          "output_type": "stream",
          "text": [
            "[[1022  569]\n",
            " [  81  438]]\n"
          ],
          "name": "stdout"
        }
      ]
    },
    {
      "cell_type": "code",
      "metadata": {
        "colab": {
          "base_uri": "https://localhost:8080/"
        },
        "id": "NjIKHnHuDEIW",
        "outputId": "5d44cace-e8f3-4bcb-f9fd-71ce8a57d1a2"
      },
      "source": [
        "print(classification_report(y_test,test_pred_dl))"
      ],
      "execution_count": null,
      "outputs": [
        {
          "output_type": "stream",
          "text": [
            "              precision    recall  f1-score   support\n",
            "\n",
            "           0       0.93      0.64      0.76      1591\n",
            "           1       0.43      0.84      0.57       519\n",
            "\n",
            "    accuracy                           0.69      2110\n",
            "   macro avg       0.68      0.74      0.67      2110\n",
            "weighted avg       0.81      0.69      0.71      2110\n",
            "\n"
          ],
          "name": "stdout"
        }
      ]
    },
    {
      "cell_type": "code",
      "metadata": {
        "colab": {
          "base_uri": "https://localhost:8080/"
        },
        "id": "h6gOtW9Bn_gX",
        "outputId": "76ee894d-d876-4619-966e-7322fa1c055d"
      },
      "source": [
        "precision, recall, _ = precision_recall_curve(y_test, test_pred_dl)\n",
        "auc_score = auc(recall, precision)\n",
        "print('No Tuned XGB PR AUC: %.3f' % auc_score)"
      ],
      "execution_count": null,
      "outputs": [
        {
          "output_type": "stream",
          "text": [
            "No Tuned XGB PR AUC: 0.659\n"
          ],
          "name": "stdout"
        }
      ]
    },
    {
      "cell_type": "code",
      "metadata": {
        "colab": {
          "base_uri": "https://localhost:8080/"
        },
        "id": "baEB7ZItzVzm",
        "outputId": "2686ea56-b950-4dbb-c0ce-41b9bd8e9d0b"
      },
      "source": [
        "accuracy = metrics.accuracy_score(y_test,test_pred_dl)\n",
        "    \n",
        "print (\"Accuracy : %s\" % \"{0:.3%}\".format(accuracy))\n",
        "\n",
        "#Print Recall\n",
        "recall = metrics.recall_score(y_test,test_pred_dl)\n",
        "    \n",
        "print (\"Recall : %s\" % \"{0:.3%}\".format(recall))"
      ],
      "execution_count": null,
      "outputs": [
        {
          "output_type": "stream",
          "text": [
            "Accuracy : 69.194%\n",
            "Recall : 84.393%\n"
          ],
          "name": "stdout"
        }
      ]
    },
    {
      "cell_type": "code",
      "metadata": {
        "colab": {
          "base_uri": "https://localhost:8080/",
          "height": 181
        },
        "id": "x4ekQWbPzUC4",
        "outputId": "2d33e731-3569-45d3-8776-b17dcedc3eed"
      },
      "source": [
        "from sklearn.metrics import roc_auc_score\n",
        "print(roc_auc_score(y_test,test_pred_dl))"
      ],
      "execution_count": null,
      "outputs": [
        {
          "output_type": "error",
          "ename": "NameError",
          "evalue": "ignored",
          "traceback": [
            "\u001b[0;31m---------------------------------------------------------------------------\u001b[0m",
            "\u001b[0;31mNameError\u001b[0m                                 Traceback (most recent call last)",
            "\u001b[0;32m<ipython-input-34-702f44492362>\u001b[0m in \u001b[0;36m<module>\u001b[0;34m()\u001b[0m\n\u001b[1;32m      1\u001b[0m \u001b[0;32mfrom\u001b[0m \u001b[0msklearn\u001b[0m\u001b[0;34m.\u001b[0m\u001b[0mmetrics\u001b[0m \u001b[0;32mimport\u001b[0m \u001b[0mroc_auc_score\u001b[0m\u001b[0;34m\u001b[0m\u001b[0;34m\u001b[0m\u001b[0m\n\u001b[0;32m----> 2\u001b[0;31m \u001b[0mprint\u001b[0m\u001b[0;34m(\u001b[0m\u001b[0mroc_auc_score\u001b[0m\u001b[0;34m(\u001b[0m\u001b[0my_test\u001b[0m\u001b[0;34m,\u001b[0m\u001b[0mtest_pred_dl\u001b[0m\u001b[0;34m)\u001b[0m\u001b[0;34m)\u001b[0m\u001b[0;34m\u001b[0m\u001b[0;34m\u001b[0m\u001b[0m\n\u001b[0m",
            "\u001b[0;31mNameError\u001b[0m: name 'test_pred_dl' is not defined"
          ]
        }
      ]
    },
    {
      "cell_type": "code",
      "metadata": {
        "id": "FF_5nvESbI2B"
      },
      "source": [
        "class_weight=int(np.count_nonzero(y_train == 0)/np.count_nonzero(y_train == 1))"
      ],
      "execution_count": null,
      "outputs": []
    },
    {
      "cell_type": "code",
      "metadata": {
        "colab": {
          "base_uri": "https://localhost:8080/"
        },
        "id": "MRAYXfB9Ze4M",
        "outputId": "b70ab7d6-5241-4b5f-8196-aef8717e3d1f"
      },
      "source": [
        "XGBoost = XGBClassifier()\n",
        "\n",
        "xgboost_param_grid={\n",
        "    'learning_rate':[0.05,0.1,0.15,0.2,0.25,0.3],\n",
        "    'max_depth'    :[1,2,3,4,5,6,7,8,9,10],\n",
        "    'min_child_weight':[1,3,5,7],\n",
        "    'colsample_bytree':[0.3,0.4,0.5,0.6,0.7],\n",
        "    'gamma':[0.0,0.1,0.2,0.3,0.4,0.5]\n",
        "}\n",
        "\n",
        "from sklearn.model_selection import RandomizedSearchCV\n",
        "from sklearn.model_selection import StratifiedKFold\n",
        "\n",
        "kfold=StratifiedKFold(n_splits=5, shuffle=True)\n",
        "\n",
        "gsXGoost = RandomizedSearchCV(estimator=XGBoost,param_distributions=xgboost_param_grid,\n",
        "                                     cv =kfold,n_jobs=1)\n",
        "\n",
        "\n",
        "gsXGoost.fit(X_train, y_train)"
      ],
      "execution_count": null,
      "outputs": [
        {
          "output_type": "execute_result",
          "data": {
            "text/plain": [
              "RandomizedSearchCV(cv=StratifiedKFold(n_splits=5, random_state=None, shuffle=True),\n",
              "                   error_score=nan,\n",
              "                   estimator=XGBClassifier(base_score=0.5, booster='gbtree',\n",
              "                                           colsample_bylevel=1,\n",
              "                                           colsample_bynode=1,\n",
              "                                           colsample_bytree=1, gamma=0,\n",
              "                                           learning_rate=0.1, max_delta_step=0,\n",
              "                                           max_depth=3, min_child_weight=1,\n",
              "                                           missing=None, n_estimators=100,\n",
              "                                           n_jobs=1, nthread=None,\n",
              "                                           objective='bi...\n",
              "                                           verbosity=1),\n",
              "                   iid='deprecated', n_iter=10, n_jobs=1,\n",
              "                   param_distributions={'colsample_bytree': [0.3, 0.4, 0.5, 0.6,\n",
              "                                                             0.7],\n",
              "                                        'gamma': [0.0, 0.1, 0.2, 0.3, 0.4, 0.5],\n",
              "                                        'learning_rate': [0.05, 0.1, 0.15, 0.2,\n",
              "                                                          0.25, 0.3],\n",
              "                                        'max_depth': [1, 2, 3, 4, 5, 6, 7, 8, 9,\n",
              "                                                      10],\n",
              "                                        'min_child_weight': [1, 3, 5, 7]},\n",
              "                   pre_dispatch='2*n_jobs', random_state=None, refit=True,\n",
              "                   return_train_score=False, scoring=None, verbose=0)"
            ]
          },
          "metadata": {
            "tags": []
          },
          "execution_count": 68
        }
      ]
    },
    {
      "cell_type": "code",
      "metadata": {
        "colab": {
          "base_uri": "https://localhost:8080/"
        },
        "id": "DQxrWzp4JGh_",
        "outputId": "7eb4f47d-a47d-491f-854a-f9f4a7f96a76"
      },
      "source": [
        "XGBOOST_best = gsXGoost.best_estimator_\n",
        "\n",
        "# Best score\n",
        "gsXGoost.best_score_"
      ],
      "execution_count": null,
      "outputs": [
        {
          "output_type": "execute_result",
          "data": {
            "text/plain": [
              "0.8467548244906735"
            ]
          },
          "metadata": {
            "tags": []
          },
          "execution_count": 69
        }
      ]
    },
    {
      "cell_type": "code",
      "metadata": {
        "colab": {
          "base_uri": "https://localhost:8080/"
        },
        "id": "74AFn2Xjc28a",
        "outputId": "64b4ff59-cf07-4432-e2fe-7fd5b0dc2b1a"
      },
      "source": [
        "preds = gsXGoost.predict(X_test)\n",
        "\n",
        "metrics.accuracy_score(y_test, preds)\n",
        "\n",
        "print(classification_report(y_test, preds))\n",
        "\n",
        "precision, recall, _ = precision_recall_curve(y_test, preds)\n",
        "auc_score = auc(recall, precision)\n",
        "print('No Tuned XGB PR AUC: %.3f' % auc_score)"
      ],
      "execution_count": null,
      "outputs": [
        {
          "output_type": "stream",
          "text": [
            "              precision    recall  f1-score   support\n",
            "\n",
            "           0       0.87      0.85      0.86      1591\n",
            "           1       0.58      0.61      0.59       519\n",
            "\n",
            "    accuracy                           0.79      2110\n",
            "   macro avg       0.72      0.73      0.73      2110\n",
            "weighted avg       0.80      0.79      0.80      2110\n",
            "\n",
            "No Tuned XGB PR AUC: 0.643\n"
          ],
          "name": "stdout"
        }
      ]
    },
    {
      "cell_type": "code",
      "metadata": {
        "id": "MgnkR-Dkc3Gl"
      },
      "source": [
        ""
      ],
      "execution_count": null,
      "outputs": []
    },
    {
      "cell_type": "code",
      "metadata": {
        "id": "cDDkw56Ic3RT"
      },
      "source": [
        ""
      ],
      "execution_count": null,
      "outputs": []
    },
    {
      "cell_type": "code",
      "metadata": {
        "id": "dzKPYTW-7ptR"
      },
      "source": [
        "# Обзор признаков"
      ],
      "execution_count": null,
      "outputs": []
    },
    {
      "cell_type": "code",
      "metadata": {
        "id": "RD80tf4H8IGd"
      },
      "source": [
        "# Типы данных"
      ],
      "execution_count": null,
      "outputs": []
    },
    {
      "cell_type": "code",
      "metadata": {
        "id": "K0EyfTYP8IJv"
      },
      "source": [
        "# Важность по Илье"
      ],
      "execution_count": null,
      "outputs": []
    },
    {
      "cell_type": "code",
      "metadata": {
        "id": "HlUkqyUX8INH"
      },
      "source": [
        "# Кодирование 1"
      ],
      "execution_count": null,
      "outputs": []
    },
    {
      "cell_type": "code",
      "metadata": {
        "id": "-QG51pdx8IQh"
      },
      "source": [
        "# Кодирование 2"
      ],
      "execution_count": null,
      "outputs": []
    },
    {
      "cell_type": "code",
      "metadata": {
        "id": "tNF22Xgm8IUJ"
      },
      "source": [
        "# Кодирование 3"
      ],
      "execution_count": null,
      "outputs": []
    },
    {
      "cell_type": "code",
      "metadata": {
        "id": "XVCN6Tyb8IX5"
      },
      "source": [
        "# Кодирование 4"
      ],
      "execution_count": null,
      "outputs": []
    },
    {
      "cell_type": "code",
      "metadata": {
        "id": "0R9ioLjq8Iau"
      },
      "source": [
        "# XGBoost"
      ],
      "execution_count": null,
      "outputs": []
    },
    {
      "cell_type": "code",
      "metadata": {
        "id": "8sTtDmPi8Idx"
      },
      "source": [
        ""
      ],
      "execution_count": null,
      "outputs": []
    }
  ]
}